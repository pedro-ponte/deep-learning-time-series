{
 "cells": [
  {
   "cell_type": "markdown",
   "metadata": {
    "colab_type": "text",
    "id": "view-in-github"
   },
   "source": [
    "<a href=\"https://colab.research.google.com/github/pedro-ponte/deep-learning-time-series/blob/master/notebooks/test.ipynb\" target=\"_parent\"><img src=\"https://colab.research.google.com/assets/colab-badge.svg\" alt=\"Open In Colab\"/></a>"
   ]
  },
  {
   "cell_type": "code",
   "execution_count": 1,
   "metadata": {
    "colab": {
     "base_uri": "https://localhost:8080/",
     "height": 34
    },
    "colab_type": "code",
    "id": "5q1DUIGZA59y",
    "outputId": "340b563c-e9b5-4e52-baf5-4b4c793e942d"
   },
   "outputs": [],
   "source": [
    "import os\n",
    "import numpy as np\n",
    "import pandas as pd\n",
    "import tqdm"
   ]
  },
  {
   "cell_type": "code",
   "execution_count": 2,
   "metadata": {
    "colab": {},
    "colab_type": "code",
    "id": "vUWuVdciA8IU"
   },
   "outputs": [],
   "source": [
    "def get_data_df(data_path=\"../data/raw/jena_climate_2009_2016.csv\"):\n",
    "    df = pd.read_csv(data_path)\n",
    "    df.set_index('Date Time', inplace=True)\n",
    "    return df"
   ]
  },
  {
   "cell_type": "code",
   "execution_count": 3,
   "metadata": {},
   "outputs": [],
   "source": [
    "df = get_data_df()"
   ]
  },
  {
   "cell_type": "code",
   "execution_count": 4,
   "metadata": {},
   "outputs": [
    {
     "data": {
      "text/plain": [
       "(420551, 14)"
      ]
     },
     "execution_count": 4,
     "metadata": {},
     "output_type": "execute_result"
    }
   ],
   "source": [
    "df.shape"
   ]
  },
  {
   "cell_type": "code",
   "execution_count": 5,
   "metadata": {},
   "outputs": [
    {
     "data": {
      "text/html": [
       "<div>\n",
       "<style scoped>\n",
       "    .dataframe tbody tr th:only-of-type {\n",
       "        vertical-align: middle;\n",
       "    }\n",
       "\n",
       "    .dataframe tbody tr th {\n",
       "        vertical-align: top;\n",
       "    }\n",
       "\n",
       "    .dataframe thead th {\n",
       "        text-align: right;\n",
       "    }\n",
       "</style>\n",
       "<table border=\"1\" class=\"dataframe\">\n",
       "  <thead>\n",
       "    <tr style=\"text-align: right;\">\n",
       "      <th></th>\n",
       "      <th>p (mbar)</th>\n",
       "      <th>T (degC)</th>\n",
       "      <th>Tpot (K)</th>\n",
       "      <th>Tdew (degC)</th>\n",
       "      <th>rh (%)</th>\n",
       "      <th>VPmax (mbar)</th>\n",
       "      <th>VPact (mbar)</th>\n",
       "      <th>VPdef (mbar)</th>\n",
       "      <th>sh (g/kg)</th>\n",
       "      <th>H2OC (mmol/mol)</th>\n",
       "      <th>rho (g/m**3)</th>\n",
       "      <th>wv (m/s)</th>\n",
       "      <th>max. wv (m/s)</th>\n",
       "      <th>wd (deg)</th>\n",
       "    </tr>\n",
       "    <tr>\n",
       "      <th>Date Time</th>\n",
       "      <th></th>\n",
       "      <th></th>\n",
       "      <th></th>\n",
       "      <th></th>\n",
       "      <th></th>\n",
       "      <th></th>\n",
       "      <th></th>\n",
       "      <th></th>\n",
       "      <th></th>\n",
       "      <th></th>\n",
       "      <th></th>\n",
       "      <th></th>\n",
       "      <th></th>\n",
       "      <th></th>\n",
       "    </tr>\n",
       "  </thead>\n",
       "  <tbody>\n",
       "    <tr>\n",
       "      <th>01.01.2009 00:10:00</th>\n",
       "      <td>996.52</td>\n",
       "      <td>-8.02</td>\n",
       "      <td>265.40</td>\n",
       "      <td>-8.90</td>\n",
       "      <td>93.3</td>\n",
       "      <td>3.33</td>\n",
       "      <td>3.11</td>\n",
       "      <td>0.22</td>\n",
       "      <td>1.94</td>\n",
       "      <td>3.12</td>\n",
       "      <td>1307.75</td>\n",
       "      <td>1.03</td>\n",
       "      <td>1.75</td>\n",
       "      <td>152.3</td>\n",
       "    </tr>\n",
       "    <tr>\n",
       "      <th>01.01.2009 00:20:00</th>\n",
       "      <td>996.57</td>\n",
       "      <td>-8.41</td>\n",
       "      <td>265.01</td>\n",
       "      <td>-9.28</td>\n",
       "      <td>93.4</td>\n",
       "      <td>3.23</td>\n",
       "      <td>3.02</td>\n",
       "      <td>0.21</td>\n",
       "      <td>1.89</td>\n",
       "      <td>3.03</td>\n",
       "      <td>1309.80</td>\n",
       "      <td>0.72</td>\n",
       "      <td>1.50</td>\n",
       "      <td>136.1</td>\n",
       "    </tr>\n",
       "    <tr>\n",
       "      <th>01.01.2009 00:30:00</th>\n",
       "      <td>996.53</td>\n",
       "      <td>-8.51</td>\n",
       "      <td>264.91</td>\n",
       "      <td>-9.31</td>\n",
       "      <td>93.9</td>\n",
       "      <td>3.21</td>\n",
       "      <td>3.01</td>\n",
       "      <td>0.20</td>\n",
       "      <td>1.88</td>\n",
       "      <td>3.02</td>\n",
       "      <td>1310.24</td>\n",
       "      <td>0.19</td>\n",
       "      <td>0.63</td>\n",
       "      <td>171.6</td>\n",
       "    </tr>\n",
       "    <tr>\n",
       "      <th>01.01.2009 00:40:00</th>\n",
       "      <td>996.51</td>\n",
       "      <td>-8.31</td>\n",
       "      <td>265.12</td>\n",
       "      <td>-9.07</td>\n",
       "      <td>94.2</td>\n",
       "      <td>3.26</td>\n",
       "      <td>3.07</td>\n",
       "      <td>0.19</td>\n",
       "      <td>1.92</td>\n",
       "      <td>3.08</td>\n",
       "      <td>1309.19</td>\n",
       "      <td>0.34</td>\n",
       "      <td>0.50</td>\n",
       "      <td>198.0</td>\n",
       "    </tr>\n",
       "    <tr>\n",
       "      <th>01.01.2009 00:50:00</th>\n",
       "      <td>996.51</td>\n",
       "      <td>-8.27</td>\n",
       "      <td>265.15</td>\n",
       "      <td>-9.04</td>\n",
       "      <td>94.1</td>\n",
       "      <td>3.27</td>\n",
       "      <td>3.08</td>\n",
       "      <td>0.19</td>\n",
       "      <td>1.92</td>\n",
       "      <td>3.09</td>\n",
       "      <td>1309.00</td>\n",
       "      <td>0.32</td>\n",
       "      <td>0.63</td>\n",
       "      <td>214.3</td>\n",
       "    </tr>\n",
       "  </tbody>\n",
       "</table>\n",
       "</div>"
      ],
      "text/plain": [
       "                     p (mbar)  T (degC)  Tpot (K)  Tdew (degC)  rh (%)  \\\n",
       "Date Time                                                                \n",
       "01.01.2009 00:10:00    996.52     -8.02    265.40        -8.90    93.3   \n",
       "01.01.2009 00:20:00    996.57     -8.41    265.01        -9.28    93.4   \n",
       "01.01.2009 00:30:00    996.53     -8.51    264.91        -9.31    93.9   \n",
       "01.01.2009 00:40:00    996.51     -8.31    265.12        -9.07    94.2   \n",
       "01.01.2009 00:50:00    996.51     -8.27    265.15        -9.04    94.1   \n",
       "\n",
       "                     VPmax (mbar)  VPact (mbar)  VPdef (mbar)  sh (g/kg)  \\\n",
       "Date Time                                                                  \n",
       "01.01.2009 00:10:00          3.33          3.11          0.22       1.94   \n",
       "01.01.2009 00:20:00          3.23          3.02          0.21       1.89   \n",
       "01.01.2009 00:30:00          3.21          3.01          0.20       1.88   \n",
       "01.01.2009 00:40:00          3.26          3.07          0.19       1.92   \n",
       "01.01.2009 00:50:00          3.27          3.08          0.19       1.92   \n",
       "\n",
       "                     H2OC (mmol/mol)  rho (g/m**3)  wv (m/s)  max. wv (m/s)  \\\n",
       "Date Time                                                                     \n",
       "01.01.2009 00:10:00             3.12       1307.75      1.03           1.75   \n",
       "01.01.2009 00:20:00             3.03       1309.80      0.72           1.50   \n",
       "01.01.2009 00:30:00             3.02       1310.24      0.19           0.63   \n",
       "01.01.2009 00:40:00             3.08       1309.19      0.34           0.50   \n",
       "01.01.2009 00:50:00             3.09       1309.00      0.32           0.63   \n",
       "\n",
       "                     wd (deg)  \n",
       "Date Time                      \n",
       "01.01.2009 00:10:00     152.3  \n",
       "01.01.2009 00:20:00     136.1  \n",
       "01.01.2009 00:30:00     171.6  \n",
       "01.01.2009 00:40:00     198.0  \n",
       "01.01.2009 00:50:00     214.3  "
      ]
     },
     "execution_count": 5,
     "metadata": {},
     "output_type": "execute_result"
    }
   ],
   "source": [
    "df.head(5)"
   ]
  },
  {
   "cell_type": "code",
   "execution_count": 8,
   "metadata": {},
   "outputs": [],
   "source": [
    "lookback = 1440 # 5 days\n",
    "step = 6 # one sample per hour\n",
    "delay = 144 # 24 hours\n",
    "\n",
    "df_data = df.copy(deep=True)\n",
    "df_data['target'] = df_data['T (degC)'].shift(-1*delay)\n",
    "df_data.dropna(how='any', axis=0, inplace=True)\n",
    "\n",
    "\n",
    "\n",
    "X = df_data.drop(columns=['target'])\n",
    "y = df_data['target']\n",
    "\n",
    "mean = X.iloc[:200000].mean(axis=0)\n",
    "# X_norm = X - mean\n",
    "std = X.iloc[:200000].std(axis=0)\n",
    "X_norm = (X - mean)/std\n",
    "y_norm = (y - mean['T (degC)'])/std['T (degC)']\n",
    "# good_indices = (np.abs(X_norm) > 10).sum(axis=1) == 0\n",
    "# X_norm = X_norm[good_indices]\n",
    "# y_norm = y_norm[good_indices]\n",
    "\n"
   ]
  },
  {
   "cell_type": "code",
   "execution_count": 9,
   "metadata": {},
   "outputs": [],
   "source": [
    "def transform_data_to_rnn_shape(X, y, X_index, lookback=50, step=1):\n",
    "    sequences = np.hstack((X, y[:, np.newaxis]))\n",
    "    print(sequences.shape)\n",
    "    X_rnn, y_rnn, X_index_rnn = list(), list(), list()\n",
    "#     X_rnn, y_rnn, X_index_rnn = np.empty((0, lookback//step, X.shape[1])), list(), list()\n",
    "    for i in tqdm.tqdm(range(len(sequences))):\n",
    "        end_ix  = i + lookback\n",
    "        if end_ix > len(sequences): break\n",
    "        seq_x, seq_y = \\\n",
    "            sequences[\n",
    "                list(range(end_ix - 1, i-1, -step))[::-1], :-1], sequences[end_ix-1, -1]\n",
    "        X_rnn.append(seq_x)\n",
    "        y_rnn.append(seq_y)\n",
    "        X_index_rnn.append(X_index[end_ix-1])\n",
    "    print(\"done loop\")\n",
    "        \n",
    "    \n",
    "            \n",
    "    X_rnn = np.asarray(X_rnn)\n",
    "    print(\"done first array\")\n",
    "    y_rnn = np.asarray(y_rnn)\n",
    "    X_index_rnn = np.asarray(X_index_rnn)\n",
    "    print(\"done all array\")\n",
    "\n",
    "    return {\"X_rnn\": X_rnn, \"y_rnn\": y_rnn, \"X_index_rnn\": X_index_rnn}\n",
    "            "
   ]
  },
  {
   "cell_type": "code",
   "execution_count": 95,
   "metadata": {},
   "outputs": [
    {
     "data": {
      "text/plain": [
       "(420387, 14)"
      ]
     },
     "execution_count": 95,
     "metadata": {},
     "output_type": "execute_result"
    }
   ],
   "source": [
    "X_norm.shape"
   ]
  },
  {
   "cell_type": "code",
   "execution_count": 96,
   "metadata": {},
   "outputs": [
    {
     "data": {
      "text/plain": [
       "(420407, 14)"
      ]
     },
     "execution_count": 96,
     "metadata": {},
     "output_type": "execute_result"
    }
   ],
   "source": [
    "X.shape"
   ]
  },
  {
   "cell_type": "code",
   "execution_count": 139,
   "metadata": {},
   "outputs": [
    {
     "data": {
      "text/plain": [
       "-8.877632    1\n",
       "-8.818673    1\n",
       "-8.429543    2\n",
       "-8.323416    1\n",
       "-8.299833    1\n",
       "            ..\n",
       " 8.537405    2\n",
       " 8.539471    1\n",
       " 8.551367    1\n",
       " 8.562196    1\n",
       " 8.661363    1\n",
       "Length: 75815, dtype: int64"
      ]
     },
     "execution_count": 139,
     "metadata": {},
     "output_type": "execute_result"
    }
   ],
   "source": [
    "pd.Series(X_norm.values.flatten()).value_counts().sort_index()"
   ]
  },
  {
   "cell_type": "code",
   "execution_count": 10,
   "metadata": {},
   "outputs": [
    {
     "name": "stderr",
     "output_type": "stream",
     "text": [
      "  1%|          | 2316/420407 [00:00<00:18, 23156.99it/s]"
     ]
    },
    {
     "name": "stdout",
     "output_type": "stream",
     "text": [
      "(420407, 15)\n"
     ]
    },
    {
     "name": "stderr",
     "output_type": "stream",
     "text": [
      " 99%|█████████▉| 417344/420407 [00:20<00:00, 21452.58it/s]"
     ]
    },
    {
     "name": "stdout",
     "output_type": "stream",
     "text": [
      "done loop\n"
     ]
    },
    {
     "name": "stderr",
     "output_type": "stream",
     "text": [
      " 99%|█████████▉| 417344/420407 [00:40<00:00, 21452.58it/s]"
     ]
    },
    {
     "name": "stdout",
     "output_type": "stream",
     "text": [
      "done first array\n",
      "done all array\n"
     ]
    }
   ],
   "source": [
    "data_transf_results = transform_data_to_rnn_shape(X_norm.values, y_norm.values, X.index, lookback=lookback, step=step)"
   ]
  },
  {
   "cell_type": "code",
   "execution_count": 34,
   "metadata": {},
   "outputs": [],
   "source": [
    "X_rnn = data_transf_results[\"X_rnn\"]\n",
    "y_rnn = data_transf_results[\"y_rnn\"]\n",
    "X_index_rnn = data_transf_results[\"X_index_rnn\"]"
   ]
  },
  {
   "cell_type": "code",
   "execution_count": 35,
   "metadata": {},
   "outputs": [
    {
     "data": {
      "text/plain": [
       "array(['11.01.2009 00:00:00', '11.01.2009 00:10:00',\n",
       "       '11.01.2009 00:20:00', ..., '30.12.2016 23:40:00',\n",
       "       '30.12.2016 23:50:00', '31.12.2016 00:00:00'], dtype='<U19')"
      ]
     },
     "execution_count": 35,
     "metadata": {},
     "output_type": "execute_result"
    }
   ],
   "source": [
    "X_index_rnn"
   ]
  },
  {
   "cell_type": "code",
   "execution_count": 36,
   "metadata": {},
   "outputs": [
    {
     "data": {
      "text/plain": [
       "(418968, 240, 14)"
      ]
     },
     "execution_count": 36,
     "metadata": {},
     "output_type": "execute_result"
    }
   ],
   "source": [
    "X_rnn.shape"
   ]
  },
  {
   "cell_type": "code",
   "execution_count": 27,
   "metadata": {},
   "outputs": [],
   "source": [
    "# # from keras.models import Sequential\n",
    "# from keras import layers\n",
    "# # from keras.optimizers import RMSprop, Adam\n",
    "# from kerastuner.tuners import RandomSearch, Hyperband\n",
    "# from kerastuner.engine.hypermodel import HyperModel\n",
    "# from kerastuner.engine.hyperparameters import HyperParameters\n",
    "# # from tensorflow import keras\n",
    "# # from tensorflow.keras import layers\n",
    "# from kerastuner.tuners import RandomSearch\n",
    "# import keras\n",
    "# import keras.optimizers\n",
    "# import keras.layers\n",
    "\n",
    "from tensorflow import keras\n",
    "from tensorflow.keras import layers\n",
    "from kerastuner.tuners import RandomSearch, Hyperband\n",
    "\n",
    "# def build_gru(hidden_units, dropout, recurrent_dropout, learning_rate):\n",
    "\n",
    "#     model = Sequential()\n",
    "#     model.add(layers.GRU(hidden_units, \n",
    "#                          dropout=dropout,\n",
    "#                          recurrent_dropout=recurrent_dropout,\n",
    "#                          input_shape=(X_rnn.shape[1], X_rnn.shape[-1])))\n",
    "#     model.add(layers.Dense(1))\n",
    "\n",
    "#     model.compile(optimizer=Adam(learning_rate=learning_rate), loss='mae', metric=['mae'])\n",
    "#     return model\n",
    "\n",
    "#                              hp.Int('hidden_units',\n",
    "#                                 min_value=10,\n",
    "#                                 max_value=100,\n",
    "#                                 step=100), \n",
    "\n",
    "def build_gru_hp(hp):\n",
    "    \n",
    "    from numpy.random import seed\n",
    "    seed(1)\n",
    "    import tensorflow\n",
    "    tensorflow.random.set_seed(2)\n",
    "    model = keras.Sequential()\n",
    "    model.add(layers.GRU(\n",
    "        hp.Choice('hidden_units', values=[4, 8, 16, 32, 64]),\n",
    "        dropout=hp.Float('dropout', 0, 0.50),\n",
    "#                          recurrent_dropout=hp.Float('recurrent_dropout', 0, 0.50),\n",
    "        input_shape=(X_rnn.shape[1], X_rnn.shape[-1])))\n",
    "    model.add(layers.Dense(1))\n",
    "\n",
    "    model.compile(optimizer=keras.optimizers.Adam(learning_rate=hp.Float('learning_rate', min_value=1e-10, max_value=1e-1)), \n",
    "                  loss='mae', \n",
    "                  metrics=['mae']\n",
    "                 )\n",
    "    return model\n",
    "\n",
    "\n",
    "def build_gru(hidden_units, dropout, recurrent_dropout, learning_rate):\n",
    "    \n",
    "    from numpy.random import seed\n",
    "    seed(1)\n",
    "    import tensorflow\n",
    "    tensorflow.random.set_seed(2)\n",
    "    model = keras.Sequential()\n",
    "    model.add(layers.GRU(\n",
    "        hidden_units,\n",
    "        dropout=dropout,\n",
    "                         recurrent_dropout=recurrent_dropout,\n",
    "                         input_shape=(X_rnn.shape[1], X_rnn.shape[-1])))\n",
    "    model.add(layers.Dense(1))\n",
    "\n",
    "    model.compile(optimizer=keras.optimizers.RMSprop(), \n",
    "                  loss='mae') # metric=['mae'])\n",
    "    return model\n",
    "\n",
    "def build_model(hp):\n",
    "    model = keras.Sequential()\n",
    "    model.add(layers.Dense(units=hp.Int('units',\n",
    "                                        min_value=32,\n",
    "                                        max_value=512,\n",
    "                                        step=32),\n",
    "                           activation='relu'))\n",
    "    model.add(layers.Dense(10, activation='softmax'))\n",
    "    model.compile(\n",
    "        optimizer=keras.optimizers.Adam(\n",
    "            hp.Choice('learning_rate',\n",
    "                      values=[1e-2, 1e-3, 1e-4])),\n",
    "        loss='sparse_categorical_crossentropy',\n",
    "        metrics=['accuracy'])\n",
    "    return model\n",
    "\n",
    "\n",
    "tuner = RandomSearch(\n",
    "    build_gru_hp,\n",
    "    objective='val_loss',\n",
    "    max_trials=100,\n",
    "    executions_per_trial=1,\n",
    "    directory='test_dir_11',\n",
    ")"
   ]
  },
  {
   "cell_type": "code",
   "execution_count": 28,
   "metadata": {},
   "outputs": [],
   "source": [
    "X_train, y_train = X_rnn[:10000], y_rnn[:10000]\n",
    "X_val, y_val = X_rnn[10000:20000], y_rnn[10000:20000]"
   ]
  },
  {
   "cell_type": "code",
   "execution_count": 29,
   "metadata": {},
   "outputs": [],
   "source": [
    "X_train, y_train = X_rnn[:200000], y_rnn[:200000]\n",
    "X_val, y_val = X_rnn[200000:300000], y_rnn[200000:300000]"
   ]
  },
  {
   "cell_type": "code",
   "execution_count": 30,
   "metadata": {},
   "outputs": [
    {
     "name": "stdout",
     "output_type": "stream",
     "text": [
      "Train on 200000 samples, validate on 100000 samples\n",
      "Epoch 1/10\n",
      " 64000/200000 [========>.....................] - ETA: 30:11 - loss: 0.9086 - mae: 0.90 - ETA: 16:44 - loss: 0.6999 - mae: 0.69 - ETA: 12:11 - loss: 0.5931 - mae: 0.59 - ETA: 9:56 - loss: 0.5498 - mae: 0.5498 - ETA: 8:34 - loss: 0.5214 - mae: 0.521 - ETA: 7:45 - loss: 0.5005 - mae: 0.500 - ETA: 7:06 - loss: 0.4803 - mae: 0.480 - ETA: 6:36 - loss: 0.4636 - mae: 0.463 - ETA: 6:13 - loss: 0.4556 - mae: 0.455 - ETA: 5:54 - loss: 0.4518 - mae: 0.451 - ETA: 5:39 - loss: 0.4433 - mae: 0.443 - ETA: 5:26 - loss: 0.4308 - mae: 0.430 - ETA: 5:15 - loss: 0.4220 - mae: 0.422 - ETA: 5:05 - loss: 0.4145 - mae: 0.414 - ETA: 4:57 - loss: 0.4102 - mae: 0.410 - ETA: 4:49 - loss: 0.4049 - mae: 0.404 - ETA: 4:43 - loss: 0.4011 - mae: 0.401 - ETA: 4:37 - loss: 0.3975 - mae: 0.397 - ETA: 4:32 - loss: 0.3943 - mae: 0.394 - ETA: 4:28 - loss: 0.3894 - mae: 0.389 - ETA: 4:24 - loss: 0.3865 - mae: 0.386 - ETA: 4:20 - loss: 0.3841 - mae: 0.384 - ETA: 4:17 - loss: 0.3815 - mae: 0.381 - ETA: 4:14 - loss: 0.3792 - mae: 0.379 - ETA: 4:11 - loss: 0.3766 - mae: 0.376 - ETA: 4:08 - loss: 0.3742 - mae: 0.374 - ETA: 4:06 - loss: 0.3739 - mae: 0.373 - ETA: 4:03 - loss: 0.3706 - mae: 0.370 - ETA: 4:01 - loss: 0.3679 - mae: 0.367 - ETA: 3:59 - loss: 0.3656 - mae: 0.365 - ETA: 3:57 - loss: 0.3645 - mae: 0.364 - ETA: 3:55 - loss: 0.3625 - mae: 0.362 - ETA: 3:54 - loss: 0.3604 - mae: 0.360 - ETA: 3:52 - loss: 0.3577 - mae: 0.357 - ETA: 3:51 - loss: 0.3558 - mae: 0.355 - ETA: 3:50 - loss: 0.3536 - mae: 0.353 - ETA: 3:49 - loss: 0.3518 - mae: 0.351 - ETA: 3:48 - loss: 0.3502 - mae: 0.350 - ETA: 3:47 - loss: 0.3499 - mae: 0.349 - ETA: 3:45 - loss: 0.3502 - mae: 0.350 - ETA: 3:44 - loss: 0.3483 - mae: 0.348 - ETA: 3:43 - loss: 0.3480 - mae: 0.348 - ETA: 3:42 - loss: 0.3473 - mae: 0.347 - ETA: 3:41 - loss: 0.3460 - mae: 0.346 - ETA: 3:40 - loss: 0.3450 - mae: 0.345 - ETA: 3:39 - loss: 0.3436 - mae: 0.343 - ETA: 3:38 - loss: 0.3433 - mae: 0.343 - ETA: 3:38 - loss: 0.3423 - mae: 0.342 - ETA: 3:37 - loss: 0.3421 - mae: 0.342 - ETA: 3:36 - loss: 0.3409 - mae: 0.340 - ETA: 3:35 - loss: 0.3405 - mae: 0.340 - ETA: 3:35 - loss: 0.3397 - mae: 0.339 - ETA: 3:34 - loss: 0.3389 - mae: 0.338 - ETA: 3:33 - loss: 0.3382 - mae: 0.338 - ETA: 3:33 - loss: 0.3373 - mae: 0.337 - ETA: 3:33 - loss: 0.3364 - mae: 0.336 - ETA: 3:33 - loss: 0.3352 - mae: 0.335 - ETA: 3:32 - loss: 0.3345 - mae: 0.334 - ETA: 3:32 - loss: 0.3337 - mae: 0.333 - ETA: 3:31 - loss: 0.3329 - mae: 0.332 - ETA: 3:31 - loss: 0.3329 - mae: 0.332 - ETA: 3:30 - loss: 0.3329 - mae: 0.332 - ETA: 3:30 - loss: 0.3323 - mae: 0.332 - ETA: 3:29 - loss: 0.3323 - mae: 0.332 - ETA: 3:28 - loss: 0.3316 - mae: 0.331 - ETA: 3:28 - loss: 0.3310 - mae: 0.331 - ETA: 3:27 - loss: 0.3307 - mae: 0.330 - ETA: 3:27 - loss: 0.3297 - mae: 0.329 - ETA: 3:26 - loss: 0.3295 - mae: 0.329 - ETA: 3:26 - loss: 0.3290 - mae: 0.329 - ETA: 3:25 - loss: 0.3285 - mae: 0.328 - ETA: 3:25 - loss: 0.3280 - mae: 0.328 - ETA: 3:25 - loss: 0.3273 - mae: 0.327 - ETA: 3:24 - loss: 0.3269 - mae: 0.326 - ETA: 3:24 - loss: 0.3266 - mae: 0.326 - ETA: 3:23 - loss: 0.3260 - mae: 0.326 - ETA: 3:23 - loss: 0.3259 - mae: 0.325 - ETA: 3:22 - loss: 0.3259 - mae: 0.325 - ETA: 3:22 - loss: 0.3259 - mae: 0.325 - ETA: 3:22 - loss: 0.3262 - mae: 0.326 - ETA: 3:21 - loss: 0.3256 - mae: 0.325 - ETA: 3:21 - loss: 0.3254 - mae: 0.325 - ETA: 3:20 - loss: 0.3254 - mae: 0.325 - ETA: 3:20 - loss: 0.3254 - mae: 0.325 - ETA: 3:20 - loss: 0.3253 - mae: 0.325 - ETA: 3:20 - loss: 0.3252 - mae: 0.325 - ETA: 3:19 - loss: 0.3251 - mae: 0.325 - ETA: 3:19 - loss: 0.3250 - mae: 0.325 - ETA: 3:19 - loss: 0.3245 - mae: 0.324 - ETA: 3:18 - loss: 0.3244 - mae: 0.324 - ETA: 3:18 - loss: 0.3247 - mae: 0.324 - ETA: 3:18 - loss: 0.3245 - mae: 0.324 - ETA: 3:18 - loss: 0.3245 - mae: 0.324 - ETA: 3:17 - loss: 0.3243 - mae: 0.324 - ETA: 3:17 - loss: 0.3240 - mae: 0.324 - ETA: 3:17 - loss: 0.3237 - mae: 0.323 - ETA: 3:16 - loss: 0.3236 - mae: 0.323 - ETA: 3:16 - loss: 0.3236 - mae: 0.323 - ETA: 3:16 - loss: 0.3235 - mae: 0.323 - ETA: 3:15 - loss: 0.3234 - mae: 0.323 - ETA: 3:15 - loss: 0.3229 - mae: 0.322 - ETA: 3:15 - loss: 0.3228 - mae: 0.322 - ETA: 3:14 - loss: 0.3227 - mae: 0.322 - ETA: 3:14 - loss: 0.3222 - mae: 0.322 - ETA: 3:14 - loss: 0.3221 - mae: 0.322 - ETA: 3:13 - loss: 0.3222 - mae: 0.322 - ETA: 3:13 - loss: 0.3224 - mae: 0.322 - ETA: 3:13 - loss: 0.3220 - mae: 0.322 - ETA: 3:13 - loss: 0.3217 - mae: 0.321 - ETA: 3:12 - loss: 0.3217 - mae: 0.321 - ETA: 3:12 - loss: 0.3214 - mae: 0.321 - ETA: 3:12 - loss: 0.3212 - mae: 0.321 - ETA: 3:12 - loss: 0.3208 - mae: 0.320 - ETA: 3:11 - loss: 0.3204 - mae: 0.320 - ETA: 3:11 - loss: 0.3203 - mae: 0.320 - ETA: 3:11 - loss: 0.3200 - mae: 0.320 - ETA: 3:11 - loss: 0.3198 - mae: 0.319 - ETA: 3:10 - loss: 0.3199 - mae: 0.319 - ETA: 3:10 - loss: 0.3198 - mae: 0.319 - ETA: 3:10 - loss: 0.3198 - mae: 0.319 - ETA: 3:10 - loss: 0.3196 - mae: 0.319 - ETA: 3:09 - loss: 0.3196 - mae: 0.319 - ETA: 3:09 - loss: 0.3196 - mae: 0.319 - ETA: 3:09 - loss: 0.3195 - mae: 0.319 - ETA: 3:08 - loss: 0.3193 - mae: 0.319 - ETA: 3:08 - loss: 0.3193 - mae: 0.319 - ETA: 3:08 - loss: 0.3194 - mae: 0.319 - ETA: 3:08 - loss: 0.3194 - mae: 0.319 - ETA: 3:07 - loss: 0.3193 - mae: 0.319 - ETA: 3:07 - loss: 0.3190 - mae: 0.319 - ETA: 3:07 - loss: 0.3190 - mae: 0.319 - ETA: 3:07 - loss: 0.3186 - mae: 0.318 - ETA: 3:06 - loss: 0.3184 - mae: 0.318 - ETA: 3:06 - loss: 0.3182 - mae: 0.318 - ETA: 3:06 - loss: 0.3181 - mae: 0.318 - ETA: 3:06 - loss: 0.3179 - mae: 0.317 - ETA: 3:06 - loss: 0.3176 - mae: 0.317 - ETA: 3:05 - loss: 0.3174 - mae: 0.317 - ETA: 3:05 - loss: 0.3171 - mae: 0.317 - ETA: 3:05 - loss: 0.3169 - mae: 0.316 - ETA: 3:05 - loss: 0.3166 - mae: 0.316 - ETA: 3:05 - loss: 0.3165 - mae: 0.316 - ETA: 3:05 - loss: 0.3166 - mae: 0.316 - ETA: 3:05 - loss: 0.3165 - mae: 0.316 - ETA: 3:05 - loss: 0.3164 - mae: 0.316 - ETA: 3:04 - loss: 0.3161 - mae: 0.316 - ETA: 3:04 - loss: 0.3161 - mae: 0.316 - ETA: 3:04 - loss: 0.3163 - mae: 0.316 - ETA: 3:04 - loss: 0.3161 - mae: 0.316 - ETA: 3:04 - loss: 0.3158 - mae: 0.315 - ETA: 3:04 - loss: 0.3158 - mae: 0.315 - ETA: 3:04 - loss: 0.3156 - mae: 0.315 - ETA: 3:03 - loss: 0.3154 - mae: 0.315 - ETA: 3:03 - loss: 0.3152 - mae: 0.315 - ETA: 3:03 - loss: 0.3151 - mae: 0.315 - ETA: 3:03 - loss: 0.3149 - mae: 0.314 - ETA: 3:03 - loss: 0.3149 - mae: 0.314 - ETA: 3:02 - loss: 0.3145 - mae: 0.314 - ETA: 3:02 - loss: 0.3144 - mae: 0.314 - ETA: 3:02 - loss: 0.3144 - mae: 0.314 - ETA: 3:02 - loss: 0.3140 - mae: 0.314 - ETA: 3:02 - loss: 0.3138 - mae: 0.313 - ETA: 3:02 - loss: 0.3135 - mae: 0.313 - ETA: 3:01 - loss: 0.3132 - mae: 0.313 - ETA: 3:01 - loss: 0.3129 - mae: 0.312 - ETA: 3:01 - loss: 0.3127 - mae: 0.312 - ETA: 3:01 - loss: 0.3126 - mae: 0.312 - ETA: 3:01 - loss: 0.3124 - mae: 0.312 - ETA: 3:00 - loss: 0.3121 - mae: 0.312 - ETA: 3:00 - loss: 0.3120 - mae: 0.312 - ETA: 3:00 - loss: 0.3122 - mae: 0.312 - ETA: 3:00 - loss: 0.3119 - mae: 0.311 - ETA: 3:00 - loss: 0.3117 - mae: 0.311 - ETA: 2:59 - loss: 0.3117 - mae: 0.311 - ETA: 2:59 - loss: 0.3117 - mae: 0.311 - ETA: 2:59 - loss: 0.3116 - mae: 0.311 - ETA: 2:59 - loss: 0.3115 - mae: 0.311 - ETA: 2:59 - loss: 0.3114 - mae: 0.311 - ETA: 2:58 - loss: 0.3114 - mae: 0.311 - ETA: 2:58 - loss: 0.3112 - mae: 0.311 - ETA: 2:58 - loss: 0.3112 - mae: 0.311 - ETA: 2:58 - loss: 0.3110 - mae: 0.311 - ETA: 2:58 - loss: 0.3109 - mae: 0.310 - ETA: 2:57 - loss: 0.3109 - mae: 0.310 - ETA: 2:57 - loss: 0.3106 - mae: 0.310 - ETA: 2:57 - loss: 0.3104 - mae: 0.310 - ETA: 2:57 - loss: 0.3101 - mae: 0.310 - ETA: 2:57 - loss: 0.3099 - mae: 0.309 - ETA: 2:56 - loss: 0.3098 - mae: 0.309 - ETA: 2:56 - loss: 0.3096 - mae: 0.309 - ETA: 2:56 - loss: 0.3094 - mae: 0.309 - ETA: 2:56 - loss: 0.3094 - mae: 0.309 - ETA: 2:56 - loss: 0.3093 - mae: 0.309 - ETA: 2:55 - loss: 0.3093 - mae: 0.309 - ETA: 2:55 - loss: 0.3090 - mae: 0.309 - ETA: 2:55 - loss: 0.3089 - mae: 0.308 - ETA: 2:55 - loss: 0.3088 - mae: 0.308 - ETA: 2:55 - loss: 0.3086 - mae: 0.308 - ETA: 2:54 - loss: 0.3085 - mae: 0.308 - ETA: 2:54 - loss: 0.3083 - mae: 0.308 - ETA: 2:54 - loss: 0.3081 - mae: 0.308 - ETA: 2:54 - loss: 0.3081 - mae: 0.308 - ETA: 2:54 - loss: 0.3079 - mae: 0.307 - ETA: 2:54 - loss: 0.3077 - mae: 0.307 - ETA: 2:53 - loss: 0.3075 - mae: 0.307 - ETA: 2:53 - loss: 0.3075 - mae: 0.307 - ETA: 2:53 - loss: 0.3072 - mae: 0.307 - ETA: 2:53 - loss: 0.3072 - mae: 0.307 - ETA: 2:53 - loss: 0.3072 - mae: 0.307 - ETA: 2:53 - loss: 0.3071 - mae: 0.307 - ETA: 2:52 - loss: 0.3069 - mae: 0.306 - ETA: 2:52 - loss: 0.3067 - mae: 0.306 - ETA: 2:52 - loss: 0.3066 - mae: 0.306 - ETA: 2:52 - loss: 0.3065 - mae: 0.306 - ETA: 2:52 - loss: 0.3066 - mae: 0.306 - ETA: 2:51 - loss: 0.3066 - mae: 0.306 - ETA: 2:51 - loss: 0.3065 - mae: 0.306 - ETA: 2:51 - loss: 0.3064 - mae: 0.306 - ETA: 2:51 - loss: 0.3063 - mae: 0.306 - ETA: 2:51 - loss: 0.3062 - mae: 0.306 - ETA: 2:51 - loss: 0.3063 - mae: 0.306 - ETA: 2:50 - loss: 0.3064 - mae: 0.306 - ETA: 2:50 - loss: 0.3062 - mae: 0.306 - ETA: 2:50 - loss: 0.3061 - mae: 0.306 - ETA: 2:50 - loss: 0.3059 - mae: 0.305 - ETA: 2:50 - loss: 0.3060 - mae: 0.306 - ETA: 2:50 - loss: 0.3060 - mae: 0.306 - ETA: 2:50 - loss: 0.3059 - mae: 0.305 - ETA: 2:49 - loss: 0.3058 - mae: 0.305 - ETA: 2:49 - loss: 0.3057 - mae: 0.305 - ETA: 2:49 - loss: 0.3055 - mae: 0.305 - ETA: 2:49 - loss: 0.3056 - mae: 0.305 - ETA: 2:49 - loss: 0.3055 - mae: 0.305 - ETA: 2:49 - loss: 0.3054 - mae: 0.305 - ETA: 2:49 - loss: 0.3053 - mae: 0.305 - ETA: 2:49 - loss: 0.3054 - mae: 0.305 - ETA: 2:49 - loss: 0.3052 - mae: 0.305 - ETA: 2:49 - loss: 0.3052 - mae: 0.305 - ETA: 2:49 - loss: 0.3051 - mae: 0.305 - ETA: 2:48 - loss: 0.3051 - mae: 0.305 - ETA: 2:48 - loss: 0.3049 - mae: 0.304 - ETA: 2:48 - loss: 0.3050 - mae: 0.305 - ETA: 2:48 - loss: 0.3049 - mae: 0.304 - ETA: 2:48 - loss: 0.3048 - mae: 0.304 - ETA: 2:48 - loss: 0.3047 - mae: 0.304 - ETA: 2:48 - loss: 0.3046 - mae: 0.304 - ETA: 2:47 - loss: 0.3045 - mae: 0.304 - ETA: 2:47 - loss: 0.3045 - mae: 0.304 - ETA: 2:47 - loss: 0.3045 - mae: 0.304 - ETA: 2:47 - loss: 0.3045 - mae: 0.304 - ETA: 2:47 - loss: 0.3043 - mae: 0.304 - ETA: 2:47 - loss: 0.3042 - mae: 0.304 - ETA: 2:46 - loss: 0.3041 - mae: 0.304 - ETA: 2:46 - loss: 0.3041 - mae: 0.304 - ETA: 2:46 - loss: 0.3041 - mae: 0.304 - ETA: 2:46 - loss: 0.3040 - mae: 0.304 - ETA: 2:46 - loss: 0.3039 - mae: 0.303 - ETA: 2:46 - loss: 0.3038 - mae: 0.303 - ETA: 2:46 - loss: 0.3040 - mae: 0.304 - ETA: 2:45 - loss: 0.3041 - mae: 0.304 - ETA: 2:45 - loss: 0.3041 - mae: 0.304 - ETA: 2:45 - loss: 0.3040 - mae: 0.304 - ETA: 2:45 - loss: 0.3041 - mae: 0.304 - ETA: 2:45 - loss: 0.3042 - mae: 0.304 - ETA: 2:45 - loss: 0.3041 - mae: 0.304 - ETA: 2:45 - loss: 0.3040 - mae: 0.304 - ETA: 2:45 - loss: 0.3041 - mae: 0.304 - ETA: 2:44 - loss: 0.3041 - mae: 0.304 - ETA: 2:44 - loss: 0.3041 - mae: 0.304 - ETA: 2:44 - loss: 0.3041 - mae: 0.304 - ETA: 2:44 - loss: 0.3040 - mae: 0.304 - ETA: 2:44 - loss: 0.3039 - mae: 0.303 - ETA: 2:44 - loss: 0.3039 - mae: 0.303 - ETA: 2:44 - loss: 0.3037 - mae: 0.303 - ETA: 2:43 - loss: 0.3035 - mae: 0.303 - ETA: 2:43 - loss: 0.3034 - mae: 0.303 - ETA: 2:43 - loss: 0.3034 - mae: 0.303 - ETA: 2:43 - loss: 0.3034 - mae: 0.303 - ETA: 2:43 - loss: 0.3034 - mae: 0.303 - ETA: 2:43 - loss: 0.3034 - mae: 0.303 - ETA: 2:43 - loss: 0.3033 - mae: 0.303 - ETA: 2:42 - loss: 0.3032 - mae: 0.303 - ETA: 2:42 - loss: 0.3032 - mae: 0.303 - ETA: 2:42 - loss: 0.3033 - mae: 0.303 - ETA: 2:42 - loss: 0.3031 - mae: 0.303 - ETA: 2:42 - loss: 0.3030 - mae: 0.303 - ETA: 2:42 - loss: 0.3028 - mae: 0.302 - ETA: 2:41 - loss: 0.3028 - mae: 0.302 - ETA: 2:41 - loss: 0.3028 - mae: 0.302 - ETA: 2:41 - loss: 0.3027 - mae: 0.302 - ETA: 2:41 - loss: 0.3026 - mae: 0.302 - ETA: 2:41 - loss: 0.3025 - mae: 0.302 - ETA: 2:41 - loss: 0.3026 - mae: 0.302 - ETA: 2:41 - loss: 0.3025 - mae: 0.302 - ETA: 2:41 - loss: 0.3024 - mae: 0.302 - ETA: 2:40 - loss: 0.3024 - mae: 0.302 - ETA: 2:40 - loss: 0.3024 - mae: 0.302 - ETA: 2:40 - loss: 0.3023 - mae: 0.302 - ETA: 2:40 - loss: 0.3023 - mae: 0.302 - ETA: 2:40 - loss: 0.3023 - mae: 0.302 - ETA: 2:40 - loss: 0.3023 - mae: 0.302 - ETA: 2:39 - loss: 0.3023 - mae: 0.302 - ETA: 2:39 - loss: 0.3022 - mae: 0.302 - ETA: 2:39 - loss: 0.3023 - mae: 0.302 - ETA: 2:39 - loss: 0.3021 - mae: 0.302 - ETA: 2:39 - loss: 0.3022 - mae: 0.302 - ETA: 2:39 - loss: 0.3022 - mae: 0.302 - ETA: 2:39 - loss: 0.3022 - mae: 0.302 - ETA: 2:38 - loss: 0.3021 - mae: 0.302 - ETA: 2:38 - loss: 0.3021 - mae: 0.302 - ETA: 2:38 - loss: 0.3021 - mae: 0.302 - ETA: 2:38 - loss: 0.3020 - mae: 0.302 - ETA: 2:38 - loss: 0.3019 - mae: 0.301 - ETA: 2:38 - loss: 0.3020 - mae: 0.302 - ETA: 2:38 - loss: 0.3021 - mae: 0.302 - ETA: 2:38 - loss: 0.3020 - mae: 0.302 - ETA: 2:37 - loss: 0.3019 - mae: 0.301 - ETA: 2:37 - loss: 0.3019 - mae: 0.301 - ETA: 2:37 - loss: 0.3018 - mae: 0.301 - ETA: 2:37 - loss: 0.3018 - mae: 0.301 - ETA: 2:37 - loss: 0.3018 - mae: 0.301 - ETA: 2:37 - loss: 0.3019 - mae: 0.301 - ETA: 2:37 - loss: 0.3018 - mae: 0.301 - ETA: 2:36 - loss: 0.3018 - mae: 0.301 - ETA: 2:36 - loss: 0.3017 - mae: 0.301 - ETA: 2:36 - loss: 0.3016 - mae: 0.301 - ETA: 2:36 - loss: 0.3014 - mae: 0.301 - ETA: 2:36 - loss: 0.3013 - mae: 0.301 - ETA: 2:36 - loss: 0.3013 - mae: 0.301 - ETA: 2:36 - loss: 0.3013 - mae: 0.301 - ETA: 2:36 - loss: 0.3012 - mae: 0.301 - ETA: 2:35 - loss: 0.3011 - mae: 0.301 - ETA: 2:35 - loss: 0.3010 - mae: 0.301 - ETA: 2:35 - loss: 0.3010 - mae: 0.301 - ETA: 2:35 - loss: 0.3009 - mae: 0.300 - ETA: 2:35 - loss: 0.3009 - mae: 0.300 - ETA: 2:35 - loss: 0.3009 - mae: 0.300 - ETA: 2:34 - loss: 0.3009 - mae: 0.300 - ETA: 2:34 - loss: 0.3009 - mae: 0.300 - ETA: 2:34 - loss: 0.3009 - mae: 0.300 - ETA: 2:34 - loss: 0.3009 - mae: 0.300 - ETA: 2:34 - loss: 0.3009 - mae: 0.300 - ETA: 2:34 - loss: 0.3009 - mae: 0.300 - ETA: 2:34 - loss: 0.3010 - mae: 0.301 - ETA: 2:33 - loss: 0.3010 - mae: 0.301 - ETA: 2:33 - loss: 0.3009 - mae: 0.300 - ETA: 2:33 - loss: 0.3009 - mae: 0.300 - ETA: 2:33 - loss: 0.3008 - mae: 0.300 - ETA: 2:33 - loss: 0.3008 - mae: 0.300 - ETA: 2:33 - loss: 0.3007 - mae: 0.300 - ETA: 2:33 - loss: 0.3008 - mae: 0.300 - ETA: 2:33 - loss: 0.3007 - mae: 0.300 - ETA: 2:32 - loss: 0.3007 - mae: 0.300 - ETA: 2:32 - loss: 0.3007 - mae: 0.300 - ETA: 2:32 - loss: 0.3007 - mae: 0.300 - ETA: 2:32 - loss: 0.3006 - mae: 0.300 - ETA: 2:32 - loss: 0.3006 - mae: 0.300 - ETA: 2:32 - loss: 0.3006 - mae: 0.300 - ETA: 2:32 - loss: 0.3006 - mae: 0.300 - ETA: 2:31 - loss: 0.3005 - mae: 0.300 - ETA: 2:31 - loss: 0.3004 - mae: 0.300 - ETA: 2:31 - loss: 0.3003 - mae: 0.300 - ETA: 2:31 - loss: 0.3003 - mae: 0.300 - ETA: 2:31 - loss: 0.3004 - mae: 0.300 - ETA: 2:31 - loss: 0.3003 - mae: 0.300 - ETA: 2:30 - loss: 0.3003 - mae: 0.300 - ETA: 2:30 - loss: 0.3002 - mae: 0.300 - ETA: 2:30 - loss: 0.3001 - mae: 0.300 - ETA: 2:30 - loss: 0.3001 - mae: 0.300 - ETA: 2:30 - loss: 0.3001 - mae: 0.300 - ETA: 2:30 - loss: 0.3001 - mae: 0.300 - ETA: 2:30 - loss: 0.3001 - mae: 0.300 - ETA: 2:29 - loss: 0.3001 - mae: 0.300 - ETA: 2:29 - loss: 0.3000 - mae: 0.300 - ETA: 2:29 - loss: 0.2999 - mae: 0.299 - ETA: 2:29 - loss: 0.2999 - mae: 0.299 - ETA: 2:29 - loss: 0.2998 - mae: 0.299 - ETA: 2:29 - loss: 0.2998 - mae: 0.299 - ETA: 2:29 - loss: 0.2998 - mae: 0.299 - ETA: 2:29 - loss: 0.2999 - mae: 0.299 - ETA: 2:28 - loss: 0.2998 - mae: 0.299 - ETA: 2:28 - loss: 0.2997 - mae: 0.299 - ETA: 2:28 - loss: 0.2997 - mae: 0.299 - ETA: 2:28 - loss: 0.2997 - mae: 0.299 - ETA: 2:28 - loss: 0.2997 - mae: 0.299 - ETA: 2:28 - loss: 0.2996 - mae: 0.299 - ETA: 2:28 - loss: 0.2996 - mae: 0.299 - ETA: 2:27 - loss: 0.2996 - mae: 0.299 - ETA: 2:27 - loss: 0.2995 - mae: 0.299 - ETA: 2:27 - loss: 0.2994 - mae: 0.299 - ETA: 2:27 - loss: 0.2994 - mae: 0.299 - ETA: 2:27 - loss: 0.2994 - mae: 0.299 - ETA: 2:27 - loss: 0.2994 - mae: 0.299 - ETA: 2:27 - loss: 0.2993 - mae: 0.299 - ETA: 2:26 - loss: 0.2993 - mae: 0.299 - ETA: 2:26 - loss: 0.2993 - mae: 0.299 - ETA: 2:26 - loss: 0.2992 - mae: 0.299 - ETA: 2:26 - loss: 0.2992 - mae: 0.299 - ETA: 2:26 - loss: 0.2991 - mae: 0.299 - ETA: 2:26 - loss: 0.2991 - mae: 0.299 - ETA: 2:26 - loss: 0.2990 - mae: 0.299 - ETA: 2:25 - loss: 0.2989 - mae: 0.298 - ETA: 2:25 - loss: 0.2988 - mae: 0.298 - ETA: 2:25 - loss: 0.2988 - mae: 0.298 - ETA: 2:25 - loss: 0.2988 - mae: 0.298 - ETA: 2:25 - loss: 0.2987 - mae: 0.298 - ETA: 2:25 - loss: 0.2987 - mae: 0.298 - ETA: 2:25 - loss: 0.2987 - mae: 0.298 - ETA: 2:24 - loss: 0.2986 - mae: 0.298 - ETA: 2:24 - loss: 0.2986 - mae: 0.298 - ETA: 2:24 - loss: 0.2985 - mae: 0.298 - ETA: 2:24 - loss: 0.2985 - mae: 0.298 - ETA: 2:24 - loss: 0.2984 - mae: 0.298 - ETA: 2:24 - loss: 0.2983 - mae: 0.298 - ETA: 2:24 - loss: 0.2982 - mae: 0.298 - ETA: 2:24 - loss: 0.2982 - mae: 0.298 - ETA: 2:23 - loss: 0.2982 - mae: 0.298 - ETA: 2:23 - loss: 0.2982 - mae: 0.298 - ETA: 2:23 - loss: 0.2981 - mae: 0.298 - ETA: 2:23 - loss: 0.2982 - mae: 0.298 - ETA: 2:23 - loss: 0.2981 - mae: 0.298 - ETA: 2:23 - loss: 0.2981 - mae: 0.298 - ETA: 2:23 - loss: 0.2982 - mae: 0.298 - ETA: 2:23 - loss: 0.2981 - mae: 0.298 - ETA: 2:22 - loss: 0.2980 - mae: 0.298 - ETA: 2:22 - loss: 0.2980 - mae: 0.298 - ETA: 2:22 - loss: 0.2980 - mae: 0.298 - ETA: 2:22 - loss: 0.2980 - mae: 0.298 - ETA: 2:22 - loss: 0.2980 - mae: 0.298 - ETA: 2:22 - loss: 0.2978 - mae: 0.297 - ETA: 2:22 - loss: 0.2978 - mae: 0.297 - ETA: 2:21 - loss: 0.2977 - mae: 0.297 - ETA: 2:21 - loss: 0.2977 - mae: 0.297 - ETA: 2:21 - loss: 0.2976 - mae: 0.297 - ETA: 2:21 - loss: 0.2975 - mae: 0.297 - ETA: 2:21 - loss: 0.2974 - mae: 0.297 - ETA: 2:21 - loss: 0.2973 - mae: 0.297 - ETA: 2:21 - loss: 0.2973 - mae: 0.297 - ETA: 2:21 - loss: 0.2972 - mae: 0.297 - ETA: 2:21 - loss: 0.2972 - mae: 0.297 - ETA: 2:20 - loss: 0.2972 - mae: 0.297 - ETA: 2:20 - loss: 0.2971 - mae: 0.297 - ETA: 2:20 - loss: 0.2971 - mae: 0.297 - ETA: 2:20 - loss: 0.2972 - mae: 0.297 - ETA: 2:20 - loss: 0.2972 - mae: 0.297 - ETA: 2:20 - loss: 0.2972 - mae: 0.297 - ETA: 2:20 - loss: 0.2971 - mae: 0.297 - ETA: 2:20 - loss: 0.2970 - mae: 0.297 - ETA: 2:20 - loss: 0.2970 - mae: 0.297 - ETA: 2:19 - loss: 0.2970 - mae: 0.297 - ETA: 2:19 - loss: 0.2970 - mae: 0.297 - ETA: 2:19 - loss: 0.2970 - mae: 0.297 - ETA: 2:19 - loss: 0.2970 - mae: 0.297 - ETA: 2:19 - loss: 0.2969 - mae: 0.296 - ETA: 2:19 - loss: 0.2968 - mae: 0.296 - ETA: 2:19 - loss: 0.2968 - mae: 0.296 - ETA: 2:19 - loss: 0.2968 - mae: 0.296 - ETA: 2:19 - loss: 0.2967 - mae: 0.296 - ETA: 2:18 - loss: 0.2967 - mae: 0.296 - ETA: 2:18 - loss: 0.2968 - mae: 0.296 - ETA: 2:18 - loss: 0.2968 - mae: 0.296 - ETA: 2:18 - loss: 0.2968 - mae: 0.296 - ETA: 2:18 - loss: 0.2968 - mae: 0.296 - ETA: 2:18 - loss: 0.2967 - mae: 0.296 - ETA: 2:18 - loss: 0.2967 - mae: 0.296 - ETA: 2:17 - loss: 0.2966 - mae: 0.296 - ETA: 2:17 - loss: 0.2965 - mae: 0.296 - ETA: 2:17 - loss: 0.2965 - mae: 0.296 - ETA: 2:17 - loss: 0.2965 - mae: 0.296 - ETA: 2:17 - loss: 0.2964 - mae: 0.296 - ETA: 2:17 - loss: 0.2964 - mae: 0.296 - ETA: 2:17 - loss: 0.2963 - mae: 0.296 - ETA: 2:17 - loss: 0.2963 - mae: 0.296 - ETA: 2:16 - loss: 0.2963 - mae: 0.296 - ETA: 2:16 - loss: 0.2962 - mae: 0.296 - ETA: 2:16 - loss: 0.2961 - mae: 0.296 - ETA: 2:16 - loss: 0.2961 - mae: 0.296 - ETA: 2:16 - loss: 0.2961 - mae: 0.296 - ETA: 2:16 - loss: 0.2961 - mae: 0.296 - ETA: 2:16 - loss: 0.2961 - mae: 0.296 - ETA: 2:16 - loss: 0.2961 - mae: 0.296 - ETA: 2:15 - loss: 0.2960 - mae: 0.296 - ETA: 2:15 - loss: 0.2960 - mae: 0.296 - ETA: 2:15 - loss: 0.2959 - mae: 0.295 - ETA: 2:15 - loss: 0.2959 - mae: 0.295 - ETA: 2:15 - loss: 0.2959 - mae: 0.295 - ETA: 2:15 - loss: 0.2959 - mae: 0.295 - ETA: 2:15 - loss: 0.2959 - mae: 0.295 - ETA: 2:14 - loss: 0.2958 - mae: 0.295 - ETA: 2:14 - loss: 0.2958 - mae: 0.295 - ETA: 2:14 - loss: 0.2958 - mae: 0.295 - ETA: 2:14 - loss: 0.2958 - mae: 0.295 - ETA: 2:14 - loss: 0.2958 - mae: 0.295 - ETA: 2:14 - loss: 0.2958 - mae: 0.295 - ETA: 2:14 - loss: 0.2958 - mae: 0.295 - ETA: 2:14 - loss: 0.2957 - mae: 0.295 - ETA: 2:13 - loss: 0.2957 - mae: 0.295 - ETA: 2:13 - loss: 0.2956 - mae: 0.295 - ETA: 2:13 - loss: 0.2956 - mae: 0.295 - ETA: 2:13 - loss: 0.2955 - mae: 0.295 - ETA: 3:04 - loss: 0.2955 - mae: 0.2955 - val_loss: 0.2674 - val_mae: 0.2674Epoch 2/10\n",
      " 64000/200000 [========>.....................] - ETA: 3:44 - loss: 0.2716 - mae: 0.271 - ETA: 3:38 - loss: 0.2812 - mae: 0.281 - ETA: 3:34 - loss: 0.2768 - mae: 0.276 - ETA: 3:28 - loss: 0.2761 - mae: 0.276 - ETA: 3:24 - loss: 0.2773 - mae: 0.277 - ETA: 3:23 - loss: 0.2780 - mae: 0.278 - ETA: 3:21 - loss: 0.2775 - mae: 0.277 - ETA: 3:19 - loss: 0.2798 - mae: 0.279 - ETA: 3:19 - loss: 0.2780 - mae: 0.278 - ETA: 3:21 - loss: 0.2795 - mae: 0.279 - ETA: 3:20 - loss: 0.2808 - mae: 0.280 - ETA: 3:19 - loss: 0.2784 - mae: 0.278 - ETA: 3:20 - loss: 0.2759 - mae: 0.275 - ETA: 3:19 - loss: 0.2761 - mae: 0.276 - ETA: 3:19 - loss: 0.2771 - mae: 0.277 - ETA: 3:20 - loss: 0.2771 - mae: 0.277 - ETA: 3:20 - loss: 0.2787 - mae: 0.278 - ETA: 3:19 - loss: 0.2779 - mae: 0.277 - ETA: 3:19 - loss: 0.2795 - mae: 0.279 - ETA: 3:18 - loss: 0.2811 - mae: 0.281 - ETA: 3:18 - loss: 0.2803 - mae: 0.280 - ETA: 3:18 - loss: 0.2824 - mae: 0.282 - ETA: 3:18 - loss: 0.2813 - mae: 0.281 - ETA: 3:18 - loss: 0.2812 - mae: 0.281 - ETA: 3:18 - loss: 0.2810 - mae: 0.281 - ETA: 3:17 - loss: 0.2808 - mae: 0.280 - ETA: 3:17 - loss: 0.2819 - mae: 0.281 - ETA: 3:16 - loss: 0.2822 - mae: 0.282 - ETA: 3:16 - loss: 0.2825 - mae: 0.282 - ETA: 3:15 - loss: 0.2821 - mae: 0.282 - ETA: 3:15 - loss: 0.2802 - mae: 0.280 - ETA: 3:15 - loss: 0.2801 - mae: 0.280 - ETA: 3:14 - loss: 0.2801 - mae: 0.280 - ETA: 3:14 - loss: 0.2808 - mae: 0.280 - ETA: 3:14 - loss: 0.2795 - mae: 0.279 - ETA: 3:13 - loss: 0.2791 - mae: 0.279 - ETA: 3:13 - loss: 0.2791 - mae: 0.279 - ETA: 3:14 - loss: 0.2791 - mae: 0.279 - ETA: 3:14 - loss: 0.2793 - mae: 0.279 - ETA: 3:13 - loss: 0.2786 - mae: 0.278 - ETA: 3:13 - loss: 0.2786 - mae: 0.278 - ETA: 3:14 - loss: 0.2783 - mae: 0.278 - ETA: 3:14 - loss: 0.2791 - mae: 0.279 - ETA: 3:13 - loss: 0.2788 - mae: 0.278 - ETA: 3:13 - loss: 0.2785 - mae: 0.278 - ETA: 3:13 - loss: 0.2785 - mae: 0.278 - ETA: 3:13 - loss: 0.2782 - mae: 0.278 - ETA: 3:13 - loss: 0.2785 - mae: 0.278 - ETA: 3:13 - loss: 0.2792 - mae: 0.279 - ETA: 3:13 - loss: 0.2786 - mae: 0.278 - ETA: 3:13 - loss: 0.2787 - mae: 0.278 - ETA: 3:13 - loss: 0.2791 - mae: 0.279 - ETA: 3:13 - loss: 0.2788 - mae: 0.278 - ETA: 3:12 - loss: 0.2799 - mae: 0.279 - ETA: 3:12 - loss: 0.2802 - mae: 0.280 - ETA: 3:12 - loss: 0.2803 - mae: 0.280 - ETA: 3:12 - loss: 0.2803 - mae: 0.280 - ETA: 3:12 - loss: 0.2806 - mae: 0.280 - ETA: 3:12 - loss: 0.2805 - mae: 0.280 - ETA: 3:11 - loss: 0.2807 - mae: 0.280 - ETA: 3:11 - loss: 0.2801 - mae: 0.280 - ETA: 3:11 - loss: 0.2801 - mae: 0.280 - ETA: 3:10 - loss: 0.2800 - mae: 0.280 - ETA: 3:10 - loss: 0.2797 - mae: 0.279 - ETA: 3:10 - loss: 0.2793 - mae: 0.279 - ETA: 3:10 - loss: 0.2788 - mae: 0.278 - ETA: 3:10 - loss: 0.2782 - mae: 0.278 - ETA: 3:10 - loss: 0.2787 - mae: 0.278 - ETA: 3:11 - loss: 0.2785 - mae: 0.278 - ETA: 3:12 - loss: 0.2785 - mae: 0.278 - ETA: 3:12 - loss: 0.2782 - mae: 0.278 - ETA: 3:12 - loss: 0.2786 - mae: 0.278 - ETA: 3:12 - loss: 0.2783 - mae: 0.278 - ETA: 3:12 - loss: 0.2782 - mae: 0.278 - ETA: 3:12 - loss: 0.2782 - mae: 0.278 - ETA: 3:12 - loss: 0.2783 - mae: 0.278 - ETA: 3:11 - loss: 0.2776 - mae: 0.277 - ETA: 3:11 - loss: 0.2777 - mae: 0.277 - ETA: 3:11 - loss: 0.2775 - mae: 0.277 - ETA: 3:11 - loss: 0.2776 - mae: 0.277 - ETA: 3:11 - loss: 0.2775 - mae: 0.277 - ETA: 3:11 - loss: 0.2772 - mae: 0.277 - ETA: 3:11 - loss: 0.2773 - mae: 0.277 - ETA: 3:10 - loss: 0.2774 - mae: 0.277 - ETA: 3:10 - loss: 0.2775 - mae: 0.277 - ETA: 3:10 - loss: 0.2774 - mae: 0.277 - ETA: 3:10 - loss: 0.2775 - mae: 0.277 - ETA: 3:10 - loss: 0.2776 - mae: 0.277 - ETA: 3:10 - loss: 0.2776 - mae: 0.277 - ETA: 3:09 - loss: 0.2777 - mae: 0.277 - ETA: 3:09 - loss: 0.2777 - mae: 0.277 - ETA: 3:09 - loss: 0.2778 - mae: 0.277 - ETA: 3:09 - loss: 0.2779 - mae: 0.277 - ETA: 3:09 - loss: 0.2779 - mae: 0.277 - ETA: 3:08 - loss: 0.2779 - mae: 0.277 - ETA: 3:08 - loss: 0.2777 - mae: 0.277 - ETA: 3:08 - loss: 0.2776 - mae: 0.277 - ETA: 3:08 - loss: 0.2775 - mae: 0.277 - ETA: 3:08 - loss: 0.2773 - mae: 0.277 - ETA: 3:07 - loss: 0.2775 - mae: 0.277 - ETA: 3:07 - loss: 0.2772 - mae: 0.277 - ETA: 3:07 - loss: 0.2770 - mae: 0.277 - ETA: 3:07 - loss: 0.2765 - mae: 0.276 - ETA: 3:07 - loss: 0.2766 - mae: 0.276 - ETA: 3:07 - loss: 0.2765 - mae: 0.276 - ETA: 3:07 - loss: 0.2763 - mae: 0.276 - ETA: 3:06 - loss: 0.2762 - mae: 0.276 - ETA: 3:06 - loss: 0.2762 - mae: 0.276 - ETA: 3:06 - loss: 0.2762 - mae: 0.276 - ETA: 3:06 - loss: 0.2765 - mae: 0.276 - ETA: 3:06 - loss: 0.2766 - mae: 0.276 - ETA: 3:06 - loss: 0.2767 - mae: 0.276 - ETA: 3:06 - loss: 0.2761 - mae: 0.276 - ETA: 3:06 - loss: 0.2764 - mae: 0.276 - ETA: 3:06 - loss: 0.2764 - mae: 0.276 - ETA: 3:06 - loss: 0.2765 - mae: 0.276 - ETA: 3:05 - loss: 0.2766 - mae: 0.276 - ETA: 3:05 - loss: 0.2765 - mae: 0.276 - ETA: 3:05 - loss: 0.2766 - mae: 0.276 - ETA: 3:05 - loss: 0.2767 - mae: 0.276 - ETA: 3:05 - loss: 0.2766 - mae: 0.276 - ETA: 3:04 - loss: 0.2767 - mae: 0.276 - ETA: 3:04 - loss: 0.2766 - mae: 0.276 - ETA: 3:04 - loss: 0.2765 - mae: 0.276 - ETA: 3:04 - loss: 0.2764 - mae: 0.276 - ETA: 3:04 - loss: 0.2764 - mae: 0.276 - ETA: 3:04 - loss: 0.2763 - mae: 0.276 - ETA: 3:03 - loss: 0.2762 - mae: 0.276 - ETA: 3:03 - loss: 0.2760 - mae: 0.276 - ETA: 3:03 - loss: 0.2761 - mae: 0.276 - ETA: 3:03 - loss: 0.2761 - mae: 0.276 - ETA: 3:03 - loss: 0.2763 - mae: 0.276 - ETA: 3:03 - loss: 0.2762 - mae: 0.276 - ETA: 3:02 - loss: 0.2762 - mae: 0.276 - ETA: 3:02 - loss: 0.2762 - mae: 0.276 - ETA: 3:02 - loss: 0.2761 - mae: 0.276 - ETA: 3:02 - loss: 0.2763 - mae: 0.276 - ETA: 3:02 - loss: 0.2762 - mae: 0.276 - ETA: 3:02 - loss: 0.2764 - mae: 0.276 - ETA: 3:01 - loss: 0.2764 - mae: 0.276 - ETA: 3:01 - loss: 0.2764 - mae: 0.276 - ETA: 3:01 - loss: 0.2761 - mae: 0.276 - ETA: 3:01 - loss: 0.2763 - mae: 0.276 - ETA: 3:01 - loss: 0.2762 - mae: 0.276 - ETA: 3:00 - loss: 0.2761 - mae: 0.276 - ETA: 3:00 - loss: 0.2763 - mae: 0.276 - ETA: 3:00 - loss: 0.2763 - mae: 0.276 - ETA: 3:00 - loss: 0.2762 - mae: 0.276 - ETA: 3:00 - loss: 0.2764 - mae: 0.276 - ETA: 2:59 - loss: 0.2762 - mae: 0.276 - ETA: 2:59 - loss: 0.2763 - mae: 0.276 - ETA: 2:59 - loss: 0.2762 - mae: 0.276 - ETA: 2:59 - loss: 0.2761 - mae: 0.276 - ETA: 2:59 - loss: 0.2760 - mae: 0.276 - ETA: 2:59 - loss: 0.2759 - mae: 0.275 - ETA: 2:59 - loss: 0.2760 - mae: 0.276 - ETA: 2:58 - loss: 0.2758 - mae: 0.275 - ETA: 2:58 - loss: 0.2759 - mae: 0.275 - ETA: 2:58 - loss: 0.2761 - mae: 0.276 - ETA: 2:58 - loss: 0.2760 - mae: 0.276 - ETA: 2:58 - loss: 0.2759 - mae: 0.275 - ETA: 2:58 - loss: 0.2757 - mae: 0.275 - ETA: 2:58 - loss: 0.2756 - mae: 0.275 - ETA: 2:58 - loss: 0.2755 - mae: 0.275 - ETA: 2:58 - loss: 0.2754 - mae: 0.275 - ETA: 2:58 - loss: 0.2753 - mae: 0.275 - ETA: 2:58 - loss: 0.2752 - mae: 0.275 - ETA: 2:57 - loss: 0.2752 - mae: 0.275 - ETA: 2:57 - loss: 0.2751 - mae: 0.275 - ETA: 2:57 - loss: 0.2749 - mae: 0.274 - ETA: 2:57 - loss: 0.2746 - mae: 0.274 - ETA: 2:57 - loss: 0.2746 - mae: 0.274 - ETA: 2:56 - loss: 0.2747 - mae: 0.274 - ETA: 2:56 - loss: 0.2746 - mae: 0.274 - ETA: 2:56 - loss: 0.2746 - mae: 0.274 - ETA: 2:56 - loss: 0.2746 - mae: 0.274 - ETA: 2:56 - loss: 0.2746 - mae: 0.274 - ETA: 2:56 - loss: 0.2746 - mae: 0.274 - ETA: 2:55 - loss: 0.2746 - mae: 0.274 - ETA: 2:55 - loss: 0.2746 - mae: 0.274 - ETA: 2:55 - loss: 0.2746 - mae: 0.274 - ETA: 2:55 - loss: 0.2745 - mae: 0.274 - ETA: 2:55 - loss: 0.2745 - mae: 0.274 - ETA: 2:55 - loss: 0.2744 - mae: 0.274 - ETA: 2:55 - loss: 0.2742 - mae: 0.274 - ETA: 2:55 - loss: 0.2743 - mae: 0.274 - ETA: 2:54 - loss: 0.2742 - mae: 0.274 - ETA: 2:54 - loss: 0.2740 - mae: 0.274 - ETA: 2:54 - loss: 0.2739 - mae: 0.273 - ETA: 2:54 - loss: 0.2738 - mae: 0.273 - ETA: 2:54 - loss: 0.2737 - mae: 0.273 - ETA: 2:54 - loss: 0.2738 - mae: 0.273 - ETA: 2:54 - loss: 0.2736 - mae: 0.273 - ETA: 2:54 - loss: 0.2736 - mae: 0.273 - ETA: 2:53 - loss: 0.2735 - mae: 0.273 - ETA: 2:53 - loss: 0.2736 - mae: 0.273 - ETA: 2:53 - loss: 0.2736 - mae: 0.273 - ETA: 2:53 - loss: 0.2736 - mae: 0.273 - ETA: 2:53 - loss: 0.2735 - mae: 0.273 - ETA: 2:53 - loss: 0.2733 - mae: 0.273 - ETA: 2:52 - loss: 0.2734 - mae: 0.273 - ETA: 2:52 - loss: 0.2736 - mae: 0.273 - ETA: 2:52 - loss: 0.2735 - mae: 0.273 - ETA: 2:52 - loss: 0.2734 - mae: 0.273 - ETA: 2:52 - loss: 0.2734 - mae: 0.273 - ETA: 2:52 - loss: 0.2734 - mae: 0.273 - ETA: 2:52 - loss: 0.2733 - mae: 0.273 - ETA: 2:51 - loss: 0.2732 - mae: 0.273 - ETA: 2:51 - loss: 0.2730 - mae: 0.273 - ETA: 2:51 - loss: 0.2730 - mae: 0.273 - ETA: 2:51 - loss: 0.2730 - mae: 0.273 - ETA: 2:51 - loss: 0.2729 - mae: 0.272 - ETA: 2:51 - loss: 0.2728 - mae: 0.272 - ETA: 2:51 - loss: 0.2729 - mae: 0.272 - ETA: 2:51 - loss: 0.2730 - mae: 0.273 - ETA: 2:51 - loss: 0.2730 - mae: 0.273 - ETA: 2:50 - loss: 0.2730 - mae: 0.273 - ETA: 2:50 - loss: 0.2730 - mae: 0.273 - ETA: 2:50 - loss: 0.2731 - mae: 0.273 - ETA: 2:50 - loss: 0.2732 - mae: 0.273 - ETA: 2:50 - loss: 0.2732 - mae: 0.273 - ETA: 2:50 - loss: 0.2733 - mae: 0.273 - ETA: 2:50 - loss: 0.2732 - mae: 0.273 - ETA: 2:49 - loss: 0.2733 - mae: 0.273 - ETA: 2:49 - loss: 0.2733 - mae: 0.273 - ETA: 2:49 - loss: 0.2733 - mae: 0.273 - ETA: 2:49 - loss: 0.2732 - mae: 0.273 - ETA: 2:49 - loss: 0.2732 - mae: 0.273 - ETA: 2:49 - loss: 0.2734 - mae: 0.273 - ETA: 2:48 - loss: 0.2734 - mae: 0.273 - ETA: 2:48 - loss: 0.2734 - mae: 0.273 - ETA: 2:48 - loss: 0.2735 - mae: 0.273 - ETA: 2:48 - loss: 0.2735 - mae: 0.273 - ETA: 2:48 - loss: 0.2734 - mae: 0.273 - ETA: 2:48 - loss: 0.2734 - mae: 0.273 - ETA: 2:48 - loss: 0.2733 - mae: 0.273 - ETA: 2:47 - loss: 0.2732 - mae: 0.273 - ETA: 2:47 - loss: 0.2733 - mae: 0.273 - ETA: 2:47 - loss: 0.2732 - mae: 0.273 - ETA: 2:47 - loss: 0.2731 - mae: 0.273 - ETA: 2:47 - loss: 0.2731 - mae: 0.273 - ETA: 2:47 - loss: 0.2732 - mae: 0.273 - ETA: 2:47 - loss: 0.2733 - mae: 0.273 - ETA: 2:47 - loss: 0.2734 - mae: 0.273 - ETA: 2:46 - loss: 0.2734 - mae: 0.273 - ETA: 2:46 - loss: 0.2733 - mae: 0.273 - ETA: 2:46 - loss: 0.2732 - mae: 0.273 - ETA: 2:46 - loss: 0.2732 - mae: 0.273 - ETA: 2:46 - loss: 0.2731 - mae: 0.273 - ETA: 2:46 - loss: 0.2730 - mae: 0.273 - ETA: 2:46 - loss: 0.2730 - mae: 0.273 - ETA: 2:46 - loss: 0.2731 - mae: 0.273 - ETA: 2:46 - loss: 0.2732 - mae: 0.273 - ETA: 2:45 - loss: 0.2730 - mae: 0.273 - ETA: 2:45 - loss: 0.2730 - mae: 0.273 - ETA: 2:45 - loss: 0.2729 - mae: 0.272 - ETA: 2:45 - loss: 0.2728 - mae: 0.272 - ETA: 2:45 - loss: 0.2727 - mae: 0.272 - ETA: 2:45 - loss: 0.2726 - mae: 0.272 - ETA: 2:45 - loss: 0.2726 - mae: 0.272 - ETA: 2:45 - loss: 0.2726 - mae: 0.272 - ETA: 2:44 - loss: 0.2725 - mae: 0.272 - ETA: 2:44 - loss: 0.2724 - mae: 0.272 - ETA: 2:44 - loss: 0.2724 - mae: 0.272 - ETA: 2:44 - loss: 0.2724 - mae: 0.272 - ETA: 2:44 - loss: 0.2724 - mae: 0.272 - ETA: 2:44 - loss: 0.2724 - mae: 0.272 - ETA: 2:44 - loss: 0.2724 - mae: 0.272 - ETA: 2:43 - loss: 0.2725 - mae: 0.272 - ETA: 2:43 - loss: 0.2724 - mae: 0.272 - ETA: 2:43 - loss: 0.2723 - mae: 0.272 - ETA: 2:43 - loss: 0.2722 - mae: 0.272 - ETA: 2:43 - loss: 0.2722 - mae: 0.272 - ETA: 2:43 - loss: 0.2721 - mae: 0.272 - ETA: 2:43 - loss: 0.2721 - mae: 0.272 - ETA: 2:43 - loss: 0.2720 - mae: 0.272 - ETA: 2:42 - loss: 0.2720 - mae: 0.272 - ETA: 2:42 - loss: 0.2722 - mae: 0.272 - ETA: 2:42 - loss: 0.2722 - mae: 0.272 - ETA: 2:42 - loss: 0.2720 - mae: 0.272 - ETA: 2:42 - loss: 0.2721 - mae: 0.272 - ETA: 2:42 - loss: 0.2721 - mae: 0.272 - ETA: 2:41 - loss: 0.2720 - mae: 0.272 - ETA: 2:41 - loss: 0.2720 - mae: 0.272 - ETA: 2:41 - loss: 0.2719 - mae: 0.271 - ETA: 2:41 - loss: 0.2719 - mae: 0.271 - ETA: 2:41 - loss: 0.2719 - mae: 0.271 - ETA: 2:41 - loss: 0.2719 - mae: 0.271 - ETA: 2:41 - loss: 0.2718 - mae: 0.271 - ETA: 2:41 - loss: 0.2718 - mae: 0.271 - ETA: 2:40 - loss: 0.2716 - mae: 0.271 - ETA: 2:40 - loss: 0.2715 - mae: 0.271 - ETA: 2:40 - loss: 0.2715 - mae: 0.271 - ETA: 2:40 - loss: 0.2714 - mae: 0.271 - ETA: 2:40 - loss: 0.2715 - mae: 0.271 - ETA: 2:40 - loss: 0.2715 - mae: 0.271 - ETA: 2:40 - loss: 0.2715 - mae: 0.271 - ETA: 2:40 - loss: 0.2714 - mae: 0.271 - ETA: 2:39 - loss: 0.2713 - mae: 0.271 - ETA: 2:39 - loss: 0.2714 - mae: 0.271 - ETA: 2:39 - loss: 0.2713 - mae: 0.271 - ETA: 2:39 - loss: 0.2713 - mae: 0.271 - ETA: 2:39 - loss: 0.2712 - mae: 0.271 - ETA: 2:39 - loss: 0.2712 - mae: 0.271 - ETA: 2:39 - loss: 0.2712 - mae: 0.271 - ETA: 2:39 - loss: 0.2712 - mae: 0.271 - ETA: 2:38 - loss: 0.2712 - mae: 0.271 - ETA: 2:38 - loss: 0.2712 - mae: 0.271 - ETA: 2:38 - loss: 0.2713 - mae: 0.271 - ETA: 2:38 - loss: 0.2712 - mae: 0.271 - ETA: 2:38 - loss: 0.2712 - mae: 0.271 - ETA: 2:38 - loss: 0.2711 - mae: 0.271 - ETA: 2:38 - loss: 0.2712 - mae: 0.271 - ETA: 2:38 - loss: 0.2712 - mae: 0.271 - ETA: 2:37 - loss: 0.2712 - mae: 0.271 - ETA: 2:37 - loss: 0.2712 - mae: 0.271 - ETA: 2:37 - loss: 0.2711 - mae: 0.271 - ETA: 2:37 - loss: 0.2711 - mae: 0.271 - ETA: 2:37 - loss: 0.2710 - mae: 0.271 - ETA: 2:37 - loss: 0.2709 - mae: 0.270 - ETA: 2:37 - loss: 0.2708 - mae: 0.270 - ETA: 2:36 - loss: 0.2708 - mae: 0.270 - ETA: 2:36 - loss: 0.2708 - mae: 0.270 - ETA: 2:36 - loss: 0.2707 - mae: 0.270 - ETA: 2:36 - loss: 0.2707 - mae: 0.270 - ETA: 2:36 - loss: 0.2708 - mae: 0.270 - ETA: 2:36 - loss: 0.2707 - mae: 0.270 - ETA: 2:36 - loss: 0.2707 - mae: 0.270 - ETA: 2:35 - loss: 0.2706 - mae: 0.270 - ETA: 2:35 - loss: 0.2704 - mae: 0.270 - ETA: 2:35 - loss: 0.2704 - mae: 0.270 - ETA: 2:35 - loss: 0.2704 - mae: 0.270 - ETA: 2:35 - loss: 0.2705 - mae: 0.270 - ETA: 2:35 - loss: 0.2704 - mae: 0.270 - ETA: 2:35 - loss: 0.2704 - mae: 0.270 - ETA: 2:35 - loss: 0.2703 - mae: 0.270 - ETA: 2:35 - loss: 0.2703 - mae: 0.270 - ETA: 2:35 - loss: 0.2702 - mae: 0.270 - ETA: 2:34 - loss: 0.2701 - mae: 0.270 - ETA: 2:34 - loss: 0.2701 - mae: 0.270 - ETA: 2:34 - loss: 0.2701 - mae: 0.270 - ETA: 2:34 - loss: 0.2702 - mae: 0.270 - ETA: 2:34 - loss: 0.2702 - mae: 0.270 - ETA: 2:34 - loss: 0.2702 - mae: 0.270 - ETA: 2:34 - loss: 0.2703 - mae: 0.270 - ETA: 2:34 - loss: 0.2702 - mae: 0.270 - ETA: 2:33 - loss: 0.2702 - mae: 0.270 - ETA: 2:33 - loss: 0.2703 - mae: 0.270 - ETA: 2:33 - loss: 0.2703 - mae: 0.270 - ETA: 2:33 - loss: 0.2702 - mae: 0.270 - ETA: 2:33 - loss: 0.2702 - mae: 0.270 - ETA: 2:33 - loss: 0.2702 - mae: 0.270 - ETA: 2:33 - loss: 0.2703 - mae: 0.270 - ETA: 2:32 - loss: 0.2702 - mae: 0.270 - ETA: 2:32 - loss: 0.2702 - mae: 0.270 - ETA: 2:32 - loss: 0.2702 - mae: 0.270 - ETA: 2:32 - loss: 0.2702 - mae: 0.270 - ETA: 2:32 - loss: 0.2701 - mae: 0.270 - ETA: 2:32 - loss: 0.2700 - mae: 0.270 - ETA: 2:32 - loss: 0.2701 - mae: 0.270 - ETA: 2:32 - loss: 0.2700 - mae: 0.270 - ETA: 2:32 - loss: 0.2699 - mae: 0.269 - ETA: 2:32 - loss: 0.2698 - mae: 0.269 - ETA: 2:31 - loss: 0.2697 - mae: 0.269 - ETA: 2:31 - loss: 0.2698 - mae: 0.269 - ETA: 2:31 - loss: 0.2698 - mae: 0.269 - ETA: 2:31 - loss: 0.2697 - mae: 0.269 - ETA: 2:31 - loss: 0.2696 - mae: 0.269 - ETA: 2:31 - loss: 0.2696 - mae: 0.269 - ETA: 2:31 - loss: 0.2695 - mae: 0.269 - ETA: 2:31 - loss: 0.2694 - mae: 0.269 - ETA: 2:30 - loss: 0.2694 - mae: 0.269 - ETA: 2:30 - loss: 0.2694 - mae: 0.269 - ETA: 2:30 - loss: 0.2693 - mae: 0.269 - ETA: 2:30 - loss: 0.2693 - mae: 0.269 - ETA: 2:30 - loss: 0.2693 - mae: 0.269 - ETA: 2:30 - loss: 0.2694 - mae: 0.269 - ETA: 2:30 - loss: 0.2693 - mae: 0.269 - ETA: 2:30 - loss: 0.2693 - mae: 0.269 - ETA: 2:30 - loss: 0.2692 - mae: 0.269 - ETA: 2:30 - loss: 0.2692 - mae: 0.269 - ETA: 2:29 - loss: 0.2692 - mae: 0.269 - ETA: 2:29 - loss: 0.2691 - mae: 0.269 - ETA: 2:29 - loss: 0.2692 - mae: 0.269 - ETA: 2:29 - loss: 0.2691 - mae: 0.269 - ETA: 2:29 - loss: 0.2691 - mae: 0.269 - ETA: 2:29 - loss: 0.2692 - mae: 0.269 - ETA: 2:29 - loss: 0.2692 - mae: 0.269 - ETA: 2:29 - loss: 0.2693 - mae: 0.269 - ETA: 2:28 - loss: 0.2693 - mae: 0.269 - ETA: 2:28 - loss: 0.2693 - mae: 0.269 - ETA: 2:28 - loss: 0.2692 - mae: 0.269 - ETA: 2:28 - loss: 0.2691 - mae: 0.269 - ETA: 2:28 - loss: 0.2692 - mae: 0.269 - ETA: 2:29 - loss: 0.2691 - mae: 0.269 - ETA: 2:28 - loss: 0.2691 - mae: 0.269 - ETA: 2:28 - loss: 0.2690 - mae: 0.269 - ETA: 2:28 - loss: 0.2691 - mae: 0.269 - ETA: 2:28 - loss: 0.2690 - mae: 0.269 - ETA: 2:28 - loss: 0.2690 - mae: 0.269 - ETA: 2:28 - loss: 0.2688 - mae: 0.268 - ETA: 2:28 - loss: 0.2688 - mae: 0.268 - ETA: 2:28 - loss: 0.2688 - mae: 0.268 - ETA: 2:28 - loss: 0.2689 - mae: 0.268 - ETA: 2:28 - loss: 0.2689 - mae: 0.268 - ETA: 2:28 - loss: 0.2690 - mae: 0.269 - ETA: 2:27 - loss: 0.2689 - mae: 0.268 - ETA: 2:27 - loss: 0.2689 - mae: 0.268 - ETA: 2:27 - loss: 0.2689 - mae: 0.268 - ETA: 2:27 - loss: 0.2689 - mae: 0.268 - ETA: 2:27 - loss: 0.2689 - mae: 0.268 - ETA: 2:27 - loss: 0.2689 - mae: 0.268 - ETA: 2:27 - loss: 0.2688 - mae: 0.268 - ETA: 2:27 - loss: 0.2687 - mae: 0.268 - ETA: 2:26 - loss: 0.2687 - mae: 0.268 - ETA: 2:26 - loss: 0.2686 - mae: 0.268 - ETA: 2:26 - loss: 0.2686 - mae: 0.268 - ETA: 2:26 - loss: 0.2686 - mae: 0.268 - ETA: 2:26 - loss: 0.2686 - mae: 0.268 - ETA: 2:26 - loss: 0.2686 - mae: 0.268 - ETA: 2:26 - loss: 0.2687 - mae: 0.268 - ETA: 2:25 - loss: 0.2687 - mae: 0.268 - ETA: 2:25 - loss: 0.2687 - mae: 0.268 - ETA: 2:25 - loss: 0.2687 - mae: 0.268 - ETA: 2:25 - loss: 0.2686 - mae: 0.268 - ETA: 2:25 - loss: 0.2686 - mae: 0.268 - ETA: 2:25 - loss: 0.2686 - mae: 0.268 - ETA: 2:25 - loss: 0.2685 - mae: 0.268 - ETA: 2:25 - loss: 0.2685 - mae: 0.268 - ETA: 2:24 - loss: 0.2684 - mae: 0.268 - ETA: 2:24 - loss: 0.2684 - mae: 0.268 - ETA: 2:24 - loss: 0.2684 - mae: 0.268 - ETA: 2:24 - loss: 0.2683 - mae: 0.268 - ETA: 2:24 - loss: 0.2682 - mae: 0.268 - ETA: 2:24 - loss: 0.2682 - mae: 0.268 - ETA: 2:24 - loss: 0.2682 - mae: 0.268 - ETA: 2:24 - loss: 0.2682 - mae: 0.268 - ETA: 2:23 - loss: 0.2681 - mae: 0.268 - ETA: 2:23 - loss: 0.2681 - mae: 0.268 - ETA: 2:23 - loss: 0.2680 - mae: 0.268 - ETA: 2:23 - loss: 0.2680 - mae: 0.268 - ETA: 2:23 - loss: 0.2680 - mae: 0.268 - ETA: 2:23 - loss: 0.2680 - mae: 0.268 - ETA: 2:23 - loss: 0.2679 - mae: 0.267 - ETA: 2:23 - loss: 0.2679 - mae: 0.267 - ETA: 2:23 - loss: 0.2678 - mae: 0.267 - ETA: 2:22 - loss: 0.2678 - mae: 0.267 - ETA: 2:22 - loss: 0.2678 - mae: 0.267 - ETA: 2:22 - loss: 0.2677 - mae: 0.267 - ETA: 2:22 - loss: 0.2678 - mae: 0.267 - ETA: 2:22 - loss: 0.2677 - mae: 0.267 - ETA: 2:22 - loss: 0.2677 - mae: 0.267 - ETA: 2:22 - loss: 0.2677 - mae: 0.267 - ETA: 2:22 - loss: 0.2676 - mae: 0.267 - ETA: 2:22 - loss: 0.2676 - mae: 0.267 - ETA: 2:21 - loss: 0.2676 - mae: 0.267 - ETA: 2:21 - loss: 0.2675 - mae: 0.267 - ETA: 2:21 - loss: 0.2675 - mae: 0.267 - ETA: 2:21 - loss: 0.2674 - mae: 0.267 - ETA: 2:21 - loss: 0.2674 - mae: 0.267 - ETA: 2:21 - loss: 0.2674 - mae: 0.267 - ETA: 2:21 - loss: 0.2675 - mae: 0.267 - ETA: 2:21 - loss: 0.2675 - mae: 0.267 - ETA: 2:21 - loss: 0.2675 - mae: 0.267 - ETA: 2:21 - loss: 0.2674 - mae: 0.267 - ETA: 2:20 - loss: 0.2674 - mae: 0.267 - ETA: 2:20 - loss: 0.2674 - mae: 0.267 - ETA: 2:20 - loss: 0.2674 - mae: 0.267 - ETA: 2:20 - loss: 0.2673 - mae: 0.267 - ETA: 2:20 - loss: 0.2673 - mae: 0.267 - ETA: 2:20 - loss: 0.2673 - mae: 0.267 - ETA: 2:20 - loss: 0.2672 - mae: 0.267 - ETA: 2:19 - loss: 0.2672 - mae: 0.267 - ETA: 2:19 - loss: 0.2671 - mae: 0.267 - ETA: 2:19 - loss: 0.2671 - mae: 0.267 - ETA: 2:19 - loss: 0.2670 - mae: 0.267 - ETA: 2:19 - loss: 0.2670 - mae: 0.267 - ETA: 2:19 - loss: 0.2669 - mae: 0.266 - ETA: 2:19 - loss: 0.2669 - mae: 0.266 - ETA: 2:19 - loss: 0.2668 - mae: 0.266 - ETA: 2:19 - loss: 0.2668 - mae: 0.266 - ETA: 2:18 - loss: 0.2667 - mae: 0.266 - ETA: 2:18 - loss: 0.2667 - mae: 0.266 - ETA: 2:18 - loss: 0.2667 - mae: 0.266 - ETA: 2:18 - loss: 0.2667 - mae: 0.266 - ETA: 2:18 - loss: 0.2667 - mae: 0.266 - ETA: 2:18 - loss: 0.2666 - mae: 0.266 - ETA: 2:18 - loss: 0.2666 - mae: 0.266 - ETA: 2:17 - loss: 0.2665 - mae: 0.266 - ETA: 2:17 - loss: 0.2665 - mae: 0.266 - ETA: 2:17 - loss: 0.2665 - mae: 0.266 - ETA: 2:17 - loss: 0.2664 - mae: 0.266 - ETA: 2:17 - loss: 0.2664 - mae: 0.266 - ETA: 2:17 - loss: 0.2663 - mae: 0.266 - ETA: 2:17 - loss: 0.2662 - mae: 0.266 - ETA: 2:16 - loss: 0.2662 - mae: 0.266 - ETA: 2:16 - loss: 0.2661 - mae: 0.266 - ETA: 2:16 - loss: 0.2660 - mae: 0.266 - ETA: 2:16 - loss: 0.2660 - mae: 0.266 - ETA: 2:16 - loss: 0.2660 - mae: 0.266 - ETA: 3:04 - loss: 0.2660 - mae: 0.2660 - val_loss: 0.2632 - val_mae: 0.2632Epoch 3/10\n",
      " 64000/200000 [========>.....................] - ETA: 3:43 - loss: 0.2528 - mae: 0.252 - ETA: 3:30 - loss: 0.2362 - mae: 0.236 - ETA: 3:23 - loss: 0.2352 - mae: 0.235 - ETA: 3:15 - loss: 0.2406 - mae: 0.240 - ETA: 3:11 - loss: 0.2483 - mae: 0.248 - ETA: 3:09 - loss: 0.2543 - mae: 0.254 - ETA: 3:08 - loss: 0.2467 - mae: 0.246 - ETA: 3:07 - loss: 0.2500 - mae: 0.250 - ETA: 3:07 - loss: 0.2473 - mae: 0.247 - ETA: 3:06 - loss: 0.2478 - mae: 0.247 - ETA: 3:06 - loss: 0.2484 - mae: 0.248 - ETA: 3:05 - loss: 0.2483 - mae: 0.248 - ETA: 3:05 - loss: 0.2460 - mae: 0.246 - ETA: 3:04 - loss: 0.2459 - mae: 0.245 - ETA: 3:04 - loss: 0.2488 - mae: 0.248 - ETA: 3:04 - loss: 0.2501 - mae: 0.250 - ETA: 3:04 - loss: 0.2496 - mae: 0.249 - ETA: 3:05 - loss: 0.2484 - mae: 0.248 - ETA: 3:05 - loss: 0.2489 - mae: 0.248 - ETA: 3:06 - loss: 0.2504 - mae: 0.250 - ETA: 3:06 - loss: 0.2512 - mae: 0.251 - ETA: 3:06 - loss: 0.2509 - mae: 0.250 - ETA: 3:06 - loss: 0.2507 - mae: 0.250 - ETA: 3:06 - loss: 0.2512 - mae: 0.251 - ETA: 3:06 - loss: 0.2519 - mae: 0.251 - ETA: 3:06 - loss: 0.2521 - mae: 0.252 - ETA: 3:06 - loss: 0.2527 - mae: 0.252 - ETA: 3:06 - loss: 0.2543 - mae: 0.254 - ETA: 3:06 - loss: 0.2547 - mae: 0.254 - ETA: 3:06 - loss: 0.2550 - mae: 0.255 - ETA: 3:06 - loss: 0.2561 - mae: 0.256 - ETA: 3:06 - loss: 0.2558 - mae: 0.255 - ETA: 3:06 - loss: 0.2564 - mae: 0.256 - ETA: 3:06 - loss: 0.2567 - mae: 0.256 - ETA: 3:06 - loss: 0.2568 - mae: 0.256 - ETA: 3:06 - loss: 0.2571 - mae: 0.257 - ETA: 3:06 - loss: 0.2577 - mae: 0.257 - ETA: 3:06 - loss: 0.2580 - mae: 0.258 - ETA: 3:06 - loss: 0.2574 - mae: 0.257 - ETA: 3:07 - loss: 0.2578 - mae: 0.257 - ETA: 3:07 - loss: 0.2581 - mae: 0.258 - ETA: 3:07 - loss: 0.2580 - mae: 0.258 - ETA: 3:07 - loss: 0.2573 - mae: 0.257 - ETA: 3:06 - loss: 0.2572 - mae: 0.257 - ETA: 3:06 - loss: 0.2569 - mae: 0.256 - ETA: 3:06 - loss: 0.2567 - mae: 0.256 - ETA: 3:06 - loss: 0.2572 - mae: 0.257 - ETA: 3:06 - loss: 0.2579 - mae: 0.257 - ETA: 3:06 - loss: 0.2583 - mae: 0.258 - ETA: 3:06 - loss: 0.2585 - mae: 0.258 - ETA: 3:06 - loss: 0.2583 - mae: 0.258 - ETA: 3:06 - loss: 0.2581 - mae: 0.258 - ETA: 3:06 - loss: 0.2581 - mae: 0.258 - ETA: 3:06 - loss: 0.2578 - mae: 0.257 - ETA: 3:06 - loss: 0.2579 - mae: 0.257 - ETA: 3:05 - loss: 0.2580 - mae: 0.258 - ETA: 3:05 - loss: 0.2583 - mae: 0.258 - ETA: 3:05 - loss: 0.2581 - mae: 0.258 - ETA: 3:05 - loss: 0.2576 - mae: 0.257 - ETA: 3:04 - loss: 0.2579 - mae: 0.257 - ETA: 3:04 - loss: 0.2577 - mae: 0.257 - ETA: 3:04 - loss: 0.2575 - mae: 0.257 - ETA: 3:04 - loss: 0.2575 - mae: 0.257 - ETA: 3:04 - loss: 0.2573 - mae: 0.257 - ETA: 3:04 - loss: 0.2573 - mae: 0.257 - ETA: 3:03 - loss: 0.2575 - mae: 0.257 - ETA: 3:03 - loss: 0.2577 - mae: 0.257 - ETA: 3:03 - loss: 0.2575 - mae: 0.257 - ETA: 3:03 - loss: 0.2577 - mae: 0.257 - ETA: 3:04 - loss: 0.2575 - mae: 0.257 - ETA: 3:04 - loss: 0.2570 - mae: 0.257 - ETA: 3:04 - loss: 0.2570 - mae: 0.257 - ETA: 3:05 - loss: 0.2571 - mae: 0.257 - ETA: 3:05 - loss: 0.2572 - mae: 0.257 - ETA: 3:05 - loss: 0.2574 - mae: 0.257 - ETA: 3:06 - loss: 0.2577 - mae: 0.257 - ETA: 3:06 - loss: 0.2576 - mae: 0.257 - ETA: 3:06 - loss: 0.2574 - mae: 0.257 - ETA: 3:07 - loss: 0.2574 - mae: 0.257 - ETA: 3:07 - loss: 0.2576 - mae: 0.257 - ETA: 3:08 - loss: 0.2577 - mae: 0.257 - ETA: 3:08 - loss: 0.2575 - mae: 0.257 - ETA: 3:08 - loss: 0.2575 - mae: 0.257 - ETA: 3:08 - loss: 0.2568 - mae: 0.256 - ETA: 3:08 - loss: 0.2568 - mae: 0.256 - ETA: 3:08 - loss: 0.2567 - mae: 0.256 - ETA: 3:08 - loss: 0.2568 - mae: 0.256 - ETA: 3:08 - loss: 0.2569 - mae: 0.256 - ETA: 3:08 - loss: 0.2570 - mae: 0.257 - ETA: 3:08 - loss: 0.2567 - mae: 0.256 - ETA: 3:09 - loss: 0.2564 - mae: 0.256 - ETA: 3:09 - loss: 0.2567 - mae: 0.256 - ETA: 3:09 - loss: 0.2564 - mae: 0.256 - ETA: 3:09 - loss: 0.2565 - mae: 0.256 - ETA: 3:09 - loss: 0.2566 - mae: 0.256 - ETA: 3:09 - loss: 0.2566 - mae: 0.256 - ETA: 3:09 - loss: 0.2569 - mae: 0.256 - ETA: 3:09 - loss: 0.2567 - mae: 0.256 - ETA: 3:09 - loss: 0.2564 - mae: 0.256 - ETA: 3:09 - loss: 0.2563 - mae: 0.256 - ETA: 3:09 - loss: 0.2563 - mae: 0.256 - ETA: 3:09 - loss: 0.2558 - mae: 0.255 - ETA: 3:08 - loss: 0.2555 - mae: 0.255 - ETA: 3:08 - loss: 0.2554 - mae: 0.255 - ETA: 3:08 - loss: 0.2552 - mae: 0.255 - ETA: 3:08 - loss: 0.2551 - mae: 0.255 - ETA: 3:08 - loss: 0.2553 - mae: 0.255 - ETA: 3:08 - loss: 0.2554 - mae: 0.255 - ETA: 3:08 - loss: 0.2553 - mae: 0.255 - ETA: 3:08 - loss: 0.2554 - mae: 0.255 - ETA: 3:08 - loss: 0.2550 - mae: 0.255 - ETA: 3:07 - loss: 0.2548 - mae: 0.254 - ETA: 3:07 - loss: 0.2547 - mae: 0.254 - ETA: 3:07 - loss: 0.2546 - mae: 0.254 - ETA: 3:07 - loss: 0.2544 - mae: 0.254 - ETA: 3:07 - loss: 0.2544 - mae: 0.254 - ETA: 3:07 - loss: 0.2541 - mae: 0.254 - ETA: 3:07 - loss: 0.2538 - mae: 0.253 - ETA: 3:07 - loss: 0.2536 - mae: 0.253 - ETA: 3:07 - loss: 0.2534 - mae: 0.253 - ETA: 3:07 - loss: 0.2533 - mae: 0.253 - ETA: 3:07 - loss: 0.2533 - mae: 0.253 - ETA: 3:07 - loss: 0.2534 - mae: 0.253 - ETA: 3:06 - loss: 0.2534 - mae: 0.253 - ETA: 3:06 - loss: 0.2535 - mae: 0.253 - ETA: 3:06 - loss: 0.2533 - mae: 0.253 - ETA: 3:06 - loss: 0.2533 - mae: 0.253 - ETA: 3:06 - loss: 0.2531 - mae: 0.253 - ETA: 3:06 - loss: 0.2529 - mae: 0.252 - ETA: 3:05 - loss: 0.2529 - mae: 0.252 - ETA: 3:05 - loss: 0.2527 - mae: 0.252 - ETA: 3:05 - loss: 0.2527 - mae: 0.252 - ETA: 3:05 - loss: 0.2527 - mae: 0.252 - ETA: 3:05 - loss: 0.2527 - mae: 0.252 - ETA: 3:05 - loss: 0.2526 - mae: 0.252 - ETA: 3:05 - loss: 0.2525 - mae: 0.252 - ETA: 3:04 - loss: 0.2523 - mae: 0.252 - ETA: 3:04 - loss: 0.2520 - mae: 0.252 - ETA: 3:04 - loss: 0.2519 - mae: 0.251 - ETA: 3:04 - loss: 0.2518 - mae: 0.251 - ETA: 3:04 - loss: 0.2518 - mae: 0.251 - ETA: 3:04 - loss: 0.2518 - mae: 0.251 - ETA: 3:04 - loss: 0.2516 - mae: 0.251 - ETA: 3:03 - loss: 0.2513 - mae: 0.251 - ETA: 3:03 - loss: 0.2510 - mae: 0.251 - ETA: 3:03 - loss: 0.2510 - mae: 0.251 - ETA: 3:03 - loss: 0.2510 - mae: 0.251 - ETA: 3:03 - loss: 0.2509 - mae: 0.250 - ETA: 3:02 - loss: 0.2510 - mae: 0.251 - ETA: 3:02 - loss: 0.2512 - mae: 0.251 - ETA: 3:02 - loss: 0.2513 - mae: 0.251 - ETA: 3:02 - loss: 0.2511 - mae: 0.251 - ETA: 3:02 - loss: 0.2510 - mae: 0.251 - ETA: 3:02 - loss: 0.2508 - mae: 0.250 - ETA: 3:01 - loss: 0.2508 - mae: 0.250 - ETA: 3:01 - loss: 0.2509 - mae: 0.250 - ETA: 3:01 - loss: 0.2509 - mae: 0.250 - ETA: 3:01 - loss: 0.2510 - mae: 0.251 - ETA: 3:01 - loss: 0.2511 - mae: 0.251 - ETA: 3:01 - loss: 0.2511 - mae: 0.251 - ETA: 3:00 - loss: 0.2513 - mae: 0.251 - ETA: 3:00 - loss: 0.2512 - mae: 0.251 - ETA: 3:00 - loss: 0.2511 - mae: 0.251 - ETA: 3:00 - loss: 0.2509 - mae: 0.250 - ETA: 3:00 - loss: 0.2508 - mae: 0.250 - ETA: 3:00 - loss: 0.2508 - mae: 0.250 - ETA: 2:59 - loss: 0.2508 - mae: 0.250 - ETA: 2:59 - loss: 0.2508 - mae: 0.250 - ETA: 2:59 - loss: 0.2508 - mae: 0.250 - ETA: 2:59 - loss: 0.2506 - mae: 0.250 - ETA: 2:59 - loss: 0.2505 - mae: 0.250 - ETA: 2:59 - loss: 0.2507 - mae: 0.250 - ETA: 2:59 - loss: 0.2506 - mae: 0.250 - ETA: 2:59 - loss: 0.2505 - mae: 0.250 - ETA: 2:59 - loss: 0.2503 - mae: 0.250 - ETA: 2:59 - loss: 0.2502 - mae: 0.250 - ETA: 2:58 - loss: 0.2500 - mae: 0.250 - ETA: 2:58 - loss: 0.2499 - mae: 0.249 - ETA: 2:58 - loss: 0.2499 - mae: 0.249 - ETA: 2:58 - loss: 0.2498 - mae: 0.249 - ETA: 2:58 - loss: 0.2497 - mae: 0.249 - ETA: 2:58 - loss: 0.2498 - mae: 0.249 - ETA: 2:58 - loss: 0.2498 - mae: 0.249 - ETA: 2:58 - loss: 0.2497 - mae: 0.249 - ETA: 2:57 - loss: 0.2498 - mae: 0.249 - ETA: 2:57 - loss: 0.2498 - mae: 0.249 - ETA: 2:57 - loss: 0.2498 - mae: 0.249 - ETA: 2:57 - loss: 0.2495 - mae: 0.249 - ETA: 2:57 - loss: 0.2494 - mae: 0.249 - ETA: 2:57 - loss: 0.2494 - mae: 0.249 - ETA: 2:57 - loss: 0.2494 - mae: 0.249 - ETA: 2:56 - loss: 0.2494 - mae: 0.249 - ETA: 2:56 - loss: 0.2494 - mae: 0.249 - ETA: 2:56 - loss: 0.2493 - mae: 0.249 - ETA: 2:56 - loss: 0.2493 - mae: 0.249 - ETA: 2:56 - loss: 0.2493 - mae: 0.249 - ETA: 2:56 - loss: 0.2493 - mae: 0.249 - ETA: 2:56 - loss: 0.2492 - mae: 0.249 - ETA: 2:55 - loss: 0.2491 - mae: 0.249 - ETA: 2:55 - loss: 0.2492 - mae: 0.249 - ETA: 2:55 - loss: 0.2491 - mae: 0.249 - ETA: 2:55 - loss: 0.2491 - mae: 0.249 - ETA: 2:55 - loss: 0.2489 - mae: 0.248 - ETA: 2:55 - loss: 0.2489 - mae: 0.248 - ETA: 2:54 - loss: 0.2489 - mae: 0.248 - ETA: 2:54 - loss: 0.2489 - mae: 0.248 - ETA: 2:54 - loss: 0.2490 - mae: 0.249 - ETA: 2:54 - loss: 0.2490 - mae: 0.249 - ETA: 2:54 - loss: 0.2488 - mae: 0.248 - ETA: 2:54 - loss: 0.2488 - mae: 0.248 - ETA: 2:54 - loss: 0.2488 - mae: 0.248 - ETA: 2:54 - loss: 0.2488 - mae: 0.248 - ETA: 2:55 - loss: 0.2487 - mae: 0.248 - ETA: 2:55 - loss: 0.2486 - mae: 0.248 - ETA: 2:55 - loss: 0.2486 - mae: 0.248 - ETA: 2:55 - loss: 0.2486 - mae: 0.248 - ETA: 2:55 - loss: 0.2486 - mae: 0.248 - ETA: 2:54 - loss: 0.2487 - mae: 0.248 - ETA: 2:54 - loss: 0.2486 - mae: 0.248 - ETA: 2:54 - loss: 0.2488 - mae: 0.248 - ETA: 2:54 - loss: 0.2488 - mae: 0.248 - ETA: 2:54 - loss: 0.2487 - mae: 0.248 - ETA: 2:54 - loss: 0.2488 - mae: 0.248 - ETA: 2:54 - loss: 0.2488 - mae: 0.248 - ETA: 2:54 - loss: 0.2488 - mae: 0.248 - ETA: 2:53 - loss: 0.2488 - mae: 0.248 - ETA: 2:53 - loss: 0.2487 - mae: 0.248 - ETA: 2:53 - loss: 0.2487 - mae: 0.248 - ETA: 2:53 - loss: 0.2487 - mae: 0.248 - ETA: 2:53 - loss: 0.2486 - mae: 0.248 - ETA: 2:53 - loss: 0.2486 - mae: 0.248 - ETA: 2:53 - loss: 0.2486 - mae: 0.248 - ETA: 2:52 - loss: 0.2485 - mae: 0.248 - ETA: 2:52 - loss: 0.2486 - mae: 0.248 - ETA: 2:52 - loss: 0.2487 - mae: 0.248 - ETA: 2:52 - loss: 0.2486 - mae: 0.248 - ETA: 2:52 - loss: 0.2487 - mae: 0.248 - ETA: 2:52 - loss: 0.2485 - mae: 0.248 - ETA: 2:52 - loss: 0.2483 - mae: 0.248 - ETA: 2:51 - loss: 0.2482 - mae: 0.248 - ETA: 2:51 - loss: 0.2482 - mae: 0.248 - ETA: 2:51 - loss: 0.2482 - mae: 0.248 - ETA: 2:51 - loss: 0.2482 - mae: 0.248 - ETA: 2:51 - loss: 0.2482 - mae: 0.248 - ETA: 2:51 - loss: 0.2482 - mae: 0.248 - ETA: 2:51 - loss: 0.2482 - mae: 0.248 - ETA: 2:50 - loss: 0.2482 - mae: 0.248 - ETA: 2:50 - loss: 0.2482 - mae: 0.248 - ETA: 2:50 - loss: 0.2481 - mae: 0.248 - ETA: 2:50 - loss: 0.2480 - mae: 0.248 - ETA: 2:50 - loss: 0.2479 - mae: 0.247 - ETA: 2:50 - loss: 0.2479 - mae: 0.247 - ETA: 2:50 - loss: 0.2479 - mae: 0.247 - ETA: 2:50 - loss: 0.2479 - mae: 0.247 - ETA: 2:50 - loss: 0.2479 - mae: 0.247 - ETA: 2:50 - loss: 0.2478 - mae: 0.247 - ETA: 2:49 - loss: 0.2478 - mae: 0.247 - ETA: 2:49 - loss: 0.2477 - mae: 0.247 - ETA: 2:49 - loss: 0.2477 - mae: 0.247 - ETA: 2:49 - loss: 0.2476 - mae: 0.247 - ETA: 2:49 - loss: 0.2476 - mae: 0.247 - ETA: 2:49 - loss: 0.2476 - mae: 0.247 - ETA: 2:49 - loss: 0.2476 - mae: 0.247 - ETA: 2:49 - loss: 0.2476 - mae: 0.247 - ETA: 2:48 - loss: 0.2475 - mae: 0.247 - ETA: 2:48 - loss: 0.2476 - mae: 0.247 - ETA: 2:48 - loss: 0.2475 - mae: 0.247 - ETA: 2:48 - loss: 0.2475 - mae: 0.247 - ETA: 2:48 - loss: 0.2476 - mae: 0.247 - ETA: 2:48 - loss: 0.2475 - mae: 0.247 - ETA: 2:48 - loss: 0.2475 - mae: 0.247 - ETA: 2:47 - loss: 0.2474 - mae: 0.247 - ETA: 2:47 - loss: 0.2472 - mae: 0.247 - ETA: 2:47 - loss: 0.2472 - mae: 0.247 - ETA: 2:47 - loss: 0.2472 - mae: 0.247 - ETA: 2:47 - loss: 0.2472 - mae: 0.247 - ETA: 2:47 - loss: 0.2472 - mae: 0.247 - ETA: 2:47 - loss: 0.2471 - mae: 0.247 - ETA: 2:46 - loss: 0.2470 - mae: 0.247 - ETA: 2:46 - loss: 0.2470 - mae: 0.247 - ETA: 2:46 - loss: 0.2470 - mae: 0.247 - ETA: 2:46 - loss: 0.2471 - mae: 0.247 - ETA: 2:46 - loss: 0.2471 - mae: 0.247 - ETA: 2:46 - loss: 0.2470 - mae: 0.247 - ETA: 2:46 - loss: 0.2469 - mae: 0.246 - ETA: 2:45 - loss: 0.2470 - mae: 0.247 - ETA: 2:45 - loss: 0.2469 - mae: 0.246 - ETA: 2:45 - loss: 0.2468 - mae: 0.246 - ETA: 2:45 - loss: 0.2468 - mae: 0.246 - ETA: 2:45 - loss: 0.2468 - mae: 0.246 - ETA: 2:45 - loss: 0.2468 - mae: 0.246 - ETA: 2:45 - loss: 0.2468 - mae: 0.246 - ETA: 2:44 - loss: 0.2468 - mae: 0.246 - ETA: 2:44 - loss: 0.2468 - mae: 0.246 - ETA: 2:44 - loss: 0.2468 - mae: 0.246 - ETA: 2:44 - loss: 0.2467 - mae: 0.246 - ETA: 2:44 - loss: 0.2467 - mae: 0.246 - ETA: 2:44 - loss: 0.2467 - mae: 0.246 - ETA: 2:44 - loss: 0.2467 - mae: 0.246 - ETA: 2:44 - loss: 0.2466 - mae: 0.246 - ETA: 2:43 - loss: 0.2466 - mae: 0.246 - ETA: 2:43 - loss: 0.2467 - mae: 0.246 - ETA: 2:43 - loss: 0.2467 - mae: 0.246 - ETA: 2:43 - loss: 0.2467 - mae: 0.246 - ETA: 2:43 - loss: 0.2467 - mae: 0.246 - ETA: 2:43 - loss: 0.2467 - mae: 0.246 - ETA: 2:43 - loss: 0.2468 - mae: 0.246 - ETA: 2:42 - loss: 0.2467 - mae: 0.246 - ETA: 2:42 - loss: 0.2466 - mae: 0.246 - ETA: 2:42 - loss: 0.2466 - mae: 0.246 - ETA: 2:42 - loss: 0.2465 - mae: 0.246 - ETA: 2:42 - loss: 0.2465 - mae: 0.246 - ETA: 2:42 - loss: 0.2465 - mae: 0.246 - ETA: 2:41 - loss: 0.2464 - mae: 0.246 - ETA: 2:41 - loss: 0.2463 - mae: 0.246 - ETA: 2:41 - loss: 0.2463 - mae: 0.246 - ETA: 2:41 - loss: 0.2463 - mae: 0.246 - ETA: 2:41 - loss: 0.2462 - mae: 0.246 - ETA: 2:41 - loss: 0.2462 - mae: 0.246 - ETA: 2:41 - loss: 0.2461 - mae: 0.246 - ETA: 2:41 - loss: 0.2460 - mae: 0.246 - ETA: 2:41 - loss: 0.2460 - mae: 0.246 - ETA: 2:41 - loss: 0.2460 - mae: 0.246 - ETA: 2:41 - loss: 0.2460 - mae: 0.246 - ETA: 2:41 - loss: 0.2459 - mae: 0.245 - ETA: 2:40 - loss: 0.2459 - mae: 0.245 - ETA: 2:40 - loss: 0.2459 - mae: 0.245 - ETA: 2:40 - loss: 0.2458 - mae: 0.245 - ETA: 2:40 - loss: 0.2457 - mae: 0.245 - ETA: 2:40 - loss: 0.2456 - mae: 0.245 - ETA: 2:40 - loss: 0.2456 - mae: 0.245 - ETA: 2:40 - loss: 0.2455 - mae: 0.245 - ETA: 2:40 - loss: 0.2455 - mae: 0.245 - ETA: 2:40 - loss: 0.2455 - mae: 0.245 - ETA: 2:39 - loss: 0.2455 - mae: 0.245 - ETA: 2:39 - loss: 0.2455 - mae: 0.245 - ETA: 2:39 - loss: 0.2454 - mae: 0.245 - ETA: 2:39 - loss: 0.2454 - mae: 0.245 - ETA: 2:39 - loss: 0.2453 - mae: 0.245 - ETA: 2:39 - loss: 0.2452 - mae: 0.245 - ETA: 2:39 - loss: 0.2451 - mae: 0.245 - ETA: 2:39 - loss: 0.2450 - mae: 0.245 - ETA: 2:39 - loss: 0.2449 - mae: 0.244 - ETA: 2:38 - loss: 0.2449 - mae: 0.244 - ETA: 2:38 - loss: 0.2448 - mae: 0.244 - ETA: 2:38 - loss: 0.2448 - mae: 0.244 - ETA: 2:38 - loss: 0.2447 - mae: 0.244 - ETA: 2:38 - loss: 0.2447 - mae: 0.244 - ETA: 2:38 - loss: 0.2447 - mae: 0.244 - ETA: 2:38 - loss: 0.2447 - mae: 0.244 - ETA: 2:37 - loss: 0.2446 - mae: 0.244 - ETA: 2:37 - loss: 0.2446 - mae: 0.244 - ETA: 2:37 - loss: 0.2446 - mae: 0.244 - ETA: 2:37 - loss: 0.2445 - mae: 0.244 - ETA: 2:37 - loss: 0.2445 - mae: 0.244 - ETA: 2:37 - loss: 0.2445 - mae: 0.244 - ETA: 2:37 - loss: 0.2445 - mae: 0.244 - ETA: 2:36 - loss: 0.2444 - mae: 0.244 - ETA: 2:36 - loss: 0.2444 - mae: 0.244 - ETA: 2:36 - loss: 0.2445 - mae: 0.244 - ETA: 2:36 - loss: 0.2445 - mae: 0.244 - ETA: 2:36 - loss: 0.2445 - mae: 0.244 - ETA: 2:36 - loss: 0.2445 - mae: 0.244 - ETA: 2:36 - loss: 0.2445 - mae: 0.244 - ETA: 2:35 - loss: 0.2445 - mae: 0.244 - ETA: 2:35 - loss: 0.2445 - mae: 0.244 - ETA: 2:35 - loss: 0.2444 - mae: 0.244 - ETA: 2:35 - loss: 0.2443 - mae: 0.244 - ETA: 2:35 - loss: 0.2442 - mae: 0.244 - ETA: 2:35 - loss: 0.2442 - mae: 0.244 - ETA: 2:35 - loss: 0.2442 - mae: 0.244 - ETA: 2:34 - loss: 0.2441 - mae: 0.244 - ETA: 2:34 - loss: 0.2442 - mae: 0.244 - ETA: 2:34 - loss: 0.2443 - mae: 0.244 - ETA: 2:34 - loss: 0.2442 - mae: 0.244 - ETA: 2:34 - loss: 0.2441 - mae: 0.244 - ETA: 2:34 - loss: 0.2441 - mae: 0.244 - ETA: 2:34 - loss: 0.2441 - mae: 0.244 - ETA: 2:33 - loss: 0.2441 - mae: 0.244 - ETA: 2:33 - loss: 0.2442 - mae: 0.244 - ETA: 2:33 - loss: 0.2441 - mae: 0.244 - ETA: 2:33 - loss: 0.2442 - mae: 0.244 - ETA: 2:33 - loss: 0.2441 - mae: 0.244 - ETA: 2:33 - loss: 0.2441 - mae: 0.244 - ETA: 2:33 - loss: 0.2442 - mae: 0.244 - ETA: 2:32 - loss: 0.2441 - mae: 0.244 - ETA: 2:32 - loss: 0.2441 - mae: 0.244 - ETA: 2:32 - loss: 0.2441 - mae: 0.244 - ETA: 2:32 - loss: 0.2441 - mae: 0.244 - ETA: 2:32 - loss: 0.2442 - mae: 0.244 - ETA: 2:32 - loss: 0.2441 - mae: 0.244 - ETA: 2:32 - loss: 0.2440 - mae: 0.244 - ETA: 2:32 - loss: 0.2439 - mae: 0.243 - ETA: 2:31 - loss: 0.2439 - mae: 0.243 - ETA: 2:31 - loss: 0.2438 - mae: 0.243 - ETA: 2:31 - loss: 0.2438 - mae: 0.243 - ETA: 2:31 - loss: 0.2438 - mae: 0.243 - ETA: 2:31 - loss: 0.2438 - mae: 0.243 - ETA: 2:31 - loss: 0.2437 - mae: 0.243 - ETA: 2:31 - loss: 0.2437 - mae: 0.243 - ETA: 2:30 - loss: 0.2436 - mae: 0.243 - ETA: 2:30 - loss: 0.2436 - mae: 0.243 - ETA: 2:30 - loss: 0.2436 - mae: 0.243 - ETA: 2:30 - loss: 0.2436 - mae: 0.243 - ETA: 2:30 - loss: 0.2435 - mae: 0.243 - ETA: 2:30 - loss: 0.2435 - mae: 0.243 - ETA: 2:30 - loss: 0.2434 - mae: 0.243 - ETA: 2:29 - loss: 0.2433 - mae: 0.243 - ETA: 2:29 - loss: 0.2433 - mae: 0.243 - ETA: 2:29 - loss: 0.2432 - mae: 0.243 - ETA: 2:29 - loss: 0.2432 - mae: 0.243 - ETA: 2:29 - loss: 0.2432 - mae: 0.243 - ETA: 2:29 - loss: 0.2431 - mae: 0.243 - ETA: 2:29 - loss: 0.2431 - mae: 0.243 - ETA: 2:29 - loss: 0.2430 - mae: 0.243 - ETA: 2:29 - loss: 0.2430 - mae: 0.243 - ETA: 2:29 - loss: 0.2428 - mae: 0.242 - ETA: 2:28 - loss: 0.2427 - mae: 0.242 - ETA: 2:28 - loss: 0.2427 - mae: 0.242 - ETA: 2:28 - loss: 0.2427 - mae: 0.242 - ETA: 2:28 - loss: 0.2427 - mae: 0.242 - ETA: 2:28 - loss: 0.2426 - mae: 0.242 - ETA: 2:28 - loss: 0.2427 - mae: 0.242 - ETA: 2:28 - loss: 0.2426 - mae: 0.242 - ETA: 2:28 - loss: 0.2425 - mae: 0.242 - ETA: 2:27 - loss: 0.2425 - mae: 0.242 - ETA: 2:27 - loss: 0.2425 - mae: 0.242 - ETA: 2:27 - loss: 0.2425 - mae: 0.242 - ETA: 2:27 - loss: 0.2426 - mae: 0.242 - ETA: 2:27 - loss: 0.2425 - mae: 0.242 - ETA: 2:27 - loss: 0.2425 - mae: 0.242 - ETA: 2:27 - loss: 0.2425 - mae: 0.242 - ETA: 2:26 - loss: 0.2425 - mae: 0.242 - ETA: 2:26 - loss: 0.2425 - mae: 0.242 - ETA: 2:26 - loss: 0.2424 - mae: 0.242 - ETA: 2:26 - loss: 0.2424 - mae: 0.242 - ETA: 2:26 - loss: 0.2424 - mae: 0.242 - ETA: 2:26 - loss: 0.2424 - mae: 0.242 - ETA: 2:26 - loss: 0.2424 - mae: 0.242 - ETA: 2:25 - loss: 0.2424 - mae: 0.242 - ETA: 2:25 - loss: 0.2424 - mae: 0.242 - ETA: 2:25 - loss: 0.2423 - mae: 0.242 - ETA: 2:25 - loss: 0.2423 - mae: 0.242 - ETA: 2:25 - loss: 0.2423 - mae: 0.242 - ETA: 2:25 - loss: 0.2423 - mae: 0.242 - ETA: 2:25 - loss: 0.2423 - mae: 0.242 - ETA: 2:24 - loss: 0.2423 - mae: 0.242 - ETA: 2:24 - loss: 0.2422 - mae: 0.242 - ETA: 2:24 - loss: 0.2422 - mae: 0.242 - ETA: 2:24 - loss: 0.2421 - mae: 0.242 - ETA: 2:24 - loss: 0.2421 - mae: 0.242 - ETA: 2:24 - loss: 0.2421 - mae: 0.242 - ETA: 2:24 - loss: 0.2421 - mae: 0.242 - ETA: 2:23 - loss: 0.2420 - mae: 0.242 - ETA: 2:23 - loss: 0.2420 - mae: 0.242 - ETA: 2:23 - loss: 0.2420 - mae: 0.242 - ETA: 2:23 - loss: 0.2420 - mae: 0.242 - ETA: 2:23 - loss: 0.2420 - mae: 0.242 - ETA: 2:23 - loss: 0.2420 - mae: 0.242 - ETA: 2:23 - loss: 0.2419 - mae: 0.241 - ETA: 2:22 - loss: 0.2419 - mae: 0.241 - ETA: 2:22 - loss: 0.2418 - mae: 0.241 - ETA: 2:22 - loss: 0.2418 - mae: 0.241 - ETA: 2:22 - loss: 0.2417 - mae: 0.241 - ETA: 2:22 - loss: 0.2418 - mae: 0.241 - ETA: 2:22 - loss: 0.2417 - mae: 0.241 - ETA: 2:22 - loss: 0.2416 - mae: 0.241 - ETA: 2:22 - loss: 0.2416 - mae: 0.241 - ETA: 2:21 - loss: 0.2416 - mae: 0.241 - ETA: 2:21 - loss: 0.2415 - mae: 0.241 - ETA: 2:21 - loss: 0.2414 - mae: 0.241 - ETA: 2:21 - loss: 0.2414 - mae: 0.241 - ETA: 2:21 - loss: 0.2414 - mae: 0.241 - ETA: 2:21 - loss: 0.2414 - mae: 0.241 - ETA: 2:21 - loss: 0.2414 - mae: 0.241 - ETA: 2:20 - loss: 0.2413 - mae: 0.241 - ETA: 2:20 - loss: 0.2413 - mae: 0.241 - ETA: 2:20 - loss: 0.2412 - mae: 0.241 - ETA: 2:20 - loss: 0.2411 - mae: 0.241 - ETA: 2:20 - loss: 0.2410 - mae: 0.241 - ETA: 2:20 - loss: 0.2410 - mae: 0.241 - ETA: 2:20 - loss: 0.2410 - mae: 0.241 - ETA: 2:19 - loss: 0.2410 - mae: 0.241 - ETA: 2:19 - loss: 0.2409 - mae: 0.240 - ETA: 2:19 - loss: 0.2409 - mae: 0.240 - ETA: 2:19 - loss: 0.2409 - mae: 0.240 - ETA: 2:19 - loss: 0.2409 - mae: 0.240 - ETA: 2:19 - loss: 0.2409 - mae: 0.240 - ETA: 2:19 - loss: 0.2409 - mae: 0.240 - ETA: 2:19 - loss: 0.2409 - mae: 0.240 - ETA: 2:18 - loss: 0.2409 - mae: 0.240 - ETA: 2:18 - loss: 0.2408 - mae: 0.240 - ETA: 2:18 - loss: 0.2408 - mae: 0.240 - ETA: 2:18 - loss: 0.2407 - mae: 0.240 - ETA: 2:18 - loss: 0.2408 - mae: 0.240 - ETA: 2:18 - loss: 0.2407 - mae: 0.240 - ETA: 2:18 - loss: 0.2407 - mae: 0.240 - ETA: 2:18 - loss: 0.2407 - mae: 0.240 - ETA: 2:18 - loss: 0.2407 - mae: 0.240 - ETA: 2:17 - loss: 0.2406 - mae: 0.240 - ETA: 3:07 - loss: 0.2406 - mae: 0.2406 - val_loss: 0.2756 - val_mae: 0.2756Epoch 4/10\n",
      " 63936/200000 [========>.....................] - ETA: 3:29 - loss: 0.2236 - mae: 0.223 - ETA: 3:32 - loss: 0.2165 - mae: 0.216 - ETA: 3:33 - loss: 0.2311 - mae: 0.231 - ETA: 3:29 - loss: 0.2291 - mae: 0.229 - ETA: 3:28 - loss: 0.2291 - mae: 0.229 - ETA: 3:27 - loss: 0.2283 - mae: 0.228 - ETA: 3:28 - loss: 0.2278 - mae: 0.227 - ETA: 3:28 - loss: 0.2289 - mae: 0.228 - ETA: 3:27 - loss: 0.2275 - mae: 0.227 - ETA: 3:25 - loss: 0.2295 - mae: 0.229 - ETA: 3:24 - loss: 0.2270 - mae: 0.227 - ETA: 3:24 - loss: 0.2284 - mae: 0.228 - ETA: 3:23 - loss: 0.2290 - mae: 0.229 - ETA: 3:21 - loss: 0.2287 - mae: 0.228 - ETA: 3:21 - loss: 0.2289 - mae: 0.228 - ETA: 3:20 - loss: 0.2284 - mae: 0.228 - ETA: 3:19 - loss: 0.2293 - mae: 0.229 - ETA: 3:18 - loss: 0.2301 - mae: 0.230 - ETA: 3:18 - loss: 0.2292 - mae: 0.229 - ETA: 3:18 - loss: 0.2289 - mae: 0.228 - ETA: 3:17 - loss: 0.2288 - mae: 0.228 - ETA: 3:17 - loss: 0.2285 - mae: 0.228 - ETA: 3:16 - loss: 0.2282 - mae: 0.228 - ETA: 3:16 - loss: 0.2279 - mae: 0.227 - ETA: 3:16 - loss: 0.2263 - mae: 0.226 - ETA: 3:15 - loss: 0.2260 - mae: 0.226 - ETA: 3:15 - loss: 0.2259 - mae: 0.225 - ETA: 3:15 - loss: 0.2262 - mae: 0.226 - ETA: 3:15 - loss: 0.2265 - mae: 0.226 - ETA: 3:14 - loss: 0.2266 - mae: 0.226 - ETA: 3:14 - loss: 0.2262 - mae: 0.226 - ETA: 3:14 - loss: 0.2251 - mae: 0.225 - ETA: 3:13 - loss: 0.2248 - mae: 0.224 - ETA: 3:13 - loss: 0.2246 - mae: 0.224 - ETA: 3:13 - loss: 0.2246 - mae: 0.224 - ETA: 3:13 - loss: 0.2261 - mae: 0.226 - ETA: 3:12 - loss: 0.2255 - mae: 0.225 - ETA: 3:12 - loss: 0.2255 - mae: 0.225 - ETA: 3:11 - loss: 0.2255 - mae: 0.225 - ETA: 3:12 - loss: 0.2254 - mae: 0.225 - ETA: 3:11 - loss: 0.2266 - mae: 0.226 - ETA: 3:11 - loss: 0.2264 - mae: 0.226 - ETA: 3:11 - loss: 0.2262 - mae: 0.226 - ETA: 3:11 - loss: 0.2264 - mae: 0.226 - ETA: 3:11 - loss: 0.2270 - mae: 0.227 - ETA: 3:10 - loss: 0.2270 - mae: 0.227 - ETA: 3:10 - loss: 0.2267 - mae: 0.226 - ETA: 3:10 - loss: 0.2268 - mae: 0.226 - ETA: 3:10 - loss: 0.2274 - mae: 0.227 - ETA: 3:11 - loss: 0.2278 - mae: 0.227 - ETA: 3:11 - loss: 0.2279 - mae: 0.227 - ETA: 3:11 - loss: 0.2285 - mae: 0.228 - ETA: 3:11 - loss: 0.2287 - mae: 0.228 - ETA: 3:11 - loss: 0.2281 - mae: 0.228 - ETA: 3:10 - loss: 0.2284 - mae: 0.228 - ETA: 3:10 - loss: 0.2287 - mae: 0.228 - ETA: 3:10 - loss: 0.2295 - mae: 0.229 - ETA: 3:10 - loss: 0.2295 - mae: 0.229 - ETA: 3:09 - loss: 0.2291 - mae: 0.229 - ETA: 3:09 - loss: 0.2291 - mae: 0.229 - ETA: 3:09 - loss: 0.2291 - mae: 0.229 - ETA: 3:09 - loss: 0.2291 - mae: 0.229 - ETA: 3:10 - loss: 0.2293 - mae: 0.229 - ETA: 3:09 - loss: 0.2291 - mae: 0.229 - ETA: 3:09 - loss: 0.2293 - mae: 0.229 - ETA: 3:09 - loss: 0.2293 - mae: 0.229 - ETA: 3:09 - loss: 0.2287 - mae: 0.228 - ETA: 3:09 - loss: 0.2285 - mae: 0.228 - ETA: 3:09 - loss: 0.2286 - mae: 0.228 - ETA: 3:08 - loss: 0.2286 - mae: 0.228 - ETA: 3:08 - loss: 0.2284 - mae: 0.228 - ETA: 3:08 - loss: 0.2286 - mae: 0.228 - ETA: 3:08 - loss: 0.2287 - mae: 0.228 - ETA: 3:07 - loss: 0.2286 - mae: 0.228 - ETA: 3:07 - loss: 0.2286 - mae: 0.228 - ETA: 3:07 - loss: 0.2285 - mae: 0.228 - ETA: 3:07 - loss: 0.2283 - mae: 0.228 - ETA: 3:06 - loss: 0.2285 - mae: 0.228 - ETA: 3:06 - loss: 0.2286 - mae: 0.228 - ETA: 3:06 - loss: 0.2287 - mae: 0.228 - ETA: 3:06 - loss: 0.2287 - mae: 0.228 - ETA: 3:05 - loss: 0.2286 - mae: 0.228 - ETA: 3:05 - loss: 0.2288 - mae: 0.228 - ETA: 3:05 - loss: 0.2286 - mae: 0.228 - ETA: 3:05 - loss: 0.2284 - mae: 0.228 - ETA: 3:05 - loss: 0.2282 - mae: 0.228 - ETA: 3:05 - loss: 0.2283 - mae: 0.228 - ETA: 3:05 - loss: 0.2281 - mae: 0.228 - ETA: 3:05 - loss: 0.2277 - mae: 0.227 - ETA: 3:05 - loss: 0.2274 - mae: 0.227 - ETA: 3:05 - loss: 0.2272 - mae: 0.227 - ETA: 3:05 - loss: 0.2272 - mae: 0.227 - ETA: 3:04 - loss: 0.2268 - mae: 0.226 - ETA: 3:04 - loss: 0.2267 - mae: 0.226 - ETA: 3:04 - loss: 0.2269 - mae: 0.226 - ETA: 3:04 - loss: 0.2271 - mae: 0.227 - ETA: 3:04 - loss: 0.2269 - mae: 0.226 - ETA: 3:04 - loss: 0.2271 - mae: 0.227 - ETA: 3:03 - loss: 0.2272 - mae: 0.227 - ETA: 3:03 - loss: 0.2272 - mae: 0.227 - ETA: 3:03 - loss: 0.2272 - mae: 0.227 - ETA: 3:03 - loss: 0.2272 - mae: 0.227 - ETA: 3:03 - loss: 0.2271 - mae: 0.227 - ETA: 3:03 - loss: 0.2270 - mae: 0.227 - ETA: 3:03 - loss: 0.2271 - mae: 0.227 - ETA: 3:03 - loss: 0.2270 - mae: 0.227 - ETA: 3:03 - loss: 0.2269 - mae: 0.226 - ETA: 3:02 - loss: 0.2270 - mae: 0.227 - ETA: 3:03 - loss: 0.2269 - mae: 0.226 - ETA: 3:03 - loss: 0.2271 - mae: 0.227 - ETA: 3:03 - loss: 0.2270 - mae: 0.227 - ETA: 3:03 - loss: 0.2271 - mae: 0.227 - ETA: 3:03 - loss: 0.2272 - mae: 0.227 - ETA: 3:02 - loss: 0.2273 - mae: 0.227 - ETA: 3:02 - loss: 0.2272 - mae: 0.227 - ETA: 3:02 - loss: 0.2273 - mae: 0.227 - ETA: 3:02 - loss: 0.2273 - mae: 0.227 - ETA: 3:02 - loss: 0.2272 - mae: 0.227 - ETA: 3:02 - loss: 0.2271 - mae: 0.227 - ETA: 3:02 - loss: 0.2268 - mae: 0.226 - ETA: 3:02 - loss: 0.2267 - mae: 0.226 - ETA: 3:02 - loss: 0.2268 - mae: 0.226 - ETA: 3:01 - loss: 0.2267 - mae: 0.226 - ETA: 3:01 - loss: 0.2266 - mae: 0.226 - ETA: 3:01 - loss: 0.2266 - mae: 0.226 - ETA: 3:01 - loss: 0.2265 - mae: 0.226 - ETA: 3:01 - loss: 0.2263 - mae: 0.226 - ETA: 3:00 - loss: 0.2262 - mae: 0.226 - ETA: 3:00 - loss: 0.2261 - mae: 0.226 - ETA: 3:00 - loss: 0.2260 - mae: 0.226 - ETA: 3:00 - loss: 0.2259 - mae: 0.225 - ETA: 3:00 - loss: 0.2257 - mae: 0.225 - ETA: 2:59 - loss: 0.2258 - mae: 0.225 - ETA: 2:59 - loss: 0.2256 - mae: 0.225 - ETA: 2:59 - loss: 0.2257 - mae: 0.225 - ETA: 2:59 - loss: 0.2256 - mae: 0.225 - ETA: 2:59 - loss: 0.2253 - mae: 0.225 - ETA: 2:59 - loss: 0.2253 - mae: 0.225 - ETA: 2:59 - loss: 0.2251 - mae: 0.225 - ETA: 2:58 - loss: 0.2253 - mae: 0.225 - ETA: 2:58 - loss: 0.2251 - mae: 0.225 - ETA: 2:58 - loss: 0.2252 - mae: 0.225 - ETA: 2:58 - loss: 0.2251 - mae: 0.225 - ETA: 2:58 - loss: 0.2251 - mae: 0.225 - ETA: 2:58 - loss: 0.2250 - mae: 0.225 - ETA: 2:58 - loss: 0.2251 - mae: 0.225 - ETA: 2:58 - loss: 0.2249 - mae: 0.224 - ETA: 2:58 - loss: 0.2247 - mae: 0.224 - ETA: 2:57 - loss: 0.2248 - mae: 0.224 - ETA: 2:57 - loss: 0.2249 - mae: 0.224 - ETA: 2:57 - loss: 0.2250 - mae: 0.225 - ETA: 2:57 - loss: 0.2248 - mae: 0.224 - ETA: 2:57 - loss: 0.2248 - mae: 0.224 - ETA: 2:57 - loss: 0.2247 - mae: 0.224 - ETA: 2:57 - loss: 0.2246 - mae: 0.224 - ETA: 2:57 - loss: 0.2246 - mae: 0.224 - ETA: 2:57 - loss: 0.2245 - mae: 0.224 - ETA: 2:56 - loss: 0.2243 - mae: 0.224 - ETA: 2:56 - loss: 0.2243 - mae: 0.224 - ETA: 2:56 - loss: 0.2243 - mae: 0.224 - ETA: 2:56 - loss: 0.2241 - mae: 0.224 - ETA: 2:56 - loss: 0.2243 - mae: 0.224 - ETA: 2:56 - loss: 0.2242 - mae: 0.224 - ETA: 2:56 - loss: 0.2241 - mae: 0.224 - ETA: 2:56 - loss: 0.2240 - mae: 0.224 - ETA: 2:56 - loss: 0.2240 - mae: 0.224 - ETA: 2:56 - loss: 0.2240 - mae: 0.224 - ETA: 2:55 - loss: 0.2239 - mae: 0.223 - ETA: 2:55 - loss: 0.2239 - mae: 0.223 - ETA: 2:55 - loss: 0.2238 - mae: 0.223 - ETA: 2:55 - loss: 0.2236 - mae: 0.223 - ETA: 2:55 - loss: 0.2235 - mae: 0.223 - ETA: 2:55 - loss: 0.2234 - mae: 0.223 - ETA: 2:55 - loss: 0.2232 - mae: 0.223 - ETA: 2:55 - loss: 0.2233 - mae: 0.223 - ETA: 2:55 - loss: 0.2232 - mae: 0.223 - ETA: 2:55 - loss: 0.2231 - mae: 0.223 - ETA: 2:55 - loss: 0.2231 - mae: 0.223 - ETA: 2:55 - loss: 0.2232 - mae: 0.223 - ETA: 2:54 - loss: 0.2232 - mae: 0.223 - ETA: 2:54 - loss: 0.2231 - mae: 0.223 - ETA: 2:54 - loss: 0.2231 - mae: 0.223 - ETA: 2:54 - loss: 0.2231 - mae: 0.223 - ETA: 2:54 - loss: 0.2231 - mae: 0.223 - ETA: 2:54 - loss: 0.2230 - mae: 0.223 - ETA: 2:54 - loss: 0.2229 - mae: 0.222 - ETA: 2:54 - loss: 0.2230 - mae: 0.223 - ETA: 2:53 - loss: 0.2229 - mae: 0.222 - ETA: 2:53 - loss: 0.2227 - mae: 0.222 - ETA: 2:53 - loss: 0.2227 - mae: 0.222 - ETA: 2:53 - loss: 0.2226 - mae: 0.222 - ETA: 2:53 - loss: 0.2225 - mae: 0.222 - ETA: 2:53 - loss: 0.2224 - mae: 0.222 - ETA: 2:53 - loss: 0.2225 - mae: 0.222 - ETA: 2:52 - loss: 0.2225 - mae: 0.222 - ETA: 2:52 - loss: 0.2223 - mae: 0.222 - ETA: 2:52 - loss: 0.2223 - mae: 0.222 - ETA: 2:52 - loss: 0.2222 - mae: 0.222 - ETA: 2:52 - loss: 0.2222 - mae: 0.222 - ETA: 2:52 - loss: 0.2222 - mae: 0.222 - ETA: 2:51 - loss: 0.2220 - mae: 0.222 - ETA: 2:51 - loss: 0.2219 - mae: 0.221 - ETA: 2:51 - loss: 0.2218 - mae: 0.221 - ETA: 2:51 - loss: 0.2219 - mae: 0.221 - ETA: 2:51 - loss: 0.2218 - mae: 0.221 - ETA: 2:51 - loss: 0.2218 - mae: 0.221 - ETA: 2:51 - loss: 0.2218 - mae: 0.221 - ETA: 2:50 - loss: 0.2216 - mae: 0.221 - ETA: 2:50 - loss: 0.2216 - mae: 0.221 - ETA: 2:50 - loss: 0.2214 - mae: 0.221 - ETA: 2:50 - loss: 0.2215 - mae: 0.221 - ETA: 2:50 - loss: 0.2214 - mae: 0.221 - ETA: 2:50 - loss: 0.2214 - mae: 0.221 - ETA: 2:50 - loss: 0.2214 - mae: 0.221 - ETA: 2:50 - loss: 0.2213 - mae: 0.221 - ETA: 2:49 - loss: 0.2215 - mae: 0.221 - ETA: 2:49 - loss: 0.2215 - mae: 0.221 - ETA: 2:49 - loss: 0.2215 - mae: 0.221 - ETA: 2:49 - loss: 0.2214 - mae: 0.221 - ETA: 2:49 - loss: 0.2214 - mae: 0.221 - ETA: 2:49 - loss: 0.2214 - mae: 0.221 - ETA: 2:49 - loss: 0.2214 - mae: 0.221 - ETA: 2:48 - loss: 0.2214 - mae: 0.221 - ETA: 2:48 - loss: 0.2214 - mae: 0.221 - ETA: 2:48 - loss: 0.2213 - mae: 0.221 - ETA: 2:48 - loss: 0.2212 - mae: 0.221 - ETA: 2:48 - loss: 0.2213 - mae: 0.221 - ETA: 2:48 - loss: 0.2212 - mae: 0.221 - ETA: 2:48 - loss: 0.2211 - mae: 0.221 - ETA: 2:48 - loss: 0.2209 - mae: 0.220 - ETA: 2:48 - loss: 0.2210 - mae: 0.221 - ETA: 2:47 - loss: 0.2210 - mae: 0.221 - ETA: 2:47 - loss: 0.2209 - mae: 0.220 - ETA: 2:47 - loss: 0.2210 - mae: 0.221 - ETA: 2:47 - loss: 0.2210 - mae: 0.221 - ETA: 2:47 - loss: 0.2210 - mae: 0.221 - ETA: 2:47 - loss: 0.2210 - mae: 0.221 - ETA: 2:47 - loss: 0.2209 - mae: 0.220 - ETA: 2:47 - loss: 0.2210 - mae: 0.221 - ETA: 2:46 - loss: 0.2210 - mae: 0.221 - ETA: 2:46 - loss: 0.2210 - mae: 0.221 - ETA: 2:46 - loss: 0.2209 - mae: 0.220 - ETA: 2:46 - loss: 0.2210 - mae: 0.221 - ETA: 2:46 - loss: 0.2209 - mae: 0.220 - ETA: 2:46 - loss: 0.2210 - mae: 0.221 - ETA: 2:46 - loss: 0.2209 - mae: 0.220 - ETA: 2:45 - loss: 0.2208 - mae: 0.220 - ETA: 2:45 - loss: 0.2208 - mae: 0.220 - ETA: 2:45 - loss: 0.2207 - mae: 0.220 - ETA: 2:45 - loss: 0.2207 - mae: 0.220 - ETA: 2:45 - loss: 0.2208 - mae: 0.220 - ETA: 2:45 - loss: 0.2208 - mae: 0.220 - ETA: 2:45 - loss: 0.2207 - mae: 0.220 - ETA: 2:45 - loss: 0.2207 - mae: 0.220 - ETA: 2:44 - loss: 0.2206 - mae: 0.220 - ETA: 2:44 - loss: 0.2205 - mae: 0.220 - ETA: 2:44 - loss: 0.2205 - mae: 0.220 - ETA: 2:44 - loss: 0.2205 - mae: 0.220 - ETA: 2:44 - loss: 0.2205 - mae: 0.220 - ETA: 2:44 - loss: 0.2204 - mae: 0.220 - ETA: 2:44 - loss: 0.2203 - mae: 0.220 - ETA: 2:44 - loss: 0.2204 - mae: 0.220 - ETA: 2:44 - loss: 0.2203 - mae: 0.220 - ETA: 2:43 - loss: 0.2202 - mae: 0.220 - ETA: 2:43 - loss: 0.2202 - mae: 0.220 - ETA: 2:43 - loss: 0.2202 - mae: 0.220 - ETA: 2:43 - loss: 0.2200 - mae: 0.220 - ETA: 2:43 - loss: 0.2200 - mae: 0.220 - ETA: 2:43 - loss: 0.2199 - mae: 0.219 - ETA: 2:43 - loss: 0.2198 - mae: 0.219 - ETA: 2:43 - loss: 0.2199 - mae: 0.219 - ETA: 2:42 - loss: 0.2198 - mae: 0.219 - ETA: 2:42 - loss: 0.2196 - mae: 0.219 - ETA: 2:42 - loss: 0.2195 - mae: 0.219 - ETA: 2:42 - loss: 0.2195 - mae: 0.219 - ETA: 2:42 - loss: 0.2193 - mae: 0.219 - ETA: 2:42 - loss: 0.2193 - mae: 0.219 - ETA: 2:42 - loss: 0.2193 - mae: 0.219 - ETA: 2:42 - loss: 0.2192 - mae: 0.219 - ETA: 2:42 - loss: 0.2191 - mae: 0.219 - ETA: 2:41 - loss: 0.2191 - mae: 0.219 - ETA: 2:41 - loss: 0.2191 - mae: 0.219 - ETA: 2:41 - loss: 0.2191 - mae: 0.219 - ETA: 2:41 - loss: 0.2191 - mae: 0.219 - ETA: 2:41 - loss: 0.2192 - mae: 0.219 - ETA: 2:41 - loss: 0.2190 - mae: 0.219 - ETA: 2:41 - loss: 0.2191 - mae: 0.219 - ETA: 2:40 - loss: 0.2189 - mae: 0.218 - ETA: 2:40 - loss: 0.2189 - mae: 0.218 - ETA: 2:40 - loss: 0.2189 - mae: 0.218 - ETA: 2:40 - loss: 0.2188 - mae: 0.218 - ETA: 2:40 - loss: 0.2188 - mae: 0.218 - ETA: 2:40 - loss: 0.2188 - mae: 0.218 - ETA: 2:40 - loss: 0.2187 - mae: 0.218 - ETA: 2:40 - loss: 0.2187 - mae: 0.218 - ETA: 2:39 - loss: 0.2187 - mae: 0.218 - ETA: 2:39 - loss: 0.2187 - mae: 0.218 - ETA: 2:39 - loss: 0.2187 - mae: 0.218 - ETA: 2:39 - loss: 0.2187 - mae: 0.218 - ETA: 2:39 - loss: 0.2187 - mae: 0.218 - ETA: 2:39 - loss: 0.2186 - mae: 0.218 - ETA: 2:39 - loss: 0.2186 - mae: 0.218 - ETA: 2:38 - loss: 0.2186 - mae: 0.218 - ETA: 2:38 - loss: 0.2185 - mae: 0.218 - ETA: 2:38 - loss: 0.2184 - mae: 0.218 - ETA: 2:38 - loss: 0.2184 - mae: 0.218 - ETA: 2:38 - loss: 0.2184 - mae: 0.218 - ETA: 2:38 - loss: 0.2185 - mae: 0.218 - ETA: 2:38 - loss: 0.2185 - mae: 0.218 - ETA: 2:37 - loss: 0.2185 - mae: 0.218 - ETA: 2:37 - loss: 0.2185 - mae: 0.218 - ETA: 2:37 - loss: 0.2185 - mae: 0.218 - ETA: 2:37 - loss: 0.2184 - mae: 0.218 - ETA: 2:37 - loss: 0.2184 - mae: 0.218 - ETA: 2:37 - loss: 0.2183 - mae: 0.218 - ETA: 2:37 - loss: 0.2183 - mae: 0.218 - ETA: 2:36 - loss: 0.2183 - mae: 0.218 - ETA: 2:36 - loss: 0.2183 - mae: 0.218 - ETA: 2:36 - loss: 0.2184 - mae: 0.218 - ETA: 2:36 - loss: 0.2183 - mae: 0.218 - ETA: 2:36 - loss: 0.2183 - mae: 0.218 - ETA: 2:36 - loss: 0.2182 - mae: 0.218 - ETA: 2:36 - loss: 0.2181 - mae: 0.218 - ETA: 2:36 - loss: 0.2181 - mae: 0.218 - ETA: 2:35 - loss: 0.2181 - mae: 0.218 - ETA: 2:35 - loss: 0.2181 - mae: 0.218 - ETA: 2:35 - loss: 0.2181 - mae: 0.218 - ETA: 2:35 - loss: 0.2181 - mae: 0.218 - ETA: 2:35 - loss: 0.2182 - mae: 0.218 - ETA: 2:35 - loss: 0.2181 - mae: 0.218 - ETA: 2:35 - loss: 0.2181 - mae: 0.218 - ETA: 2:34 - loss: 0.2181 - mae: 0.218 - ETA: 2:34 - loss: 0.2180 - mae: 0.218 - ETA: 2:34 - loss: 0.2179 - mae: 0.217 - ETA: 2:34 - loss: 0.2179 - mae: 0.217 - ETA: 2:34 - loss: 0.2179 - mae: 0.217 - ETA: 2:34 - loss: 0.2178 - mae: 0.217 - ETA: 2:34 - loss: 0.2179 - mae: 0.217 - ETA: 2:34 - loss: 0.2179 - mae: 0.217 - ETA: 2:33 - loss: 0.2179 - mae: 0.217 - ETA: 2:33 - loss: 0.2179 - mae: 0.217 - ETA: 2:33 - loss: 0.2178 - mae: 0.217 - ETA: 2:33 - loss: 0.2177 - mae: 0.217 - ETA: 2:33 - loss: 0.2177 - mae: 0.217 - ETA: 2:33 - loss: 0.2177 - mae: 0.217 - ETA: 2:33 - loss: 0.2176 - mae: 0.217 - ETA: 2:33 - loss: 0.2176 - mae: 0.217 - ETA: 2:32 - loss: 0.2175 - mae: 0.217 - ETA: 2:32 - loss: 0.2175 - mae: 0.217 - ETA: 2:32 - loss: 0.2174 - mae: 0.217 - ETA: 2:32 - loss: 0.2174 - mae: 0.217 - ETA: 2:32 - loss: 0.2174 - mae: 0.217 - ETA: 2:32 - loss: 0.2174 - mae: 0.217 - ETA: 2:32 - loss: 0.2174 - mae: 0.217 - ETA: 2:32 - loss: 0.2173 - mae: 0.217 - ETA: 2:31 - loss: 0.2173 - mae: 0.217 - ETA: 2:31 - loss: 0.2172 - mae: 0.217 - ETA: 2:31 - loss: 0.2172 - mae: 0.217 - ETA: 2:31 - loss: 0.2171 - mae: 0.217 - ETA: 2:31 - loss: 0.2171 - mae: 0.217 - ETA: 2:31 - loss: 0.2170 - mae: 0.217 - ETA: 2:31 - loss: 0.2170 - mae: 0.217 - ETA: 2:31 - loss: 0.2170 - mae: 0.217 - ETA: 2:30 - loss: 0.2170 - mae: 0.217 - ETA: 2:30 - loss: 0.2170 - mae: 0.217 - ETA: 2:30 - loss: 0.2169 - mae: 0.216 - ETA: 2:30 - loss: 0.2168 - mae: 0.216 - ETA: 2:30 - loss: 0.2167 - mae: 0.216 - ETA: 2:30 - loss: 0.2167 - mae: 0.216 - ETA: 2:30 - loss: 0.2167 - mae: 0.216 - ETA: 2:30 - loss: 0.2167 - mae: 0.216 - ETA: 2:29 - loss: 0.2166 - mae: 0.216 - ETA: 2:29 - loss: 0.2166 - mae: 0.216 - ETA: 2:29 - loss: 0.2166 - mae: 0.216 - ETA: 2:29 - loss: 0.2165 - mae: 0.216 - ETA: 2:29 - loss: 0.2165 - mae: 0.216 - ETA: 2:29 - loss: 0.2165 - mae: 0.216 - ETA: 2:29 - loss: 0.2164 - mae: 0.216 - ETA: 2:28 - loss: 0.2165 - mae: 0.216 - ETA: 2:28 - loss: 0.2163 - mae: 0.216 - ETA: 2:28 - loss: 0.2163 - mae: 0.216 - ETA: 2:28 - loss: 0.2163 - mae: 0.216 - ETA: 2:28 - loss: 0.2162 - mae: 0.216 - ETA: 2:28 - loss: 0.2162 - mae: 0.216 - ETA: 2:28 - loss: 0.2162 - mae: 0.216 - ETA: 2:28 - loss: 0.2161 - mae: 0.216 - ETA: 2:27 - loss: 0.2161 - mae: 0.216 - ETA: 2:27 - loss: 0.2160 - mae: 0.216 - ETA: 2:27 - loss: 0.2160 - mae: 0.216 - ETA: 2:27 - loss: 0.2160 - mae: 0.216 - ETA: 2:27 - loss: 0.2160 - mae: 0.216 - ETA: 2:27 - loss: 0.2160 - mae: 0.216 - ETA: 2:27 - loss: 0.2160 - mae: 0.216 - ETA: 2:27 - loss: 0.2159 - mae: 0.215 - ETA: 2:26 - loss: 0.2160 - mae: 0.216 - ETA: 2:26 - loss: 0.2159 - mae: 0.215 - ETA: 2:26 - loss: 0.2159 - mae: 0.215 - ETA: 2:26 - loss: 0.2159 - mae: 0.215 - ETA: 2:26 - loss: 0.2159 - mae: 0.215 - ETA: 2:26 - loss: 0.2159 - mae: 0.215 - ETA: 2:26 - loss: 0.2159 - mae: 0.215 - ETA: 2:25 - loss: 0.2159 - mae: 0.215 - ETA: 2:25 - loss: 0.2158 - mae: 0.215 - ETA: 2:25 - loss: 0.2158 - mae: 0.215 - ETA: 2:25 - loss: 0.2159 - mae: 0.215 - ETA: 2:25 - loss: 0.2159 - mae: 0.215 - ETA: 2:25 - loss: 0.2158 - mae: 0.215 - ETA: 2:25 - loss: 0.2157 - mae: 0.215 - ETA: 2:25 - loss: 0.2157 - mae: 0.215 - ETA: 2:24 - loss: 0.2157 - mae: 0.215 - ETA: 2:24 - loss: 0.2157 - mae: 0.215 - ETA: 2:24 - loss: 0.2156 - mae: 0.215 - ETA: 2:24 - loss: 0.2156 - mae: 0.215 - ETA: 2:24 - loss: 0.2156 - mae: 0.215 - ETA: 2:24 - loss: 0.2155 - mae: 0.215 - ETA: 2:24 - loss: 0.2155 - mae: 0.215 - ETA: 2:23 - loss: 0.2154 - mae: 0.215 - ETA: 2:23 - loss: 0.2154 - mae: 0.215 - ETA: 2:23 - loss: 0.2153 - mae: 0.215 - ETA: 2:23 - loss: 0.2153 - mae: 0.215 - ETA: 2:23 - loss: 0.2153 - mae: 0.215 - ETA: 2:23 - loss: 0.2153 - mae: 0.215 - ETA: 2:23 - loss: 0.2153 - mae: 0.215 - ETA: 2:23 - loss: 0.2153 - mae: 0.215 - ETA: 2:22 - loss: 0.2153 - mae: 0.215 - ETA: 2:22 - loss: 0.2153 - mae: 0.215 - ETA: 2:22 - loss: 0.2153 - mae: 0.215 - ETA: 2:22 - loss: 0.2153 - mae: 0.215 - ETA: 2:22 - loss: 0.2152 - mae: 0.215 - ETA: 2:22 - loss: 0.2152 - mae: 0.215 - ETA: 2:22 - loss: 0.2152 - mae: 0.215 - ETA: 2:21 - loss: 0.2152 - mae: 0.215 - ETA: 2:21 - loss: 0.2152 - mae: 0.215 - ETA: 2:21 - loss: 0.2151 - mae: 0.215 - ETA: 2:21 - loss: 0.2152 - mae: 0.215 - ETA: 2:21 - loss: 0.2151 - mae: 0.215 - ETA: 2:21 - loss: 0.2151 - mae: 0.215 - ETA: 2:21 - loss: 0.2151 - mae: 0.215 - ETA: 2:21 - loss: 0.2151 - mae: 0.215 - ETA: 2:20 - loss: 0.2151 - mae: 0.215 - ETA: 2:20 - loss: 0.2151 - mae: 0.215 - ETA: 2:20 - loss: 0.2151 - mae: 0.215 - ETA: 2:20 - loss: 0.2150 - mae: 0.215 - ETA: 2:20 - loss: 0.2150 - mae: 0.215 - ETA: 2:20 - loss: 0.2150 - mae: 0.215 - ETA: 2:20 - loss: 0.2150 - mae: 0.215 - ETA: 2:20 - loss: 0.2150 - mae: 0.215 - ETA: 2:19 - loss: 0.2149 - mae: 0.214 - ETA: 2:19 - loss: 0.2149 - mae: 0.214 - ETA: 2:19 - loss: 0.2148 - mae: 0.214 - ETA: 2:19 - loss: 0.2148 - mae: 0.214 - ETA: 2:19 - loss: 0.2148 - mae: 0.214 - ETA: 2:19 - loss: 0.2148 - mae: 0.214 - ETA: 2:19 - loss: 0.2147 - mae: 0.214 - ETA: 2:19 - loss: 0.2147 - mae: 0.214 - ETA: 2:18 - loss: 0.2146 - mae: 0.214 - ETA: 2:18 - loss: 0.2146 - mae: 0.214 - ETA: 2:18 - loss: 0.2145 - mae: 0.214 - ETA: 2:18 - loss: 0.2145 - mae: 0.214 - ETA: 2:18 - loss: 0.2145 - mae: 0.214 - ETA: 2:18 - loss: 0.2145 - mae: 0.214 - ETA: 2:18 - loss: 0.2146 - mae: 0.214 - ETA: 2:17 - loss: 0.2146 - mae: 0.214 - ETA: 2:17 - loss: 0.2146 - mae: 0.214 - ETA: 2:17 - loss: 0.2145 - mae: 0.214 - ETA: 2:17 - loss: 0.2145 - mae: 0.214 - ETA: 2:17 - loss: 0.2145 - mae: 0.214 - ETA: 2:17 - loss: 0.2144 - mae: 0.214 - ETA: 2:17 - loss: 0.2144 - mae: 0.214 - ETA: 2:17 - loss: 0.2143 - mae: 0.214 - ETA: 2:17 - loss: 0.2143 - mae: 0.214 - ETA: 2:16 - loss: 0.2143 - mae: 0.214 - ETA: 2:16 - loss: 0.2143 - mae: 0.214 - ETA: 2:16 - loss: 0.2142 - mae: 0.214 - ETA: 2:16 - loss: 0.2142 - mae: 0.214 - ETA: 2:16 - loss: 0.2142 - mae: 0.214 - ETA: 2:16 - loss: 0.2141 - mae: 0.214 - ETA: 2:16 - loss: 0.2140 - mae: 0.214 - ETA: 2:15 - loss: 0.2140 - mae: 0.214 - ETA: 2:15 - loss: 0.2140 - mae: 0.214 - ETA: 2:15 - loss: 0.2139 - mae: 0.213 - ETA: 2:15 - loss: 0.2139 - mae: 0.213 - ETA: 2:15 - loss: 0.2139 - mae: 0.213 - ETA: 2:15 - loss: 0.2139 - mae: 0.213 - ETA: 2:15 - loss: 0.2139 - mae: 0.213 - ETA: 2:15 - loss: 0.2139 - mae: 0.213 - ETA: 2:14 - loss: 0.2138 - mae: 0.213 - ETA: 2:14 - loss: 0.2137 - mae: 0.213 - ETA: 2:14 - loss: 0.2137 - mae: 0.213 - ETA: 2:14 - loss: 0.2137 - mae: 0.213 - ETA: 2:14 - loss: 0.2136 - mae: 0.213 - ETA: 2:14 - loss: 0.2136 - mae: 0.213 - ETA: 2:14 - loss: 0.2135 - mae: 0.213 - ETA: 2:14 - loss: 0.2135 - mae: 0.213 - ETA: 2:13 - loss: 0.2135 - mae: 0.213 - ETA: 2:13 - loss: 0.2135 - mae: 0.213 - ETA: 2:13 - loss: 0.2135 - mae: 0.213 - ETA: 2:13 - loss: 0.2135 - mae: 0.213 - ETA: 2:13 - loss: 0.2135 - mae: 0.213 - ETA: 2:13 - loss: 0.2135 - mae: 0.213 - ETA: 3:02 - loss: 0.2135 - mae: 0.2135 - val_loss: 0.2911 - val_mae: 0.2911Epoch 5/10\n",
      " 64000/200000 [========>.....................] - ETA: 3:12 - loss: 0.1854 - mae: 0.185 - ETA: 3:15 - loss: 0.1902 - mae: 0.190 - ETA: 3:15 - loss: 0.2023 - mae: 0.202 - ETA: 3:17 - loss: 0.1961 - mae: 0.196 - ETA: 3:18 - loss: 0.1953 - mae: 0.195 - ETA: 3:16 - loss: 0.1935 - mae: 0.193 - ETA: 3:15 - loss: 0.1925 - mae: 0.192 - ETA: 3:13 - loss: 0.1932 - mae: 0.193 - ETA: 3:12 - loss: 0.1932 - mae: 0.193 - ETA: 3:12 - loss: 0.1946 - mae: 0.194 - ETA: 3:12 - loss: 0.1962 - mae: 0.196 - ETA: 3:12 - loss: 0.1968 - mae: 0.196 - ETA: 3:12 - loss: 0.1994 - mae: 0.199 - ETA: 3:11 - loss: 0.2002 - mae: 0.200 - ETA: 3:12 - loss: 0.2002 - mae: 0.200 - ETA: 3:13 - loss: 0.2020 - mae: 0.202 - ETA: 3:13 - loss: 0.2029 - mae: 0.202 - ETA: 3:13 - loss: 0.2023 - mae: 0.202 - ETA: 3:13 - loss: 0.2020 - mae: 0.202 - ETA: 3:13 - loss: 0.2026 - mae: 0.202 - ETA: 3:13 - loss: 0.2020 - mae: 0.202 - ETA: 3:13 - loss: 0.2019 - mae: 0.201 - ETA: 3:12 - loss: 0.2024 - mae: 0.202 - ETA: 3:12 - loss: 0.2026 - mae: 0.202 - ETA: 3:12 - loss: 0.2024 - mae: 0.202 - ETA: 3:12 - loss: 0.2029 - mae: 0.202 - ETA: 3:11 - loss: 0.2026 - mae: 0.202 - ETA: 3:11 - loss: 0.2033 - mae: 0.203 - ETA: 3:11 - loss: 0.2032 - mae: 0.203 - ETA: 3:11 - loss: 0.2032 - mae: 0.203 - ETA: 3:11 - loss: 0.2034 - mae: 0.203 - ETA: 3:11 - loss: 0.2036 - mae: 0.203 - ETA: 3:10 - loss: 0.2028 - mae: 0.202 - ETA: 3:10 - loss: 0.2032 - mae: 0.203 - ETA: 3:10 - loss: 0.2029 - mae: 0.202 - ETA: 3:10 - loss: 0.2029 - mae: 0.202 - ETA: 3:09 - loss: 0.2031 - mae: 0.203 - ETA: 3:09 - loss: 0.2031 - mae: 0.203 - ETA: 3:09 - loss: 0.2031 - mae: 0.203 - ETA: 3:09 - loss: 0.2031 - mae: 0.203 - ETA: 3:09 - loss: 0.2028 - mae: 0.202 - ETA: 3:09 - loss: 0.2021 - mae: 0.202 - ETA: 3:09 - loss: 0.2023 - mae: 0.202 - ETA: 3:09 - loss: 0.2018 - mae: 0.201 - ETA: 3:09 - loss: 0.2014 - mae: 0.201 - ETA: 3:09 - loss: 0.2016 - mae: 0.201 - ETA: 3:09 - loss: 0.2014 - mae: 0.201 - ETA: 3:09 - loss: 0.2013 - mae: 0.201 - ETA: 3:08 - loss: 0.2014 - mae: 0.201 - ETA: 3:08 - loss: 0.2011 - mae: 0.201 - ETA: 3:08 - loss: 0.2012 - mae: 0.201 - ETA: 3:08 - loss: 0.2017 - mae: 0.201 - ETA: 3:08 - loss: 0.2019 - mae: 0.201 - ETA: 3:08 - loss: 0.2022 - mae: 0.202 - ETA: 3:08 - loss: 0.2024 - mae: 0.202 - ETA: 3:07 - loss: 0.2021 - mae: 0.202 - ETA: 3:07 - loss: 0.2025 - mae: 0.202 - ETA: 3:07 - loss: 0.2023 - mae: 0.202 - ETA: 3:07 - loss: 0.2027 - mae: 0.202 - ETA: 3:07 - loss: 0.2030 - mae: 0.203 - ETA: 3:07 - loss: 0.2030 - mae: 0.203 - ETA: 3:06 - loss: 0.2029 - mae: 0.202 - ETA: 3:06 - loss: 0.2029 - mae: 0.202 - ETA: 3:06 - loss: 0.2032 - mae: 0.203 - ETA: 3:06 - loss: 0.2030 - mae: 0.203 - ETA: 3:06 - loss: 0.2027 - mae: 0.202 - ETA: 3:06 - loss: 0.2025 - mae: 0.202 - ETA: 3:05 - loss: 0.2027 - mae: 0.202 - ETA: 3:05 - loss: 0.2027 - mae: 0.202 - ETA: 3:05 - loss: 0.2024 - mae: 0.202 - ETA: 3:05 - loss: 0.2026 - mae: 0.202 - ETA: 3:05 - loss: 0.2024 - mae: 0.202 - ETA: 3:04 - loss: 0.2023 - mae: 0.202 - ETA: 3:04 - loss: 0.2022 - mae: 0.202 - ETA: 3:04 - loss: 0.2019 - mae: 0.201 - ETA: 3:04 - loss: 0.2022 - mae: 0.202 - ETA: 3:04 - loss: 0.2021 - mae: 0.202 - ETA: 3:04 - loss: 0.2022 - mae: 0.202 - ETA: 3:03 - loss: 0.2023 - mae: 0.202 - ETA: 3:03 - loss: 0.2019 - mae: 0.201 - ETA: 3:03 - loss: 0.2016 - mae: 0.201 - ETA: 3:03 - loss: 0.2014 - mae: 0.201 - ETA: 3:03 - loss: 0.2012 - mae: 0.201 - ETA: 3:03 - loss: 0.2014 - mae: 0.201 - ETA: 3:02 - loss: 0.2015 - mae: 0.201 - ETA: 3:02 - loss: 0.2012 - mae: 0.201 - ETA: 3:02 - loss: 0.2012 - mae: 0.201 - ETA: 3:02 - loss: 0.2011 - mae: 0.201 - ETA: 3:02 - loss: 0.2011 - mae: 0.201 - ETA: 3:02 - loss: 0.2010 - mae: 0.201 - ETA: 3:02 - loss: 0.2009 - mae: 0.200 - ETA: 3:01 - loss: 0.2006 - mae: 0.200 - ETA: 3:01 - loss: 0.2005 - mae: 0.200 - ETA: 3:01 - loss: 0.2004 - mae: 0.200 - ETA: 3:01 - loss: 0.2004 - mae: 0.200 - ETA: 3:01 - loss: 0.2001 - mae: 0.200 - ETA: 3:01 - loss: 0.1999 - mae: 0.199 - ETA: 3:01 - loss: 0.1999 - mae: 0.199 - ETA: 3:00 - loss: 0.1997 - mae: 0.199 - ETA: 3:00 - loss: 0.1998 - mae: 0.199 - ETA: 3:00 - loss: 0.1998 - mae: 0.199 - ETA: 3:00 - loss: 0.1998 - mae: 0.199 - ETA: 3:00 - loss: 0.1997 - mae: 0.199 - ETA: 3:00 - loss: 0.1996 - mae: 0.199 - ETA: 3:00 - loss: 0.1996 - mae: 0.199 - ETA: 3:00 - loss: 0.1997 - mae: 0.199 - ETA: 3:01 - loss: 0.1996 - mae: 0.199 - ETA: 3:01 - loss: 0.1997 - mae: 0.199 - ETA: 3:01 - loss: 0.1997 - mae: 0.199 - ETA: 3:01 - loss: 0.1997 - mae: 0.199 - ETA: 3:00 - loss: 0.1996 - mae: 0.199 - ETA: 3:00 - loss: 0.1995 - mae: 0.199 - ETA: 3:00 - loss: 0.1995 - mae: 0.199 - ETA: 3:00 - loss: 0.1993 - mae: 0.199 - ETA: 3:00 - loss: 0.1993 - mae: 0.199 - ETA: 3:00 - loss: 0.1996 - mae: 0.199 - ETA: 3:00 - loss: 0.1995 - mae: 0.199 - ETA: 3:00 - loss: 0.1996 - mae: 0.199 - ETA: 3:00 - loss: 0.1995 - mae: 0.199 - ETA: 2:59 - loss: 0.1992 - mae: 0.199 - ETA: 2:59 - loss: 0.1993 - mae: 0.199 - ETA: 2:59 - loss: 0.1991 - mae: 0.199 - ETA: 2:59 - loss: 0.1991 - mae: 0.199 - ETA: 2:59 - loss: 0.1992 - mae: 0.199 - ETA: 2:59 - loss: 0.1991 - mae: 0.199 - ETA: 2:59 - loss: 0.1992 - mae: 0.199 - ETA: 2:59 - loss: 0.1991 - mae: 0.199 - ETA: 2:58 - loss: 0.1989 - mae: 0.198 - ETA: 2:58 - loss: 0.1988 - mae: 0.198 - ETA: 2:58 - loss: 0.1989 - mae: 0.198 - ETA: 2:58 - loss: 0.1987 - mae: 0.198 - ETA: 2:58 - loss: 0.1987 - mae: 0.198 - ETA: 2:58 - loss: 0.1986 - mae: 0.198 - ETA: 2:58 - loss: 0.1986 - mae: 0.198 - ETA: 2:58 - loss: 0.1987 - mae: 0.198 - ETA: 2:57 - loss: 0.1987 - mae: 0.198 - ETA: 2:57 - loss: 0.1990 - mae: 0.199 - ETA: 2:57 - loss: 0.1989 - mae: 0.198 - ETA: 2:57 - loss: 0.1989 - mae: 0.198 - ETA: 2:57 - loss: 0.1987 - mae: 0.198 - ETA: 2:57 - loss: 0.1988 - mae: 0.198 - ETA: 2:57 - loss: 0.1989 - mae: 0.198 - ETA: 2:57 - loss: 0.1987 - mae: 0.198 - ETA: 2:57 - loss: 0.1987 - mae: 0.198 - ETA: 2:57 - loss: 0.1987 - mae: 0.198 - ETA: 2:56 - loss: 0.1989 - mae: 0.198 - ETA: 2:56 - loss: 0.1987 - mae: 0.198 - ETA: 2:56 - loss: 0.1987 - mae: 0.198 - ETA: 2:56 - loss: 0.1985 - mae: 0.198 - ETA: 2:56 - loss: 0.1986 - mae: 0.198 - ETA: 2:56 - loss: 0.1984 - mae: 0.198 - ETA: 2:55 - loss: 0.1983 - mae: 0.198 - ETA: 2:55 - loss: 0.1981 - mae: 0.198 - ETA: 2:55 - loss: 0.1980 - mae: 0.198 - ETA: 2:55 - loss: 0.1980 - mae: 0.198 - ETA: 2:55 - loss: 0.1981 - mae: 0.198 - ETA: 2:55 - loss: 0.1981 - mae: 0.198 - ETA: 2:54 - loss: 0.1982 - mae: 0.198 - ETA: 2:54 - loss: 0.1984 - mae: 0.198 - ETA: 2:54 - loss: 0.1984 - mae: 0.198 - ETA: 2:54 - loss: 0.1984 - mae: 0.198 - ETA: 2:54 - loss: 0.1983 - mae: 0.198 - ETA: 2:54 - loss: 0.1983 - mae: 0.198 - ETA: 2:53 - loss: 0.1982 - mae: 0.198 - ETA: 2:53 - loss: 0.1982 - mae: 0.198 - ETA: 2:53 - loss: 0.1983 - mae: 0.198 - ETA: 2:53 - loss: 0.1984 - mae: 0.198 - ETA: 2:53 - loss: 0.1984 - mae: 0.198 - ETA: 2:53 - loss: 0.1983 - mae: 0.198 - ETA: 2:52 - loss: 0.1984 - mae: 0.198 - ETA: 2:52 - loss: 0.1983 - mae: 0.198 - ETA: 2:52 - loss: 0.1983 - mae: 0.198 - ETA: 2:52 - loss: 0.1983 - mae: 0.198 - ETA: 2:52 - loss: 0.1984 - mae: 0.198 - ETA: 2:52 - loss: 0.1983 - mae: 0.198 - ETA: 2:52 - loss: 0.1983 - mae: 0.198 - ETA: 2:51 - loss: 0.1985 - mae: 0.198 - ETA: 2:51 - loss: 0.1986 - mae: 0.198 - ETA: 2:51 - loss: 0.1985 - mae: 0.198 - ETA: 2:51 - loss: 0.1985 - mae: 0.198 - ETA: 2:51 - loss: 0.1984 - mae: 0.198 - ETA: 2:51 - loss: 0.1984 - mae: 0.198 - ETA: 2:51 - loss: 0.1984 - mae: 0.198 - ETA: 2:50 - loss: 0.1983 - mae: 0.198 - ETA: 2:50 - loss: 0.1984 - mae: 0.198 - ETA: 2:50 - loss: 0.1985 - mae: 0.198 - ETA: 2:50 - loss: 0.1986 - mae: 0.198 - ETA: 2:50 - loss: 0.1986 - mae: 0.198 - ETA: 2:50 - loss: 0.1988 - mae: 0.198 - ETA: 2:50 - loss: 0.1988 - mae: 0.198 - ETA: 2:50 - loss: 0.1987 - mae: 0.198 - ETA: 2:50 - loss: 0.1987 - mae: 0.198 - ETA: 2:50 - loss: 0.1986 - mae: 0.198 - ETA: 2:50 - loss: 0.1987 - mae: 0.198 - ETA: 2:50 - loss: 0.1985 - mae: 0.198 - ETA: 2:50 - loss: 0.1984 - mae: 0.198 - ETA: 2:49 - loss: 0.1983 - mae: 0.198 - ETA: 2:49 - loss: 0.1985 - mae: 0.198 - ETA: 2:49 - loss: 0.1986 - mae: 0.198 - ETA: 2:49 - loss: 0.1987 - mae: 0.198 - ETA: 2:49 - loss: 0.1986 - mae: 0.198 - ETA: 2:49 - loss: 0.1987 - mae: 0.198 - ETA: 2:49 - loss: 0.1986 - mae: 0.198 - ETA: 2:49 - loss: 0.1986 - mae: 0.198 - ETA: 2:49 - loss: 0.1987 - mae: 0.198 - ETA: 2:49 - loss: 0.1986 - mae: 0.198 - ETA: 2:49 - loss: 0.1986 - mae: 0.198 - ETA: 2:49 - loss: 0.1984 - mae: 0.198 - ETA: 2:49 - loss: 0.1983 - mae: 0.198 - ETA: 2:49 - loss: 0.1982 - mae: 0.198 - ETA: 2:49 - loss: 0.1982 - mae: 0.198 - ETA: 2:49 - loss: 0.1982 - mae: 0.198 - ETA: 2:49 - loss: 0.1982 - mae: 0.198 - ETA: 2:49 - loss: 0.1983 - mae: 0.198 - ETA: 2:49 - loss: 0.1983 - mae: 0.198 - ETA: 2:49 - loss: 0.1982 - mae: 0.198 - ETA: 2:49 - loss: 0.1981 - mae: 0.198 - ETA: 2:48 - loss: 0.1981 - mae: 0.198 - ETA: 2:48 - loss: 0.1980 - mae: 0.198 - ETA: 2:48 - loss: 0.1980 - mae: 0.198 - ETA: 2:50 - loss: 0.1980 - mae: 0.198 - ETA: 2:50 - loss: 0.1980 - mae: 0.198 - ETA: 2:51 - loss: 0.1979 - mae: 0.197 - ETA: 2:51 - loss: 0.1980 - mae: 0.198 - ETA: 2:51 - loss: 0.1980 - mae: 0.198 - ETA: 2:52 - loss: 0.1979 - mae: 0.197 - ETA: 2:53 - loss: 0.1979 - mae: 0.197 - ETA: 2:53 - loss: 0.1978 - mae: 0.197 - ETA: 2:53 - loss: 0.1978 - mae: 0.197 - ETA: 2:53 - loss: 0.1977 - mae: 0.197 - ETA: 2:53 - loss: 0.1978 - mae: 0.197 - ETA: 2:53 - loss: 0.1977 - mae: 0.197 - ETA: 2:53 - loss: 0.1977 - mae: 0.197 - ETA: 2:53 - loss: 0.1977 - mae: 0.197 - ETA: 2:53 - loss: 0.1977 - mae: 0.197 - ETA: 2:53 - loss: 0.1977 - mae: 0.197 - ETA: 2:53 - loss: 0.1978 - mae: 0.197 - ETA: 2:53 - loss: 0.1978 - mae: 0.197 - ETA: 2:53 - loss: 0.1979 - mae: 0.197 - ETA: 2:53 - loss: 0.1979 - mae: 0.197 - ETA: 2:53 - loss: 0.1979 - mae: 0.197 - ETA: 2:53 - loss: 0.1979 - mae: 0.197 - ETA: 2:53 - loss: 0.1979 - mae: 0.197 - ETA: 2:53 - loss: 0.1979 - mae: 0.197 - ETA: 2:53 - loss: 0.1978 - mae: 0.197 - ETA: 2:53 - loss: 0.1978 - mae: 0.197 - ETA: 2:53 - loss: 0.1978 - mae: 0.197 - ETA: 2:53 - loss: 0.1979 - mae: 0.197 - ETA: 2:52 - loss: 0.1978 - mae: 0.197 - ETA: 2:52 - loss: 0.1979 - mae: 0.197 - ETA: 2:52 - loss: 0.1978 - mae: 0.197 - ETA: 2:52 - loss: 0.1977 - mae: 0.197 - ETA: 2:52 - loss: 0.1976 - mae: 0.197 - ETA: 2:52 - loss: 0.1976 - mae: 0.197 - ETA: 2:52 - loss: 0.1976 - mae: 0.197 - ETA: 2:52 - loss: 0.1976 - mae: 0.197 - ETA: 2:52 - loss: 0.1976 - mae: 0.197 - ETA: 2:52 - loss: 0.1975 - mae: 0.197 - ETA: 2:52 - loss: 0.1974 - mae: 0.197 - ETA: 2:52 - loss: 0.1973 - mae: 0.197 - ETA: 2:52 - loss: 0.1973 - mae: 0.197 - ETA: 2:52 - loss: 0.1973 - mae: 0.197 - ETA: 2:52 - loss: 0.1973 - mae: 0.197 - ETA: 2:52 - loss: 0.1972 - mae: 0.197 - ETA: 2:52 - loss: 0.1971 - mae: 0.197 - ETA: 2:52 - loss: 0.1970 - mae: 0.197 - ETA: 2:52 - loss: 0.1970 - mae: 0.197 - ETA: 2:52 - loss: 0.1971 - mae: 0.197 - ETA: 2:51 - loss: 0.1970 - mae: 0.197 - ETA: 2:51 - loss: 0.1970 - mae: 0.197 - ETA: 2:51 - loss: 0.1969 - mae: 0.196 - ETA: 2:51 - loss: 0.1969 - mae: 0.196 - ETA: 2:51 - loss: 0.1969 - mae: 0.196 - ETA: 2:51 - loss: 0.1968 - mae: 0.196 - ETA: 2:51 - loss: 0.1966 - mae: 0.196 - ETA: 2:50 - loss: 0.1966 - mae: 0.196 - ETA: 2:50 - loss: 0.1965 - mae: 0.196 - ETA: 2:50 - loss: 0.1965 - mae: 0.196 - ETA: 2:50 - loss: 0.1964 - mae: 0.196 - ETA: 2:50 - loss: 0.1963 - mae: 0.196 - ETA: 2:50 - loss: 0.1963 - mae: 0.196 - ETA: 2:50 - loss: 0.1963 - mae: 0.196 - ETA: 2:49 - loss: 0.1962 - mae: 0.196 - ETA: 2:49 - loss: 0.1963 - mae: 0.196 - ETA: 2:49 - loss: 0.1962 - mae: 0.196 - ETA: 2:49 - loss: 0.1962 - mae: 0.196 - ETA: 2:49 - loss: 0.1961 - mae: 0.196 - ETA: 2:49 - loss: 0.1961 - mae: 0.196 - ETA: 2:49 - loss: 0.1961 - mae: 0.196 - ETA: 2:48 - loss: 0.1960 - mae: 0.196 - ETA: 2:48 - loss: 0.1960 - mae: 0.196 - ETA: 2:48 - loss: 0.1960 - mae: 0.196 - ETA: 2:48 - loss: 0.1960 - mae: 0.196 - ETA: 2:48 - loss: 0.1959 - mae: 0.195 - ETA: 2:48 - loss: 0.1959 - mae: 0.195 - ETA: 2:47 - loss: 0.1959 - mae: 0.195 - ETA: 2:47 - loss: 0.1958 - mae: 0.195 - ETA: 2:47 - loss: 0.1958 - mae: 0.195 - ETA: 2:47 - loss: 0.1957 - mae: 0.195 - ETA: 2:51 - loss: 0.1958 - mae: 0.195 - ETA: 2:51 - loss: 0.1958 - mae: 0.195 - ETA: 2:51 - loss: 0.1957 - mae: 0.195 - ETA: 2:51 - loss: 0.1957 - mae: 0.195 - ETA: 2:51 - loss: 0.1957 - mae: 0.195 - ETA: 2:51 - loss: 0.1956 - mae: 0.195 - ETA: 2:51 - loss: 0.1956 - mae: 0.195 - ETA: 2:51 - loss: 0.1956 - mae: 0.195 - ETA: 2:51 - loss: 0.1956 - mae: 0.195 - ETA: 2:51 - loss: 0.1956 - mae: 0.195 - ETA: 2:51 - loss: 0.1957 - mae: 0.195 - ETA: 2:51 - loss: 0.1956 - mae: 0.195 - ETA: 2:51 - loss: 0.1957 - mae: 0.195 - ETA: 2:51 - loss: 0.1958 - mae: 0.195 - ETA: 2:51 - loss: 0.1957 - mae: 0.195 - ETA: 2:51 - loss: 0.1958 - mae: 0.195 - ETA: 2:51 - loss: 0.1957 - mae: 0.195 - ETA: 2:51 - loss: 0.1957 - mae: 0.195 - ETA: 2:51 - loss: 0.1957 - mae: 0.195 - ETA: 2:51 - loss: 0.1958 - mae: 0.195 - ETA: 2:51 - loss: 0.1958 - mae: 0.195 - ETA: 2:50 - loss: 0.1958 - mae: 0.195 - ETA: 2:50 - loss: 0.1957 - mae: 0.195 - ETA: 2:50 - loss: 0.1957 - mae: 0.195 - ETA: 2:50 - loss: 0.1957 - mae: 0.195 - ETA: 2:50 - loss: 0.1957 - mae: 0.195 - ETA: 2:49 - loss: 0.1958 - mae: 0.195 - ETA: 2:49 - loss: 0.1958 - mae: 0.195 - ETA: 2:49 - loss: 0.1957 - mae: 0.195 - ETA: 2:49 - loss: 0.1957 - mae: 0.195 - ETA: 2:49 - loss: 0.1957 - mae: 0.195 - ETA: 2:48 - loss: 0.1957 - mae: 0.195 - ETA: 2:48 - loss: 0.1958 - mae: 0.195 - ETA: 2:48 - loss: 0.1958 - mae: 0.195 - ETA: 2:48 - loss: 0.1958 - mae: 0.195 - ETA: 2:48 - loss: 0.1957 - mae: 0.195 - ETA: 2:47 - loss: 0.1957 - mae: 0.195 - ETA: 2:47 - loss: 0.1958 - mae: 0.195 - ETA: 2:47 - loss: 0.1957 - mae: 0.195 - ETA: 2:47 - loss: 0.1958 - mae: 0.195 - ETA: 2:47 - loss: 0.1958 - mae: 0.195 - ETA: 2:46 - loss: 0.1958 - mae: 0.195 - ETA: 2:46 - loss: 0.1957 - mae: 0.195 - ETA: 2:46 - loss: 0.1958 - mae: 0.195 - ETA: 2:46 - loss: 0.1958 - mae: 0.195 - ETA: 2:46 - loss: 0.1958 - mae: 0.195 - ETA: 2:45 - loss: 0.1957 - mae: 0.195 - ETA: 2:45 - loss: 0.1957 - mae: 0.195 - ETA: 2:45 - loss: 0.1957 - mae: 0.195 - ETA: 2:45 - loss: 0.1957 - mae: 0.195 - ETA: 2:45 - loss: 0.1956 - mae: 0.195 - ETA: 2:45 - loss: 0.1957 - mae: 0.195 - ETA: 2:44 - loss: 0.1957 - mae: 0.195 - ETA: 2:44 - loss: 0.1956 - mae: 0.195 - ETA: 2:44 - loss: 0.1956 - mae: 0.195 - ETA: 2:44 - loss: 0.1955 - mae: 0.195 - ETA: 2:44 - loss: 0.1956 - mae: 0.195 - ETA: 2:44 - loss: 0.1956 - mae: 0.195 - ETA: 2:43 - loss: 0.1956 - mae: 0.195 - ETA: 2:43 - loss: 0.1955 - mae: 0.195 - ETA: 2:43 - loss: 0.1956 - mae: 0.195 - ETA: 2:43 - loss: 0.1956 - mae: 0.195 - ETA: 2:43 - loss: 0.1955 - mae: 0.195 - ETA: 2:42 - loss: 0.1955 - mae: 0.195 - ETA: 2:42 - loss: 0.1956 - mae: 0.195 - ETA: 2:42 - loss: 0.1955 - mae: 0.195 - ETA: 2:42 - loss: 0.1956 - mae: 0.195 - ETA: 2:42 - loss: 0.1956 - mae: 0.195 - ETA: 2:42 - loss: 0.1956 - mae: 0.195 - ETA: 2:41 - loss: 0.1956 - mae: 0.195 - ETA: 2:41 - loss: 0.1956 - mae: 0.195 - ETA: 2:41 - loss: 0.1956 - mae: 0.195 - ETA: 2:41 - loss: 0.1955 - mae: 0.195 - ETA: 2:41 - loss: 0.1955 - mae: 0.195 - ETA: 2:41 - loss: 0.1955 - mae: 0.195 - ETA: 2:40 - loss: 0.1955 - mae: 0.195 - ETA: 2:40 - loss: 0.1954 - mae: 0.195 - ETA: 2:40 - loss: 0.1954 - mae: 0.195 - ETA: 2:40 - loss: 0.1953 - mae: 0.195 - ETA: 2:40 - loss: 0.1953 - mae: 0.195 - ETA: 2:40 - loss: 0.1953 - mae: 0.195 - ETA: 2:40 - loss: 0.1953 - mae: 0.195 - ETA: 2:39 - loss: 0.1954 - mae: 0.195 - ETA: 2:39 - loss: 0.1954 - mae: 0.195 - ETA: 2:39 - loss: 0.1953 - mae: 0.195 - ETA: 2:39 - loss: 0.1954 - mae: 0.195 - ETA: 2:39 - loss: 0.1954 - mae: 0.195 - ETA: 2:39 - loss: 0.1954 - mae: 0.195 - ETA: 2:38 - loss: 0.1954 - mae: 0.195 - ETA: 2:38 - loss: 0.1954 - mae: 0.195 - ETA: 2:38 - loss: 0.1954 - mae: 0.195 - ETA: 2:38 - loss: 0.1955 - mae: 0.195 - ETA: 2:38 - loss: 0.1954 - mae: 0.195 - ETA: 2:38 - loss: 0.1954 - mae: 0.195 - ETA: 2:37 - loss: 0.1954 - mae: 0.195 - ETA: 2:37 - loss: 0.1953 - mae: 0.195 - ETA: 2:37 - loss: 0.1954 - mae: 0.195 - ETA: 2:37 - loss: 0.1954 - mae: 0.195 - ETA: 2:37 - loss: 0.1954 - mae: 0.195 - ETA: 2:37 - loss: 0.1954 - mae: 0.195 - ETA: 2:36 - loss: 0.1954 - mae: 0.195 - ETA: 2:36 - loss: 0.1953 - mae: 0.195 - ETA: 2:36 - loss: 0.1953 - mae: 0.195 - ETA: 2:36 - loss: 0.1952 - mae: 0.195 - ETA: 2:36 - loss: 0.1951 - mae: 0.195 - ETA: 2:36 - loss: 0.1951 - mae: 0.195 - ETA: 2:36 - loss: 0.1950 - mae: 0.195 - ETA: 2:35 - loss: 0.1950 - mae: 0.195 - ETA: 2:35 - loss: 0.1950 - mae: 0.195 - ETA: 2:35 - loss: 0.1950 - mae: 0.195 - ETA: 2:35 - loss: 0.1949 - mae: 0.194 - ETA: 2:35 - loss: 0.1949 - mae: 0.194 - ETA: 2:35 - loss: 0.1948 - mae: 0.194 - ETA: 2:34 - loss: 0.1947 - mae: 0.194 - ETA: 2:34 - loss: 0.1947 - mae: 0.194 - ETA: 2:34 - loss: 0.1947 - mae: 0.194 - ETA: 2:34 - loss: 0.1946 - mae: 0.194 - ETA: 2:34 - loss: 0.1946 - mae: 0.194 - ETA: 2:34 - loss: 0.1946 - mae: 0.194 - ETA: 2:33 - loss: 0.1946 - mae: 0.194 - ETA: 2:33 - loss: 0.1945 - mae: 0.194 - ETA: 2:33 - loss: 0.1945 - mae: 0.194 - ETA: 2:33 - loss: 0.1945 - mae: 0.194 - ETA: 2:33 - loss: 0.1945 - mae: 0.194 - ETA: 2:33 - loss: 0.1945 - mae: 0.194 - ETA: 2:33 - loss: 0.1946 - mae: 0.194 - ETA: 2:33 - loss: 0.1945 - mae: 0.194 - ETA: 2:32 - loss: 0.1945 - mae: 0.194 - ETA: 2:32 - loss: 0.1945 - mae: 0.194 - ETA: 2:32 - loss: 0.1945 - mae: 0.194 - ETA: 2:32 - loss: 0.1945 - mae: 0.194 - ETA: 2:32 - loss: 0.1944 - mae: 0.194 - ETA: 2:32 - loss: 0.1944 - mae: 0.194 - ETA: 2:32 - loss: 0.1944 - mae: 0.194 - ETA: 2:31 - loss: 0.1943 - mae: 0.194 - ETA: 2:31 - loss: 0.1943 - mae: 0.194 - ETA: 2:31 - loss: 0.1943 - mae: 0.194 - ETA: 2:31 - loss: 0.1942 - mae: 0.194 - ETA: 2:31 - loss: 0.1942 - mae: 0.194 - ETA: 2:31 - loss: 0.1941 - mae: 0.194 - ETA: 2:30 - loss: 0.1941 - mae: 0.194 - ETA: 2:30 - loss: 0.1940 - mae: 0.194 - ETA: 2:30 - loss: 0.1941 - mae: 0.194 - ETA: 2:30 - loss: 0.1940 - mae: 0.194 - ETA: 2:30 - loss: 0.1940 - mae: 0.194 - ETA: 2:30 - loss: 0.1939 - mae: 0.193 - ETA: 2:30 - loss: 0.1939 - mae: 0.193 - ETA: 2:30 - loss: 0.1938 - mae: 0.193 - ETA: 2:30 - loss: 0.1938 - mae: 0.193 - ETA: 2:30 - loss: 0.1937 - mae: 0.193 - ETA: 2:30 - loss: 0.1938 - mae: 0.193 - ETA: 2:30 - loss: 0.1937 - mae: 0.193 - ETA: 2:30 - loss: 0.1936 - mae: 0.193 - ETA: 2:29 - loss: 0.1936 - mae: 0.193 - ETA: 2:29 - loss: 0.1936 - mae: 0.193 - ETA: 2:29 - loss: 0.1935 - mae: 0.193 - ETA: 2:29 - loss: 0.1935 - mae: 0.193 - ETA: 2:29 - loss: 0.1935 - mae: 0.193 - ETA: 2:29 - loss: 0.1935 - mae: 0.193 - ETA: 2:28 - loss: 0.1935 - mae: 0.193 - ETA: 2:28 - loss: 0.1934 - mae: 0.193 - ETA: 2:28 - loss: 0.1934 - mae: 0.193 - ETA: 2:28 - loss: 0.1934 - mae: 0.193 - ETA: 2:28 - loss: 0.1934 - mae: 0.193 - ETA: 2:28 - loss: 0.1934 - mae: 0.193 - ETA: 2:27 - loss: 0.1934 - mae: 0.193 - ETA: 2:27 - loss: 0.1933 - mae: 0.193 - ETA: 2:27 - loss: 0.1933 - mae: 0.193 - ETA: 2:27 - loss: 0.1933 - mae: 0.193 - ETA: 2:27 - loss: 0.1933 - mae: 0.193 - ETA: 2:27 - loss: 0.1933 - mae: 0.193 - ETA: 2:27 - loss: 0.1933 - mae: 0.193 - ETA: 2:26 - loss: 0.1933 - mae: 0.193 - ETA: 2:26 - loss: 0.1933 - mae: 0.193 - ETA: 2:26 - loss: 0.1933 - mae: 0.193 - ETA: 2:27 - loss: 0.1934 - mae: 0.193 - ETA: 2:27 - loss: 0.1934 - mae: 0.193 - ETA: 2:27 - loss: 0.1934 - mae: 0.193 - ETA: 2:27 - loss: 0.1933 - mae: 0.193 - ETA: 2:26 - loss: 0.1933 - mae: 0.193 - ETA: 2:26 - loss: 0.1933 - mae: 0.193 - ETA: 2:26 - loss: 0.1933 - mae: 0.193 - ETA: 2:26 - loss: 0.1933 - mae: 0.193 - ETA: 2:26 - loss: 0.1933 - mae: 0.193 - ETA: 2:26 - loss: 0.1933 - mae: 0.193 - ETA: 2:26 - loss: 0.1933 - mae: 0.193 - ETA: 2:25 - loss: 0.1932 - mae: 0.193 - ETA: 2:25 - loss: 0.1932 - mae: 0.193 - ETA: 2:25 - loss: 0.1932 - mae: 0.193 - ETA: 2:25 - loss: 0.1932 - mae: 0.193 - ETA: 2:25 - loss: 0.1932 - mae: 0.193 - ETA: 2:25 - loss: 0.1932 - mae: 0.193 - ETA: 2:25 - loss: 0.1932 - mae: 0.193 - ETA: 2:25 - loss: 0.1932 - mae: 0.193 - ETA: 2:25 - loss: 0.1932 - mae: 0.193 - ETA: 2:24 - loss: 0.1932 - mae: 0.193 - ETA: 2:24 - loss: 0.1932 - mae: 0.193 - ETA: 2:24 - loss: 0.1932 - mae: 0.193 - ETA: 2:24 - loss: 0.1931 - mae: 0.193 - ETA: 2:24 - loss: 0.1932 - mae: 0.193 - ETA: 2:24 - loss: 0.1932 - mae: 0.193 - ETA: 3:19 - loss: 0.1932 - mae: 0.1932 - val_loss: 0.3004 - val_mae: 0.3004Epoch 6/10\n",
      " 48512/200000 [======>.......................] - ETA: 3:09 - loss: 0.1796 - mae: 0.179 - ETA: 3:07 - loss: 0.1889 - mae: 0.188 - ETA: 3:09 - loss: 0.1863 - mae: 0.186 - ETA: 3:09 - loss: 0.1900 - mae: 0.190 - ETA: 3:09 - loss: 0.1851 - mae: 0.185 - ETA: 3:10 - loss: 0.1854 - mae: 0.185 - ETA: 3:11 - loss: 0.1887 - mae: 0.188 - ETA: 3:11 - loss: 0.1920 - mae: 0.192 - ETA: 3:11 - loss: 0.1922 - mae: 0.192 - ETA: 3:11 - loss: 0.1897 - mae: 0.189 - ETA: 3:11 - loss: 0.1886 - mae: 0.188 - ETA: 3:11 - loss: 0.1891 - mae: 0.189 - ETA: 3:11 - loss: 0.1907 - mae: 0.190 - ETA: 3:11 - loss: 0.1889 - mae: 0.188 - ETA: 3:10 - loss: 0.1873 - mae: 0.187 - ETA: 3:11 - loss: 0.1868 - mae: 0.186 - ETA: 3:11 - loss: 0.1862 - mae: 0.186 - ETA: 3:10 - loss: 0.1867 - mae: 0.186 - ETA: 3:12 - loss: 0.1866 - mae: 0.186 - ETA: 3:14 - loss: 0.1863 - mae: 0.186 - ETA: 3:14 - loss: 0.1866 - mae: 0.186 - ETA: 3:13 - loss: 0.1871 - mae: 0.187 - ETA: 3:13 - loss: 0.1865 - mae: 0.186 - ETA: 3:12 - loss: 0.1861 - mae: 0.186 - ETA: 3:12 - loss: 0.1856 - mae: 0.185 - ETA: 3:13 - loss: 0.1855 - mae: 0.185 - ETA: 3:13 - loss: 0.1856 - mae: 0.185 - ETA: 3:12 - loss: 0.1852 - mae: 0.185 - ETA: 3:12 - loss: 0.1852 - mae: 0.185 - ETA: 3:12 - loss: 0.1866 - mae: 0.186 - ETA: 3:12 - loss: 0.1869 - mae: 0.186 - ETA: 3:11 - loss: 0.1866 - mae: 0.186 - ETA: 3:11 - loss: 0.1875 - mae: 0.187 - ETA: 3:11 - loss: 0.1873 - mae: 0.187 - ETA: 3:11 - loss: 0.1874 - mae: 0.187 - ETA: 3:10 - loss: 0.1872 - mae: 0.187 - ETA: 3:11 - loss: 0.1871 - mae: 0.187 - ETA: 3:10 - loss: 0.1870 - mae: 0.187 - ETA: 3:10 - loss: 0.1871 - mae: 0.187 - ETA: 3:10 - loss: 0.1869 - mae: 0.186 - ETA: 3:10 - loss: 0.1868 - mae: 0.186 - ETA: 3:10 - loss: 0.1865 - mae: 0.186 - ETA: 3:10 - loss: 0.1868 - mae: 0.186 - ETA: 3:10 - loss: 0.1870 - mae: 0.187 - ETA: 3:09 - loss: 0.1873 - mae: 0.187 - ETA: 3:09 - loss: 0.1875 - mae: 0.187 - ETA: 3:09 - loss: 0.1869 - mae: 0.186 - ETA: 3:09 - loss: 0.1870 - mae: 0.187 - ETA: 3:09 - loss: 0.1868 - mae: 0.186 - ETA: 3:08 - loss: 0.1871 - mae: 0.187 - ETA: 3:09 - loss: 0.1867 - mae: 0.186 - ETA: 3:09 - loss: 0.1865 - mae: 0.186 - ETA: 3:09 - loss: 0.1867 - mae: 0.186 - ETA: 3:09 - loss: 0.1871 - mae: 0.187 - ETA: 3:09 - loss: 0.1872 - mae: 0.187 - ETA: 3:09 - loss: 0.1873 - mae: 0.187 - ETA: 3:09 - loss: 0.1872 - mae: 0.187 - ETA: 3:09 - loss: 0.1868 - mae: 0.186 - ETA: 3:08 - loss: 0.1867 - mae: 0.186 - ETA: 3:08 - loss: 0.1865 - mae: 0.186 - ETA: 3:08 - loss: 0.1864 - mae: 0.186 - ETA: 3:08 - loss: 0.1868 - mae: 0.186 - ETA: 3:08 - loss: 0.1866 - mae: 0.186 - ETA: 3:08 - loss: 0.1863 - mae: 0.186 - ETA: 3:08 - loss: 0.1864 - mae: 0.186 - ETA: 3:07 - loss: 0.1864 - mae: 0.186 - ETA: 3:07 - loss: 0.1861 - mae: 0.186 - ETA: 3:07 - loss: 0.1862 - mae: 0.186 - ETA: 3:07 - loss: 0.1861 - mae: 0.186 - ETA: 3:07 - loss: 0.1857 - mae: 0.185 - ETA: 3:06 - loss: 0.1856 - mae: 0.185 - ETA: 3:06 - loss: 0.1854 - mae: 0.185 - ETA: 3:06 - loss: 0.1858 - mae: 0.185 - ETA: 3:06 - loss: 0.1855 - mae: 0.185 - ETA: 3:06 - loss: 0.1856 - mae: 0.185 - ETA: 3:06 - loss: 0.1853 - mae: 0.185 - ETA: 3:05 - loss: 0.1851 - mae: 0.185 - ETA: 3:05 - loss: 0.1852 - mae: 0.185 - ETA: 3:05 - loss: 0.1850 - mae: 0.185 - ETA: 3:05 - loss: 0.1848 - mae: 0.184 - ETA: 3:05 - loss: 0.1848 - mae: 0.184 - ETA: 3:05 - loss: 0.1847 - mae: 0.184 - ETA: 3:05 - loss: 0.1848 - mae: 0.184 - ETA: 3:05 - loss: 0.1844 - mae: 0.184 - ETA: 3:04 - loss: 0.1842 - mae: 0.184 - ETA: 3:04 - loss: 0.1843 - mae: 0.184 - ETA: 3:04 - loss: 0.1843 - mae: 0.184 - ETA: 3:04 - loss: 0.1841 - mae: 0.184 - ETA: 3:04 - loss: 0.1844 - mae: 0.184 - ETA: 3:05 - loss: 0.1844 - mae: 0.184 - ETA: 3:05 - loss: 0.1843 - mae: 0.184 - ETA: 3:04 - loss: 0.1843 - mae: 0.184 - ETA: 3:04 - loss: 0.1842 - mae: 0.184 - ETA: 3:04 - loss: 0.1843 - mae: 0.184 - ETA: 3:04 - loss: 0.1843 - mae: 0.184 - ETA: 3:03 - loss: 0.1845 - mae: 0.184 - ETA: 3:03 - loss: 0.1844 - mae: 0.184 - ETA: 3:03 - loss: 0.1845 - mae: 0.184 - ETA: 3:02 - loss: 0.1846 - mae: 0.184 - ETA: 3:02 - loss: 0.1844 - mae: 0.184 - ETA: 3:02 - loss: 0.1844 - mae: 0.184 - ETA: 3:02 - loss: 0.1844 - mae: 0.184 - ETA: 3:02 - loss: 0.1845 - mae: 0.184 - ETA: 3:01 - loss: 0.1843 - mae: 0.184 - ETA: 3:01 - loss: 0.1844 - mae: 0.184 - ETA: 3:01 - loss: 0.1841 - mae: 0.184 - ETA: 3:01 - loss: 0.1842 - mae: 0.184 - ETA: 3:01 - loss: 0.1841 - mae: 0.184 - ETA: 3:01 - loss: 0.1840 - mae: 0.184 - ETA: 3:01 - loss: 0.1838 - mae: 0.183 - ETA: 3:01 - loss: 0.1837 - mae: 0.183 - ETA: 3:01 - loss: 0.1837 - mae: 0.183 - ETA: 3:02 - loss: 0.1837 - mae: 0.183 - ETA: 3:01 - loss: 0.1839 - mae: 0.183 - ETA: 3:02 - loss: 0.1840 - mae: 0.184 - ETA: 3:02 - loss: 0.1841 - mae: 0.184 - ETA: 3:02 - loss: 0.1839 - mae: 0.183 - ETA: 3:02 - loss: 0.1840 - mae: 0.184 - ETA: 3:02 - loss: 0.1839 - mae: 0.183 - ETA: 3:02 - loss: 0.1840 - mae: 0.184 - ETA: 3:03 - loss: 0.1840 - mae: 0.184 - ETA: 3:03 - loss: 0.1840 - mae: 0.184 - ETA: 3:03 - loss: 0.1841 - mae: 0.184 - ETA: 3:03 - loss: 0.1841 - mae: 0.184 - ETA: 3:03 - loss: 0.1841 - mae: 0.184 - ETA: 3:03 - loss: 0.1841 - mae: 0.184 - ETA: 3:04 - loss: 0.1841 - mae: 0.184 - ETA: 3:04 - loss: 0.1841 - mae: 0.184 - ETA: 3:04 - loss: 0.1841 - mae: 0.184 - ETA: 3:04 - loss: 0.1840 - mae: 0.184 - ETA: 3:04 - loss: 0.1839 - mae: 0.183 - ETA: 3:04 - loss: 0.1840 - mae: 0.184 - ETA: 3:04 - loss: 0.1839 - mae: 0.183 - ETA: 3:04 - loss: 0.1841 - mae: 0.184 - ETA: 3:05 - loss: 0.1839 - mae: 0.183 - ETA: 3:05 - loss: 0.1838 - mae: 0.183 - ETA: 3:05 - loss: 0.1839 - mae: 0.183 - ETA: 3:05 - loss: 0.1839 - mae: 0.183 - ETA: 3:05 - loss: 0.1840 - mae: 0.184 - ETA: 3:05 - loss: 0.1839 - mae: 0.183 - ETA: 3:05 - loss: 0.1838 - mae: 0.183 - ETA: 3:05 - loss: 0.1841 - mae: 0.184 - ETA: 3:05 - loss: 0.1841 - mae: 0.184 - ETA: 3:05 - loss: 0.1841 - mae: 0.184 - ETA: 3:05 - loss: 0.1843 - mae: 0.184 - ETA: 3:05 - loss: 0.1845 - mae: 0.184 - ETA: 3:05 - loss: 0.1845 - mae: 0.184 - ETA: 3:05 - loss: 0.1845 - mae: 0.184 - ETA: 3:04 - loss: 0.1845 - mae: 0.184 - ETA: 3:04 - loss: 0.1845 - mae: 0.184 - ETA: 3:04 - loss: 0.1845 - mae: 0.184 - ETA: 3:04 - loss: 0.1845 - mae: 0.184 - ETA: 3:04 - loss: 0.1843 - mae: 0.184 - ETA: 3:04 - loss: 0.1843 - mae: 0.184 - ETA: 3:04 - loss: 0.1841 - mae: 0.184 - ETA: 3:04 - loss: 0.1842 - mae: 0.184 - ETA: 3:04 - loss: 0.1842 - mae: 0.184 - ETA: 3:03 - loss: 0.1842 - mae: 0.184 - ETA: 3:03 - loss: 0.1841 - mae: 0.184 - ETA: 3:03 - loss: 0.1841 - mae: 0.184 - ETA: 3:03 - loss: 0.1842 - mae: 0.184 - ETA: 3:03 - loss: 0.1842 - mae: 0.184 - ETA: 3:03 - loss: 0.1843 - mae: 0.184 - ETA: 3:02 - loss: 0.1844 - mae: 0.184 - ETA: 3:02 - loss: 0.1846 - mae: 0.184 - ETA: 3:02 - loss: 0.1846 - mae: 0.184 - ETA: 3:02 - loss: 0.1846 - mae: 0.184 - ETA: 3:02 - loss: 0.1846 - mae: 0.184 - ETA: 3:02 - loss: 0.1846 - mae: 0.184 - ETA: 3:01 - loss: 0.1847 - mae: 0.184 - ETA: 3:01 - loss: 0.1847 - mae: 0.184 - ETA: 3:01 - loss: 0.1846 - mae: 0.184 - ETA: 3:01 - loss: 0.1846 - mae: 0.184 - ETA: 3:01 - loss: 0.1847 - mae: 0.184 - ETA: 3:01 - loss: 0.1849 - mae: 0.184 - ETA: 3:00 - loss: 0.1848 - mae: 0.184 - ETA: 3:00 - loss: 0.1847 - mae: 0.184 - ETA: 3:00 - loss: 0.1846 - mae: 0.184 - ETA: 3:00 - loss: 0.1846 - mae: 0.184 - ETA: 3:00 - loss: 0.1847 - mae: 0.184 - ETA: 3:00 - loss: 0.1846 - mae: 0.184 - ETA: 3:00 - loss: 0.1846 - mae: 0.184 - ETA: 2:59 - loss: 0.1846 - mae: 0.184 - ETA: 2:59 - loss: 0.1846 - mae: 0.184 - ETA: 2:59 - loss: 0.1847 - mae: 0.184 - ETA: 2:59 - loss: 0.1847 - mae: 0.184 - ETA: 2:59 - loss: 0.1849 - mae: 0.184 - ETA: 2:59 - loss: 0.1848 - mae: 0.184 - ETA: 2:58 - loss: 0.1850 - mae: 0.185 - ETA: 2:58 - loss: 0.1849 - mae: 0.184 - ETA: 2:58 - loss: 0.1850 - mae: 0.185 - ETA: 2:58 - loss: 0.1851 - mae: 0.185 - ETA: 2:58 - loss: 0.1851 - mae: 0.185 - ETA: 2:58 - loss: 0.1851 - mae: 0.185 - ETA: 2:58 - loss: 0.1851 - mae: 0.185 - ETA: 2:57 - loss: 0.1852 - mae: 0.185 - ETA: 2:57 - loss: 0.1851 - mae: 0.185 - ETA: 2:57 - loss: 0.1851 - mae: 0.185 - ETA: 2:57 - loss: 0.1851 - mae: 0.185 - ETA: 2:57 - loss: 0.1851 - mae: 0.185 - ETA: 2:57 - loss: 0.1851 - mae: 0.185 - ETA: 2:56 - loss: 0.1852 - mae: 0.185 - ETA: 2:56 - loss: 0.1852 - mae: 0.185 - ETA: 2:56 - loss: 0.1853 - mae: 0.185 - ETA: 2:56 - loss: 0.1852 - mae: 0.185 - ETA: 2:56 - loss: 0.1852 - mae: 0.185 - ETA: 2:56 - loss: 0.1851 - mae: 0.185 - ETA: 2:56 - loss: 0.1851 - mae: 0.185 - ETA: 2:55 - loss: 0.1852 - mae: 0.185 - ETA: 2:55 - loss: 0.1852 - mae: 0.185 - ETA: 2:55 - loss: 0.1852 - mae: 0.185 - ETA: 2:55 - loss: 0.1852 - mae: 0.185 - ETA: 2:55 - loss: 0.1852 - mae: 0.185 - ETA: 2:55 - loss: 0.1851 - mae: 0.185 - ETA: 2:55 - loss: 0.1850 - mae: 0.185 - ETA: 2:55 - loss: 0.1850 - mae: 0.185 - ETA: 2:54 - loss: 0.1850 - mae: 0.185 - ETA: 2:54 - loss: 0.1849 - mae: 0.184 - ETA: 2:54 - loss: 0.1849 - mae: 0.184 - ETA: 2:54 - loss: 0.1849 - mae: 0.184 - ETA: 2:54 - loss: 0.1848 - mae: 0.184 - ETA: 2:54 - loss: 0.1847 - mae: 0.184 - ETA: 2:54 - loss: 0.1847 - mae: 0.184 - ETA: 2:53 - loss: 0.1848 - mae: 0.184 - ETA: 2:53 - loss: 0.1849 - mae: 0.184 - ETA: 2:53 - loss: 0.1850 - mae: 0.185 - ETA: 2:53 - loss: 0.1850 - mae: 0.185 - ETA: 2:53 - loss: 0.1850 - mae: 0.185 - ETA: 2:53 - loss: 0.1850 - mae: 0.185 - ETA: 2:53 - loss: 0.1850 - mae: 0.185 - ETA: 2:53 - loss: 0.1850 - mae: 0.185 - ETA: 2:52 - loss: 0.1849 - mae: 0.184 - ETA: 2:52 - loss: 0.1849 - mae: 0.184 - ETA: 2:52 - loss: 0.1848 - mae: 0.184 - ETA: 2:52 - loss: 0.1848 - mae: 0.184 - ETA: 2:52 - loss: 0.1848 - mae: 0.184 - ETA: 2:52 - loss: 0.1848 - mae: 0.184 - ETA: 2:51 - loss: 0.1848 - mae: 0.184 - ETA: 2:51 - loss: 0.1847 - mae: 0.184 - ETA: 2:51 - loss: 0.1846 - mae: 0.184 - ETA: 2:51 - loss: 0.1845 - mae: 0.184 - ETA: 2:51 - loss: 0.1844 - mae: 0.184 - ETA: 2:51 - loss: 0.1844 - mae: 0.184 - ETA: 2:51 - loss: 0.1845 - mae: 0.184 - ETA: 2:50 - loss: 0.1844 - mae: 0.184 - ETA: 2:50 - loss: 0.1845 - mae: 0.184 - ETA: 2:50 - loss: 0.1844 - mae: 0.184 - ETA: 2:50 - loss: 0.1844 - mae: 0.184 - ETA: 2:50 - loss: 0.1843 - mae: 0.184 - ETA: 2:50 - loss: 0.1842 - mae: 0.184 - ETA: 2:50 - loss: 0.1841 - mae: 0.184 - ETA: 2:50 - loss: 0.1841 - mae: 0.184 - ETA: 2:49 - loss: 0.1841 - mae: 0.184 - ETA: 2:49 - loss: 0.1841 - mae: 0.184 - ETA: 2:49 - loss: 0.1841 - mae: 0.184 - ETA: 2:49 - loss: 0.1841 - mae: 0.184 - ETA: 2:49 - loss: 0.1841 - mae: 0.184 - ETA: 2:49 - loss: 0.1841 - mae: 0.184 - ETA: 2:48 - loss: 0.1841 - mae: 0.184 - ETA: 2:48 - loss: 0.1841 - mae: 0.184 - ETA: 2:48 - loss: 0.1841 - mae: 0.184 - ETA: 2:48 - loss: 0.1841 - mae: 0.184 - ETA: 2:48 - loss: 0.1841 - mae: 0.184 - ETA: 2:48 - loss: 0.1840 - mae: 0.184 - ETA: 2:48 - loss: 0.1839 - mae: 0.183 - ETA: 2:47 - loss: 0.1839 - mae: 0.183 - ETA: 2:47 - loss: 0.1838 - mae: 0.183 - ETA: 2:47 - loss: 0.1838 - mae: 0.183 - ETA: 2:47 - loss: 0.1838 - mae: 0.183 - ETA: 2:47 - loss: 0.1837 - mae: 0.183 - ETA: 2:47 - loss: 0.1839 - mae: 0.183 - ETA: 2:46 - loss: 0.1839 - mae: 0.183 - ETA: 2:46 - loss: 0.1838 - mae: 0.183 - ETA: 2:46 - loss: 0.1838 - mae: 0.183 - ETA: 2:46 - loss: 0.1839 - mae: 0.183 - ETA: 2:46 - loss: 0.1839 - mae: 0.183 - ETA: 2:46 - loss: 0.1839 - mae: 0.183 - ETA: 2:46 - loss: 0.1839 - mae: 0.183 - ETA: 2:46 - loss: 0.1839 - mae: 0.183 - ETA: 2:46 - loss: 0.1840 - mae: 0.184 - ETA: 2:45 - loss: 0.1839 - mae: 0.183 - ETA: 2:45 - loss: 0.1839 - mae: 0.183 - ETA: 2:45 - loss: 0.1840 - mae: 0.184 - ETA: 2:45 - loss: 0.1840 - mae: 0.184 - ETA: 2:45 - loss: 0.1840 - mae: 0.184 - ETA: 2:45 - loss: 0.1840 - mae: 0.184 - ETA: 2:45 - loss: 0.1840 - mae: 0.184 - ETA: 2:45 - loss: 0.1840 - mae: 0.183 - ETA: 2:45 - loss: 0.1839 - mae: 0.183 - ETA: 2:44 - loss: 0.1839 - mae: 0.183 - ETA: 2:44 - loss: 0.1839 - mae: 0.183 - ETA: 2:44 - loss: 0.1838 - mae: 0.183 - ETA: 2:44 - loss: 0.1838 - mae: 0.183 - ETA: 2:44 - loss: 0.1838 - mae: 0.183 - ETA: 2:44 - loss: 0.1838 - mae: 0.183 - ETA: 2:44 - loss: 0.1838 - mae: 0.183 - ETA: 2:44 - loss: 0.1838 - mae: 0.183 - ETA: 2:44 - loss: 0.1838 - mae: 0.183 - ETA: 2:43 - loss: 0.1838 - mae: 0.183 - ETA: 2:43 - loss: 0.1838 - mae: 0.183 - ETA: 2:43 - loss: 0.1838 - mae: 0.183 - ETA: 2:43 - loss: 0.1838 - mae: 0.183 - ETA: 2:43 - loss: 0.1838 - mae: 0.183 - ETA: 2:43 - loss: 0.1838 - mae: 0.183 - ETA: 2:43 - loss: 0.1837 - mae: 0.183 - ETA: 2:43 - loss: 0.1837 - mae: 0.183 - ETA: 2:42 - loss: 0.1836 - mae: 0.183 - ETA: 2:42 - loss: 0.1836 - mae: 0.183 - ETA: 2:42 - loss: 0.1836 - mae: 0.183 - ETA: 2:42 - loss: 0.1835 - mae: 0.183 - ETA: 2:42 - loss: 0.1835 - mae: 0.183 - ETA: 2:42 - loss: 0.1835 - mae: 0.183 - ETA: 2:42 - loss: 0.1834 - mae: 0.183 - ETA: 2:42 - loss: 0.1834 - mae: 0.183 - ETA: 2:41 - loss: 0.1834 - mae: 0.183 - ETA: 2:41 - loss: 0.1834 - mae: 0.183 - ETA: 2:41 - loss: 0.1834 - mae: 0.183 - ETA: 2:41 - loss: 0.1834 - mae: 0.183 - ETA: 2:41 - loss: 0.1833 - mae: 0.183 - ETA: 2:41 - loss: 0.1833 - mae: 0.183 - ETA: 2:41 - loss: 0.1832 - mae: 0.183 - ETA: 2:40 - loss: 0.1832 - mae: 0.183 - ETA: 2:40 - loss: 0.1832 - mae: 0.183 - ETA: 2:40 - loss: 0.1832 - mae: 0.183 - ETA: 2:40 - loss: 0.1832 - mae: 0.183 - ETA: 2:40 - loss: 0.1832 - mae: 0.183 - ETA: 2:40 - loss: 0.1832 - mae: 0.183 - ETA: 2:40 - loss: 0.1831 - mae: 0.183 - ETA: 2:40 - loss: 0.1831 - mae: 0.183 - ETA: 2:40 - loss: 0.1832 - mae: 0.183 - ETA: 2:39 - loss: 0.1833 - mae: 0.183 - ETA: 2:39 - loss: 0.1833 - mae: 0.183 - ETA: 2:39 - loss: 0.1833 - mae: 0.183 - ETA: 2:39 - loss: 0.1834 - mae: 0.183 - ETA: 2:39 - loss: 0.1833 - mae: 0.183 - ETA: 2:39 - loss: 0.1834 - mae: 0.183 - ETA: 2:39 - loss: 0.1833 - mae: 0.183 - ETA: 2:38 - loss: 0.1832 - mae: 0.183 - ETA: 2:38 - loss: 0.1832 - mae: 0.183 - ETA: 2:38 - loss: 0.1832 - mae: 0.183 - ETA: 2:38 - loss: 0.1832 - mae: 0.183 - ETA: 2:38 - loss: 0.1832 - mae: 0.183 - ETA: 2:38 - loss: 0.1831 - mae: 0.183 - ETA: 2:38 - loss: 0.1831 - mae: 0.183 - ETA: 2:38 - loss: 0.1830 - mae: 0.183 - ETA: 2:38 - loss: 0.1830 - mae: 0.183 - ETA: 2:37 - loss: 0.1830 - mae: 0.183 - ETA: 2:37 - loss: 0.1830 - mae: 0.183 - ETA: 2:37 - loss: 0.1830 - mae: 0.183 - ETA: 2:37 - loss: 0.1830 - mae: 0.183 - ETA: 2:37 - loss: 0.1830 - mae: 0.183 - ETA: 2:37 - loss: 0.1830 - mae: 0.183 - ETA: 2:37 - loss: 0.1830 - mae: 0.183 - ETA: 2:37 - loss: 0.1829 - mae: 0.182 - ETA: 2:36 - loss: 0.1829 - mae: 0.182 - ETA: 2:36 - loss: 0.1829 - mae: 0.182 - ETA: 2:36 - loss: 0.1830 - mae: 0.183 - ETA: 2:36 - loss: 0.1829 - mae: 0.182 - ETA: 2:36 - loss: 0.1829 - mae: 0.182 - ETA: 2:36 - loss: 0.1828 - mae: 0.182 - ETA: 2:36 - loss: 0.1827 - mae: 0.182 - ETA: 2:36 - loss: 0.1828 - mae: 0.182 - ETA: 2:35 - loss: 0.1828 - mae: 0.182 - ETA: 2:35 - loss: 0.1828 - mae: 0.182 - ETA: 2:35 - loss: 0.1827 - mae: 0.182 - ETA: 2:35 - loss: 0.1827 - mae: 0.182 - ETA: 2:35 - loss: 0.1827 - mae: 0.182 - ETA: 2:35 - loss: 0.1827 - mae: 0.182 - ETA: 2:35 - loss: 0.1827 - mae: 0.182 - ETA: 2:34 - loss: 0.1828 - mae: 0.182 - ETA: 2:34 - loss: 0.1827 - mae: 0.182 - ETA: 2:34 - loss: 0.1827 - mae: 0.182 - ETA: 2:34 - loss: 0.1827 - mae: 0.182 - ETA: 2:34 - loss: 0.1828 - mae: 0.182 - ETA: 2:34 - loss: 0.1828 - mae: 0.182 - ETA: 2:34 - loss: 0.1827 - mae: 0.182 - ETA: 2:33 - loss: 0.1827 - mae: 0.182 - ETA: 2:33 - loss: 0.1827 - mae: 0.182 - ETA: 2:33 - loss: 0.1827 - mae: 0.1827WARNING:tensorflow:Can save best model only with val_loss available, skipping.\n"
     ]
    },
    {
     "ename": "KeyboardInterrupt",
     "evalue": "",
     "output_type": "error",
     "traceback": [
      "\u001b[0;31m---------------------------------------------------------------------------\u001b[0m",
      "\u001b[0;31mKeyboardInterrupt\u001b[0m                         Traceback (most recent call last)",
      "\u001b[0;32m<ipython-input-30-dbc54418c041>\u001b[0m in \u001b[0;36m<module>\u001b[0;34m\u001b[0m\n\u001b[1;32m      3\u001b[0m              \u001b[0mepochs\u001b[0m\u001b[0;34m=\u001b[0m\u001b[0;36m10\u001b[0m\u001b[0;34m,\u001b[0m\u001b[0;34m\u001b[0m\u001b[0;34m\u001b[0m\u001b[0m\n\u001b[1;32m      4\u001b[0m              \u001b[0mbatch_size\u001b[0m\u001b[0;34m=\u001b[0m\u001b[0;36m128\u001b[0m\u001b[0;34m,\u001b[0m\u001b[0;34m\u001b[0m\u001b[0;34m\u001b[0m\u001b[0m\n\u001b[0;32m----> 5\u001b[0;31m              validation_data=(X_val, y_val), steps_per_epoch=500)\n\u001b[0m",
      "\u001b[0;32m~/miniconda3/envs/ds/lib/python3.6/site-packages/kerastuner/engine/base_tuner.py\u001b[0m in \u001b[0;36msearch\u001b[0;34m(self, *fit_args, **fit_kwargs)\u001b[0m\n\u001b[1;32m    120\u001b[0m \u001b[0;34m\u001b[0m\u001b[0m\n\u001b[1;32m    121\u001b[0m             \u001b[0mself\u001b[0m\u001b[0;34m.\u001b[0m\u001b[0mon_trial_begin\u001b[0m\u001b[0;34m(\u001b[0m\u001b[0mtrial\u001b[0m\u001b[0;34m)\u001b[0m\u001b[0;34m\u001b[0m\u001b[0;34m\u001b[0m\u001b[0m\n\u001b[0;32m--> 122\u001b[0;31m             \u001b[0mself\u001b[0m\u001b[0;34m.\u001b[0m\u001b[0mrun_trial\u001b[0m\u001b[0;34m(\u001b[0m\u001b[0mtrial\u001b[0m\u001b[0;34m,\u001b[0m \u001b[0;34m*\u001b[0m\u001b[0mfit_args\u001b[0m\u001b[0;34m,\u001b[0m \u001b[0;34m**\u001b[0m\u001b[0mfit_kwargs\u001b[0m\u001b[0;34m)\u001b[0m\u001b[0;34m\u001b[0m\u001b[0;34m\u001b[0m\u001b[0m\n\u001b[0m\u001b[1;32m    123\u001b[0m             \u001b[0mself\u001b[0m\u001b[0;34m.\u001b[0m\u001b[0mon_trial_end\u001b[0m\u001b[0;34m(\u001b[0m\u001b[0mtrial\u001b[0m\u001b[0;34m)\u001b[0m\u001b[0;34m\u001b[0m\u001b[0;34m\u001b[0m\u001b[0m\n\u001b[1;32m    124\u001b[0m         \u001b[0mself\u001b[0m\u001b[0;34m.\u001b[0m\u001b[0mon_search_end\u001b[0m\u001b[0;34m(\u001b[0m\u001b[0;34m)\u001b[0m\u001b[0;34m\u001b[0m\u001b[0;34m\u001b[0m\u001b[0m\n",
      "\u001b[0;32m~/miniconda3/envs/ds/lib/python3.6/site-packages/kerastuner/engine/multi_execution_tuner.py\u001b[0m in \u001b[0;36mrun_trial\u001b[0;34m(self, trial, *fit_args, **fit_kwargs)\u001b[0m\n\u001b[1;32m     93\u001b[0m \u001b[0;34m\u001b[0m\u001b[0m\n\u001b[1;32m     94\u001b[0m             \u001b[0mmodel\u001b[0m \u001b[0;34m=\u001b[0m \u001b[0mself\u001b[0m\u001b[0;34m.\u001b[0m\u001b[0mhypermodel\u001b[0m\u001b[0;34m.\u001b[0m\u001b[0mbuild\u001b[0m\u001b[0;34m(\u001b[0m\u001b[0mtrial\u001b[0m\u001b[0;34m.\u001b[0m\u001b[0mhyperparameters\u001b[0m\u001b[0;34m)\u001b[0m\u001b[0;34m\u001b[0m\u001b[0;34m\u001b[0m\u001b[0m\n\u001b[0;32m---> 95\u001b[0;31m             \u001b[0mhistory\u001b[0m \u001b[0;34m=\u001b[0m \u001b[0mmodel\u001b[0m\u001b[0;34m.\u001b[0m\u001b[0mfit\u001b[0m\u001b[0;34m(\u001b[0m\u001b[0;34m*\u001b[0m\u001b[0mfit_args\u001b[0m\u001b[0;34m,\u001b[0m \u001b[0;34m**\u001b[0m\u001b[0mfit_kwargs\u001b[0m\u001b[0;34m,\u001b[0m \u001b[0mcallbacks\u001b[0m\u001b[0;34m=\u001b[0m\u001b[0mcallbacks\u001b[0m\u001b[0;34m)\u001b[0m\u001b[0;34m\u001b[0m\u001b[0;34m\u001b[0m\u001b[0m\n\u001b[0m\u001b[1;32m     96\u001b[0m             \u001b[0;32mfor\u001b[0m \u001b[0mmetric\u001b[0m\u001b[0;34m,\u001b[0m \u001b[0mepoch_values\u001b[0m \u001b[0;32min\u001b[0m \u001b[0mhistory\u001b[0m\u001b[0;34m.\u001b[0m\u001b[0mhistory\u001b[0m\u001b[0;34m.\u001b[0m\u001b[0mitems\u001b[0m\u001b[0;34m(\u001b[0m\u001b[0;34m)\u001b[0m\u001b[0;34m:\u001b[0m\u001b[0;34m\u001b[0m\u001b[0;34m\u001b[0m\u001b[0m\n\u001b[1;32m     97\u001b[0m                 \u001b[0;32mif\u001b[0m \u001b[0mself\u001b[0m\u001b[0;34m.\u001b[0m\u001b[0moracle\u001b[0m\u001b[0;34m.\u001b[0m\u001b[0mobjective\u001b[0m\u001b[0;34m.\u001b[0m\u001b[0mdirection\u001b[0m \u001b[0;34m==\u001b[0m \u001b[0;34m'min'\u001b[0m\u001b[0;34m:\u001b[0m\u001b[0;34m\u001b[0m\u001b[0;34m\u001b[0m\u001b[0m\n",
      "\u001b[0;32m~/miniconda3/envs/ds/lib/python3.6/site-packages/tensorflow_core/python/keras/engine/training.py\u001b[0m in \u001b[0;36mfit\u001b[0;34m(self, x, y, batch_size, epochs, verbose, callbacks, validation_split, validation_data, shuffle, class_weight, sample_weight, initial_epoch, steps_per_epoch, validation_steps, validation_freq, max_queue_size, workers, use_multiprocessing, **kwargs)\u001b[0m\n\u001b[1;32m    791\u001b[0m         \u001b[0mmax_queue_size\u001b[0m\u001b[0;34m=\u001b[0m\u001b[0mmax_queue_size\u001b[0m\u001b[0;34m,\u001b[0m\u001b[0;34m\u001b[0m\u001b[0;34m\u001b[0m\u001b[0m\n\u001b[1;32m    792\u001b[0m         \u001b[0mworkers\u001b[0m\u001b[0;34m=\u001b[0m\u001b[0mworkers\u001b[0m\u001b[0;34m,\u001b[0m\u001b[0;34m\u001b[0m\u001b[0;34m\u001b[0m\u001b[0m\n\u001b[0;32m--> 793\u001b[0;31m         use_multiprocessing=use_multiprocessing)\n\u001b[0m\u001b[1;32m    794\u001b[0m \u001b[0;34m\u001b[0m\u001b[0m\n\u001b[1;32m    795\u001b[0m   def evaluate(self,\n",
      "\u001b[0;32m~/miniconda3/envs/ds/lib/python3.6/site-packages/tensorflow_core/python/keras/engine/training_v2.py\u001b[0m in \u001b[0;36mfit\u001b[0;34m(self, model, x, y, batch_size, epochs, verbose, callbacks, validation_split, validation_data, shuffle, class_weight, sample_weight, initial_epoch, steps_per_epoch, validation_steps, validation_freq, max_queue_size, workers, use_multiprocessing, **kwargs)\u001b[0m\n\u001b[1;32m    340\u001b[0m                 \u001b[0mmode\u001b[0m\u001b[0;34m=\u001b[0m\u001b[0mModeKeys\u001b[0m\u001b[0;34m.\u001b[0m\u001b[0mTRAIN\u001b[0m\u001b[0;34m,\u001b[0m\u001b[0;34m\u001b[0m\u001b[0;34m\u001b[0m\u001b[0m\n\u001b[1;32m    341\u001b[0m                 \u001b[0mtraining_context\u001b[0m\u001b[0;34m=\u001b[0m\u001b[0mtraining_context\u001b[0m\u001b[0;34m,\u001b[0m\u001b[0;34m\u001b[0m\u001b[0;34m\u001b[0m\u001b[0m\n\u001b[0;32m--> 342\u001b[0;31m                 total_epochs=epochs)\n\u001b[0m\u001b[1;32m    343\u001b[0m             \u001b[0mcbks\u001b[0m\u001b[0;34m.\u001b[0m\u001b[0mmake_logs\u001b[0m\u001b[0;34m(\u001b[0m\u001b[0mmodel\u001b[0m\u001b[0;34m,\u001b[0m \u001b[0mepoch_logs\u001b[0m\u001b[0;34m,\u001b[0m \u001b[0mtraining_result\u001b[0m\u001b[0;34m,\u001b[0m \u001b[0mModeKeys\u001b[0m\u001b[0;34m.\u001b[0m\u001b[0mTRAIN\u001b[0m\u001b[0;34m)\u001b[0m\u001b[0;34m\u001b[0m\u001b[0;34m\u001b[0m\u001b[0m\n\u001b[1;32m    344\u001b[0m \u001b[0;34m\u001b[0m\u001b[0m\n",
      "\u001b[0;32m~/miniconda3/envs/ds/lib/python3.6/site-packages/tensorflow_core/python/keras/engine/training_v2.py\u001b[0m in \u001b[0;36mrun_one_epoch\u001b[0;34m(model, iterator, execution_function, dataset_size, batch_size, strategy, steps_per_epoch, num_samples, mode, training_context, total_epochs)\u001b[0m\n\u001b[1;32m    126\u001b[0m         step=step, mode=mode, size=current_batch_size) as batch_logs:\n\u001b[1;32m    127\u001b[0m       \u001b[0;32mtry\u001b[0m\u001b[0;34m:\u001b[0m\u001b[0;34m\u001b[0m\u001b[0;34m\u001b[0m\u001b[0m\n\u001b[0;32m--> 128\u001b[0;31m         \u001b[0mbatch_outs\u001b[0m \u001b[0;34m=\u001b[0m \u001b[0mexecution_function\u001b[0m\u001b[0;34m(\u001b[0m\u001b[0miterator\u001b[0m\u001b[0;34m)\u001b[0m\u001b[0;34m\u001b[0m\u001b[0;34m\u001b[0m\u001b[0m\n\u001b[0m\u001b[1;32m    129\u001b[0m       \u001b[0;32mexcept\u001b[0m \u001b[0;34m(\u001b[0m\u001b[0mStopIteration\u001b[0m\u001b[0;34m,\u001b[0m \u001b[0merrors\u001b[0m\u001b[0;34m.\u001b[0m\u001b[0mOutOfRangeError\u001b[0m\u001b[0;34m)\u001b[0m\u001b[0;34m:\u001b[0m\u001b[0;34m\u001b[0m\u001b[0;34m\u001b[0m\u001b[0m\n\u001b[1;32m    130\u001b[0m         \u001b[0;31m# TODO(kaftan): File bug about tf function and errors.OutOfRangeError?\u001b[0m\u001b[0;34m\u001b[0m\u001b[0;34m\u001b[0m\u001b[0;34m\u001b[0m\u001b[0m\n",
      "\u001b[0;32m~/miniconda3/envs/ds/lib/python3.6/site-packages/tensorflow_core/python/keras/engine/training_v2_utils.py\u001b[0m in \u001b[0;36mexecution_function\u001b[0;34m(input_fn)\u001b[0m\n\u001b[1;32m     96\u001b[0m     \u001b[0;31m# `numpy` translates Tensors to values in Eager mode.\u001b[0m\u001b[0;34m\u001b[0m\u001b[0;34m\u001b[0m\u001b[0;34m\u001b[0m\u001b[0m\n\u001b[1;32m     97\u001b[0m     return nest.map_structure(_non_none_constant_value,\n\u001b[0;32m---> 98\u001b[0;31m                               distributed_function(input_fn))\n\u001b[0m\u001b[1;32m     99\u001b[0m \u001b[0;34m\u001b[0m\u001b[0m\n\u001b[1;32m    100\u001b[0m   \u001b[0;32mreturn\u001b[0m \u001b[0mexecution_function\u001b[0m\u001b[0;34m\u001b[0m\u001b[0;34m\u001b[0m\u001b[0m\n",
      "\u001b[0;32m~/miniconda3/envs/ds/lib/python3.6/site-packages/tensorflow_core/python/eager/def_function.py\u001b[0m in \u001b[0;36m__call__\u001b[0;34m(self, *args, **kwds)\u001b[0m\n\u001b[1;32m    566\u001b[0m         \u001b[0mxla_context\u001b[0m\u001b[0;34m.\u001b[0m\u001b[0mExit\u001b[0m\u001b[0;34m(\u001b[0m\u001b[0;34m)\u001b[0m\u001b[0;34m\u001b[0m\u001b[0;34m\u001b[0m\u001b[0m\n\u001b[1;32m    567\u001b[0m     \u001b[0;32melse\u001b[0m\u001b[0;34m:\u001b[0m\u001b[0;34m\u001b[0m\u001b[0;34m\u001b[0m\u001b[0m\n\u001b[0;32m--> 568\u001b[0;31m       \u001b[0mresult\u001b[0m \u001b[0;34m=\u001b[0m \u001b[0mself\u001b[0m\u001b[0;34m.\u001b[0m\u001b[0m_call\u001b[0m\u001b[0;34m(\u001b[0m\u001b[0;34m*\u001b[0m\u001b[0margs\u001b[0m\u001b[0;34m,\u001b[0m \u001b[0;34m**\u001b[0m\u001b[0mkwds\u001b[0m\u001b[0;34m)\u001b[0m\u001b[0;34m\u001b[0m\u001b[0;34m\u001b[0m\u001b[0m\n\u001b[0m\u001b[1;32m    569\u001b[0m \u001b[0;34m\u001b[0m\u001b[0m\n\u001b[1;32m    570\u001b[0m     \u001b[0;32mif\u001b[0m \u001b[0mtracing_count\u001b[0m \u001b[0;34m==\u001b[0m \u001b[0mself\u001b[0m\u001b[0;34m.\u001b[0m\u001b[0m_get_tracing_count\u001b[0m\u001b[0;34m(\u001b[0m\u001b[0;34m)\u001b[0m\u001b[0;34m:\u001b[0m\u001b[0;34m\u001b[0m\u001b[0;34m\u001b[0m\u001b[0m\n",
      "\u001b[0;32m~/miniconda3/envs/ds/lib/python3.6/site-packages/tensorflow_core/python/eager/def_function.py\u001b[0m in \u001b[0;36m_call\u001b[0;34m(self, *args, **kwds)\u001b[0m\n\u001b[1;32m    597\u001b[0m       \u001b[0;31m# In this case we have created variables on the first call, so we run the\u001b[0m\u001b[0;34m\u001b[0m\u001b[0;34m\u001b[0m\u001b[0;34m\u001b[0m\u001b[0m\n\u001b[1;32m    598\u001b[0m       \u001b[0;31m# defunned version which is guaranteed to never create variables.\u001b[0m\u001b[0;34m\u001b[0m\u001b[0;34m\u001b[0m\u001b[0;34m\u001b[0m\u001b[0m\n\u001b[0;32m--> 599\u001b[0;31m       \u001b[0;32mreturn\u001b[0m \u001b[0mself\u001b[0m\u001b[0;34m.\u001b[0m\u001b[0m_stateless_fn\u001b[0m\u001b[0;34m(\u001b[0m\u001b[0;34m*\u001b[0m\u001b[0margs\u001b[0m\u001b[0;34m,\u001b[0m \u001b[0;34m**\u001b[0m\u001b[0mkwds\u001b[0m\u001b[0;34m)\u001b[0m  \u001b[0;31m# pylint: disable=not-callable\u001b[0m\u001b[0;34m\u001b[0m\u001b[0;34m\u001b[0m\u001b[0m\n\u001b[0m\u001b[1;32m    600\u001b[0m     \u001b[0;32melif\u001b[0m \u001b[0mself\u001b[0m\u001b[0;34m.\u001b[0m\u001b[0m_stateful_fn\u001b[0m \u001b[0;32mis\u001b[0m \u001b[0;32mnot\u001b[0m \u001b[0;32mNone\u001b[0m\u001b[0;34m:\u001b[0m\u001b[0;34m\u001b[0m\u001b[0;34m\u001b[0m\u001b[0m\n\u001b[1;32m    601\u001b[0m       \u001b[0;31m# Release the lock early so that multiple threads can perform the call\u001b[0m\u001b[0;34m\u001b[0m\u001b[0;34m\u001b[0m\u001b[0;34m\u001b[0m\u001b[0m\n",
      "\u001b[0;32m~/miniconda3/envs/ds/lib/python3.6/site-packages/tensorflow_core/python/eager/function.py\u001b[0m in \u001b[0;36m__call__\u001b[0;34m(self, *args, **kwargs)\u001b[0m\n\u001b[1;32m   2339\u001b[0m     \u001b[0;32mwith\u001b[0m \u001b[0mself\u001b[0m\u001b[0;34m.\u001b[0m\u001b[0m_lock\u001b[0m\u001b[0;34m:\u001b[0m\u001b[0;34m\u001b[0m\u001b[0;34m\u001b[0m\u001b[0m\n\u001b[1;32m   2340\u001b[0m       \u001b[0mgraph_function\u001b[0m\u001b[0;34m,\u001b[0m \u001b[0margs\u001b[0m\u001b[0;34m,\u001b[0m \u001b[0mkwargs\u001b[0m \u001b[0;34m=\u001b[0m \u001b[0mself\u001b[0m\u001b[0;34m.\u001b[0m\u001b[0m_maybe_define_function\u001b[0m\u001b[0;34m(\u001b[0m\u001b[0margs\u001b[0m\u001b[0;34m,\u001b[0m \u001b[0mkwargs\u001b[0m\u001b[0;34m)\u001b[0m\u001b[0;34m\u001b[0m\u001b[0;34m\u001b[0m\u001b[0m\n\u001b[0;32m-> 2341\u001b[0;31m     \u001b[0;32mreturn\u001b[0m \u001b[0mgraph_function\u001b[0m\u001b[0;34m.\u001b[0m\u001b[0m_filtered_call\u001b[0m\u001b[0;34m(\u001b[0m\u001b[0margs\u001b[0m\u001b[0;34m,\u001b[0m \u001b[0mkwargs\u001b[0m\u001b[0;34m)\u001b[0m  \u001b[0;31m# pylint: disable=protected-access\u001b[0m\u001b[0;34m\u001b[0m\u001b[0;34m\u001b[0m\u001b[0m\n\u001b[0m\u001b[1;32m   2342\u001b[0m \u001b[0;34m\u001b[0m\u001b[0m\n\u001b[1;32m   2343\u001b[0m   \u001b[0;34m@\u001b[0m\u001b[0mproperty\u001b[0m\u001b[0;34m\u001b[0m\u001b[0;34m\u001b[0m\u001b[0m\n",
      "\u001b[0;32m~/miniconda3/envs/ds/lib/python3.6/site-packages/tensorflow_core/python/eager/function.py\u001b[0m in \u001b[0;36m_filtered_call\u001b[0;34m(self, args, kwargs)\u001b[0m\n\u001b[1;32m   1587\u001b[0m          if isinstance(t, (ops.Tensor,\n\u001b[1;32m   1588\u001b[0m                            resource_variable_ops.BaseResourceVariable))),\n\u001b[0;32m-> 1589\u001b[0;31m         self.captured_inputs)\n\u001b[0m\u001b[1;32m   1590\u001b[0m \u001b[0;34m\u001b[0m\u001b[0m\n\u001b[1;32m   1591\u001b[0m   \u001b[0;32mdef\u001b[0m \u001b[0m_call_flat\u001b[0m\u001b[0;34m(\u001b[0m\u001b[0mself\u001b[0m\u001b[0;34m,\u001b[0m \u001b[0margs\u001b[0m\u001b[0;34m,\u001b[0m \u001b[0mcaptured_inputs\u001b[0m\u001b[0;34m,\u001b[0m \u001b[0mcancellation_manager\u001b[0m\u001b[0;34m=\u001b[0m\u001b[0;32mNone\u001b[0m\u001b[0;34m)\u001b[0m\u001b[0;34m:\u001b[0m\u001b[0;34m\u001b[0m\u001b[0;34m\u001b[0m\u001b[0m\n",
      "\u001b[0;32m~/miniconda3/envs/ds/lib/python3.6/site-packages/tensorflow_core/python/eager/function.py\u001b[0m in \u001b[0;36m_call_flat\u001b[0;34m(self, args, captured_inputs, cancellation_manager)\u001b[0m\n\u001b[1;32m   1668\u001b[0m       \u001b[0;31m# No tape is watching; skip to running the function.\u001b[0m\u001b[0;34m\u001b[0m\u001b[0;34m\u001b[0m\u001b[0;34m\u001b[0m\u001b[0m\n\u001b[1;32m   1669\u001b[0m       return self._build_call_outputs(self._inference_function.call(\n\u001b[0;32m-> 1670\u001b[0;31m           ctx, args, cancellation_manager=cancellation_manager))\n\u001b[0m\u001b[1;32m   1671\u001b[0m     forward_backward = self._select_forward_and_backward_functions(\n\u001b[1;32m   1672\u001b[0m         \u001b[0margs\u001b[0m\u001b[0;34m,\u001b[0m\u001b[0;34m\u001b[0m\u001b[0;34m\u001b[0m\u001b[0m\n",
      "\u001b[0;32m~/miniconda3/envs/ds/lib/python3.6/site-packages/tensorflow_core/python/eager/function.py\u001b[0m in \u001b[0;36mcall\u001b[0;34m(self, ctx, args, cancellation_manager)\u001b[0m\n\u001b[1;32m    521\u001b[0m               \u001b[0minputs\u001b[0m\u001b[0;34m=\u001b[0m\u001b[0margs\u001b[0m\u001b[0;34m,\u001b[0m\u001b[0;34m\u001b[0m\u001b[0;34m\u001b[0m\u001b[0m\n\u001b[1;32m    522\u001b[0m               \u001b[0mattrs\u001b[0m\u001b[0;34m=\u001b[0m\u001b[0;34m(\u001b[0m\u001b[0;34m\"executor_type\"\u001b[0m\u001b[0;34m,\u001b[0m \u001b[0mexecutor_type\u001b[0m\u001b[0;34m,\u001b[0m \u001b[0;34m\"config_proto\"\u001b[0m\u001b[0;34m,\u001b[0m \u001b[0mconfig\u001b[0m\u001b[0;34m)\u001b[0m\u001b[0;34m,\u001b[0m\u001b[0;34m\u001b[0m\u001b[0;34m\u001b[0m\u001b[0m\n\u001b[0;32m--> 523\u001b[0;31m               ctx=ctx)\n\u001b[0m\u001b[1;32m    524\u001b[0m         \u001b[0;32melse\u001b[0m\u001b[0;34m:\u001b[0m\u001b[0;34m\u001b[0m\u001b[0;34m\u001b[0m\u001b[0m\n\u001b[1;32m    525\u001b[0m           outputs = execute.execute_with_cancellation(\n",
      "\u001b[0;32m~/miniconda3/envs/ds/lib/python3.6/site-packages/tensorflow_core/python/eager/execute.py\u001b[0m in \u001b[0;36mquick_execute\u001b[0;34m(op_name, num_outputs, inputs, attrs, ctx, name)\u001b[0m\n\u001b[1;32m     59\u001b[0m     tensors = pywrap_tensorflow.TFE_Py_Execute(ctx._handle, device_name,\n\u001b[1;32m     60\u001b[0m                                                \u001b[0mop_name\u001b[0m\u001b[0;34m,\u001b[0m \u001b[0minputs\u001b[0m\u001b[0;34m,\u001b[0m \u001b[0mattrs\u001b[0m\u001b[0;34m,\u001b[0m\u001b[0;34m\u001b[0m\u001b[0;34m\u001b[0m\u001b[0m\n\u001b[0;32m---> 61\u001b[0;31m                                                num_outputs)\n\u001b[0m\u001b[1;32m     62\u001b[0m   \u001b[0;32mexcept\u001b[0m \u001b[0mcore\u001b[0m\u001b[0;34m.\u001b[0m\u001b[0m_NotOkStatusException\u001b[0m \u001b[0;32mas\u001b[0m \u001b[0me\u001b[0m\u001b[0;34m:\u001b[0m\u001b[0;34m\u001b[0m\u001b[0;34m\u001b[0m\u001b[0m\n\u001b[1;32m     63\u001b[0m     \u001b[0;32mif\u001b[0m \u001b[0mname\u001b[0m \u001b[0;32mis\u001b[0m \u001b[0;32mnot\u001b[0m \u001b[0;32mNone\u001b[0m\u001b[0;34m:\u001b[0m\u001b[0;34m\u001b[0m\u001b[0;34m\u001b[0m\u001b[0m\n",
      "\u001b[0;31mKeyboardInterrupt\u001b[0m: "
     ]
    }
   ],
   "source": [
    "tuner.search(x=X_train,\n",
    "             y=y_train,\n",
    "             epochs=10,\n",
    "             batch_size=128,\n",
    "             validation_data=(X_val, y_val), steps_per_epoch=500)"
   ]
  },
  {
   "cell_type": "code",
   "execution_count": 37,
   "metadata": {},
   "outputs": [],
   "source": [
    "def evaluate_naive_method(X, y_true): \n",
    "    y_pred = X[:, -1, 1]\n",
    "    return np.mean(np.abs(y_pred - y_true))"
   ]
  },
  {
   "cell_type": "code",
   "execution_count": 38,
   "metadata": {},
   "outputs": [
    {
     "data": {
      "text/plain": [
       "0.27681210142182566"
      ]
     },
     "execution_count": 38,
     "metadata": {},
     "output_type": "execute_result"
    }
   ],
   "source": [
    "evaluate_naive_method(X_val, y_val)"
   ]
  },
  {
   "cell_type": "code",
   "execution_count": 32,
   "metadata": {},
   "outputs": [],
   "source": [
    "# %matplotlib inline\n",
    "# import matplotlib.pyplot as plt"
   ]
  },
  {
   "cell_type": "code",
   "execution_count": 23,
   "metadata": {},
   "outputs": [],
   "source": [
    "# def build_gru(hidden_units, dropout, recurrent_dropout, learning_rate):\n",
    "    \n",
    "#     from numpy.random import seed\n",
    "#     seed(1)\n",
    "#     import tensorflow\n",
    "#     tensorflow.random.set_seed(2)\n",
    "#     model = keras.Sequential()\n",
    "#     model.add(layers.GRU(\n",
    "#         hidden_units,\n",
    "#         dropout=dropout,\n",
    "#         recurrent_dropout=recurrent_dropout,\n",
    "#         input_shape=(X_rnn.shape[1], X_rnn.shape[-1])))\n",
    "#     model.add(layers.Dense(1))\n",
    "\n",
    "#     model.compile(optimizer=keras.optimizers.RMSprop(learning_rate), \n",
    "#                   loss='mae') # metric=['mae'])\n",
    "#     return model\n"
   ]
  },
  {
   "cell_type": "code",
   "execution_count": 24,
   "metadata": {},
   "outputs": [],
   "source": [
    "# gru = build_gru(32, 0.2, 0.2, 0.000001)"
   ]
  },
  {
   "cell_type": "code",
   "execution_count": 39,
   "metadata": {},
   "outputs": [],
   "source": [
    "# gru.summary()"
   ]
  }
 ],
 "metadata": {
  "colab": {
   "include_colab_link": true,
   "name": "test.ipynb",
   "provenance": []
  },
  "kernelspec": {
   "display_name": "Python 3",
   "language": "python",
   "name": "python3"
  },
  "language_info": {
   "codemirror_mode": {
    "name": "ipython",
    "version": 3
   },
   "file_extension": ".py",
   "mimetype": "text/x-python",
   "name": "python",
   "nbconvert_exporter": "python",
   "pygments_lexer": "ipython3",
   "version": "3.6.8"
  }
 },
 "nbformat": 4,
 "nbformat_minor": 4
}
